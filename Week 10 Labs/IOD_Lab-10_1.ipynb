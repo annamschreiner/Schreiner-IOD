{
 "cells": [
  {
   "cell_type": "markdown",
   "metadata": {
    "colab_type": "text",
    "id": "gn3SG1yo1KdV"
   },
   "source": [
    "<div>\n",
    "<img src=https://www.institutedata.com/wp-content/uploads/2019/10/iod_h_tp_primary_c.svg width=\"300\">\n",
    "</div>"
   ]
  },
  {
   "cell_type": "markdown",
   "metadata": {
    "colab_type": "text",
    "id": "g-SD7a9X1KdY"
   },
   "source": [
    "# Lab 10.1: NN with Keras\n",
    "INSTRUCTIONS:\n",
    "- Read the guides and hints, then create the necessary analysis and code to find an answer and conclusion for the task below.\n",
    "- **NOTE**: This is a Regression problem. Consider the appropriate:\n",
    "    - Activation function\n",
    "    - Loss/Cost Function\n",
    "    - Metrics"
   ]
  },
  {
   "cell_type": "markdown",
   "metadata": {
    "colab_type": "text",
    "id": "ENgfRnvL1Kdc"
   },
   "source": [
    "### Import libraries"
   ]
  },
  {
   "cell_type": "code",
   "execution_count": 4,
   "metadata": {},
   "outputs": [
    {
     "name": "stdout",
     "output_type": "stream",
     "text": [
      "Collecting tensorflow\n",
      "  Downloading tensorflow-2.3.0-cp38-cp38-macosx_10_11_x86_64.whl (165.2 MB)\n",
      "\u001b[K     |████████████████████████████████| 165.2 MB 27 kB/s  eta 0:00:01   |                                | 204 kB 1.4 MB/s eta 0:01:55     |█▌                              | 7.5 MB 1.5 MB/s eta 0:01:42     |██▏                             | 11.3 MB 1.2 MB/s eta 0:02:06     |██▋                             | 13.7 MB 1.4 MB/s eta 0:01:49     |███                             | 15.6 MB 1.3 MB/s eta 0:01:54     |███▋                            | 18.6 MB 1.3 MB/s eta 0:01:51     |████▊                           | 24.6 MB 1.4 MB/s eta 0:01:41     |█████▏                          | 26.8 MB 1.3 MB/s eta 0:01:45     |█████▋                          | 28.8 MB 1.6 MB/s eta 0:01:28     |███████▎                        | 37.5 MB 1.3 MB/s eta 0:01:39     |█████████▉                      | 50.7 MB 1.6 MB/s eta 0:01:14     |███████████▍                    | 58.6 MB 511 kB/s eta 0:03:29     |███████████▋                    | 59.8 MB 511 kB/s eta 0:03:27     |████████████                    | 61.9 MB 1.3 MB/s eta 0:01:18     |████████████▍                   | 63.9 MB 1.2 MB/s eta 0:01:23     |████████████▍                   | 64.0 MB 1.2 MB/s eta 0:01:23     |█████████████                   | 67.3 MB 1.3 MB/s eta 0:01:14     |█████████████▏                  | 67.7 MB 2.3 MB/s eta 0:00:43     |█████████████▍                  | 69.3 MB 920 kB/s eta 0:01:45     |█████████████████▋              | 90.8 MB 1.5 MB/s eta 0:00:50     |██████████████████▍             | 94.7 MB 1.0 MB/s eta 0:01:10     |███████████████████             | 98.2 MB 1.5 MB/s eta 0:00:44     |███████████████████▎            | 99.6 MB 1.7 MB/s eta 0:00:39     |███████████████████▌            | 100.4 MB 1.7 MB/s eta 0:00:38     |████████████████████▊           | 106.7 MB 1.6 MB/s eta 0:00:37     |████████████████████████▎       | 125.4 MB 1.5 MB/s eta 0:00:26     |██████████████████████████▎     | 135.7 MB 709 kB/s eta 0:00:42     |██████████████████████████▍     | 135.9 MB 709 kB/s eta 0:00:42     |██████████████████████████▉     | 138.5 MB 1.5 MB/s eta 0:00:18     |████████████████████████████▌   | 146.9 MB 1.5 MB/s eta 0:00:13     |█████████████████████████████   | 149.9 MB 1.6 MB/s eta 0:00:10     |█████████████████████████████▍  | 151.8 MB 1.1 MB/s eta 0:00:13     |█████████████████████████████▌  | 152.3 MB 1.1 MB/s eta 0:00:12     |█████████████████████████████▋  | 152.7 MB 1.3 MB/s eta 0:00:10     |██████████████████████████████  | 155.2 MB 1.3 MB/s eta 0:00:08     |██████████████████████████████▍ | 156.7 MB 1.3 MB/s eta 0:00:07     |██████████████████████████████▌ | 157.2 MB 1.3 MB/s eta 0:00:06     |███████████████████████████████ | 159.8 MB 898 kB/s eta 0:00:06     |███████████████████████████████▏| 161.0 MB 1.5 MB/s eta 0:00:03     |███████████████████████████████▋| 163.2 MB 631 kB/s eta 0:00:04\n",
      "\u001b[?25hCollecting gast==0.3.3\n",
      "  Downloading gast-0.3.3-py2.py3-none-any.whl (9.7 kB)\n",
      "Collecting astunparse==1.6.3\n",
      "  Downloading astunparse-1.6.3-py2.py3-none-any.whl (12 kB)\n",
      "Requirement already satisfied, skipping upgrade: wheel>=0.26 in /Users/annaschreiner/opt/anaconda3/lib/python3.8/site-packages (from tensorflow) (0.34.2)\n",
      "Requirement already satisfied, skipping upgrade: grpcio>=1.8.6 in /Users/annaschreiner/opt/anaconda3/lib/python3.8/site-packages (from tensorflow) (1.30.0)\n",
      "Requirement already satisfied, skipping upgrade: protobuf>=3.9.2 in /Users/annaschreiner/opt/anaconda3/lib/python3.8/site-packages (from tensorflow) (3.12.3)\n",
      "Collecting scipy==1.4.1\n",
      "  Downloading scipy-1.4.1-cp38-cp38-macosx_10_9_x86_64.whl (28.8 MB)\n",
      "\u001b[K     |████████████████████████████████| 28.8 MB 127 kB/s eta 0:00:01    |▋                               | 532 kB 1.4 MB/s eta 0:00:20     |███▎                            | 2.9 MB 1.5 MB/s eta 0:00:18     |█████████▏                      | 8.2 MB 1.2 MB/s eta 0:00:18     |██████████▉                     | 9.7 MB 1.5 MB/s eta 0:00:13     |███████████▏                    | 10.1 MB 1.5 MB/s eta 0:00:13     |████████████▉                   | 11.6 MB 1.4 MB/s eta 0:00:13     |█████████████▊                  | 12.3 MB 1.5 MB/s eta 0:00:11     |████████████████████████▎       | 21.9 MB 808 kB/s eta 0:00:09     |███████████████████████████████▋| 28.5 MB 308 kB/s eta 0:00:01\n",
      "\u001b[?25hRequirement already satisfied, skipping upgrade: h5py<2.11.0,>=2.10.0 in /Users/annaschreiner/opt/anaconda3/lib/python3.8/site-packages (from tensorflow) (2.10.0)\n",
      "Collecting google-pasta>=0.1.8\n",
      "  Downloading google_pasta-0.2.0-py3-none-any.whl (57 kB)\n",
      "\u001b[K     |████████████████████████████████| 57 kB 714 kB/s eta 0:00:01\n",
      "\u001b[?25hCollecting termcolor>=1.1.0\n",
      "  Downloading termcolor-1.1.0.tar.gz (3.9 kB)\n",
      "Requirement already satisfied, skipping upgrade: six>=1.12.0 in /Users/annaschreiner/opt/anaconda3/lib/python3.8/site-packages (from tensorflow) (1.15.0)\n",
      "Collecting tensorflow-estimator<2.4.0,>=2.3.0\n",
      "  Downloading tensorflow_estimator-2.3.0-py2.py3-none-any.whl (459 kB)\n",
      "\u001b[K     |████████████████████████████████| 459 kB 1.2 MB/s eta 0:00:01\n",
      "\u001b[?25hCollecting tensorboard<3,>=2.3.0\n",
      "  Downloading tensorboard-2.4.0-py3-none-any.whl (10.6 MB)\n",
      "\u001b[K     |████████████████████████████████| 10.6 MB 558 kB/s eta 0:00:01    |███████▏                        | 2.4 MB 1.2 MB/s eta 0:00:07     |████████▋                       | 2.9 MB 1.2 MB/s eta 0:00:07     |██████████████                  | 4.7 MB 1.5 MB/s eta 0:00:04     |████████████████████████▋       | 8.2 MB 195 kB/s eta 0:00:13     |████████████████████████████████| 10.6 MB 558 kB/s \n",
      "\u001b[?25hRequirement already satisfied, skipping upgrade: wrapt>=1.11.1 in /Users/annaschreiner/opt/anaconda3/lib/python3.8/site-packages (from tensorflow) (1.11.2)\n",
      "Collecting opt-einsum>=2.3.2\n",
      "  Downloading opt_einsum-3.3.0-py3-none-any.whl (65 kB)\n",
      "\u001b[K     |████████████████████████████████| 65 kB 1.2 MB/s eta 0:00:01\n",
      "\u001b[?25hCollecting absl-py>=0.7.0\n",
      "  Downloading absl_py-0.11.0-py3-none-any.whl (127 kB)\n",
      "\u001b[K     |████████████████████████████████| 127 kB 1.4 MB/s eta 0:00:01\n",
      "\u001b[?25hRequirement already satisfied, skipping upgrade: numpy<1.19.0,>=1.16.0 in /Users/annaschreiner/opt/anaconda3/lib/python3.8/site-packages (from tensorflow) (1.18.5)\n",
      "Collecting keras-preprocessing<1.2,>=1.1.1\n",
      "  Downloading Keras_Preprocessing-1.1.2-py2.py3-none-any.whl (42 kB)\n",
      "\u001b[K     |████████████████████████████████| 42 kB 702 kB/s eta 0:00:01\n",
      "\u001b[?25hRequirement already satisfied, skipping upgrade: setuptools in /Users/annaschreiner/opt/anaconda3/lib/python3.8/site-packages (from protobuf>=3.9.2->tensorflow) (49.2.0.post20200714)\n",
      "Requirement already satisfied, skipping upgrade: requests<3,>=2.21.0 in /Users/annaschreiner/opt/anaconda3/lib/python3.8/site-packages (from tensorboard<3,>=2.3.0->tensorflow) (2.24.0)\n",
      "Requirement already satisfied, skipping upgrade: google-auth<2,>=1.6.3 in /Users/annaschreiner/opt/anaconda3/lib/python3.8/site-packages (from tensorboard<3,>=2.3.0->tensorflow) (1.22.0)\n",
      "Collecting google-auth-oauthlib<0.5,>=0.4.1\n",
      "  Downloading google_auth_oauthlib-0.4.2-py2.py3-none-any.whl (18 kB)\n",
      "Collecting markdown>=2.6.8\n",
      "  Downloading Markdown-3.3.3-py3-none-any.whl (96 kB)\n",
      "\u001b[K     |████████████████████████████████| 96 kB 1.4 MB/s eta 0:00:01\n",
      "\u001b[?25hRequirement already satisfied, skipping upgrade: werkzeug>=0.11.15 in /Users/annaschreiner/opt/anaconda3/lib/python3.8/site-packages (from tensorboard<3,>=2.3.0->tensorflow) (1.0.1)\n",
      "Collecting tensorboard-plugin-wit>=1.6.0\n",
      "  Downloading tensorboard_plugin_wit-1.7.0-py3-none-any.whl (779 kB)\n",
      "\u001b[K     |████████████████████████████████| 779 kB 1.5 MB/s eta 0:00:01\n",
      "\u001b[?25hRequirement already satisfied, skipping upgrade: urllib3!=1.25.0,!=1.25.1,<1.26,>=1.21.1 in /Users/annaschreiner/opt/anaconda3/lib/python3.8/site-packages (from requests<3,>=2.21.0->tensorboard<3,>=2.3.0->tensorflow) (1.25.9)\n",
      "Requirement already satisfied, skipping upgrade: idna<3,>=2.5 in /Users/annaschreiner/opt/anaconda3/lib/python3.8/site-packages (from requests<3,>=2.21.0->tensorboard<3,>=2.3.0->tensorflow) (2.10)\n",
      "Requirement already satisfied, skipping upgrade: chardet<4,>=3.0.2 in /Users/annaschreiner/opt/anaconda3/lib/python3.8/site-packages (from requests<3,>=2.21.0->tensorboard<3,>=2.3.0->tensorflow) (3.0.4)\n",
      "Requirement already satisfied, skipping upgrade: certifi>=2017.4.17 in /Users/annaschreiner/opt/anaconda3/lib/python3.8/site-packages (from requests<3,>=2.21.0->tensorboard<3,>=2.3.0->tensorflow) (2020.6.20)\n"
     ]
    },
    {
     "name": "stdout",
     "output_type": "stream",
     "text": [
      "Requirement already satisfied, skipping upgrade: aiohttp<4.0.0dev,>=3.6.2; python_version >= \"3.6\" in /Users/annaschreiner/opt/anaconda3/lib/python3.8/site-packages (from google-auth<2,>=1.6.3->tensorboard<3,>=2.3.0->tensorflow) (3.6.2)\n",
      "Requirement already satisfied, skipping upgrade: rsa<5,>=3.1.4; python_version >= \"3.5\" in /Users/annaschreiner/opt/anaconda3/lib/python3.8/site-packages (from google-auth<2,>=1.6.3->tensorboard<3,>=2.3.0->tensorflow) (4.6)\n",
      "Requirement already satisfied, skipping upgrade: cachetools<5.0,>=2.0.0 in /Users/annaschreiner/opt/anaconda3/lib/python3.8/site-packages (from google-auth<2,>=1.6.3->tensorboard<3,>=2.3.0->tensorflow) (4.1.1)\n",
      "Requirement already satisfied, skipping upgrade: pyasn1-modules>=0.2.1 in /Users/annaschreiner/opt/anaconda3/lib/python3.8/site-packages (from google-auth<2,>=1.6.3->tensorboard<3,>=2.3.0->tensorflow) (0.2.7)\n",
      "Requirement already satisfied, skipping upgrade: requests-oauthlib>=0.7.0 in /Users/annaschreiner/opt/anaconda3/lib/python3.8/site-packages (from google-auth-oauthlib<0.5,>=0.4.1->tensorboard<3,>=2.3.0->tensorflow) (1.3.0)\n",
      "Requirement already satisfied, skipping upgrade: attrs>=17.3.0 in /Users/annaschreiner/opt/anaconda3/lib/python3.8/site-packages (from aiohttp<4.0.0dev,>=3.6.2; python_version >= \"3.6\"->google-auth<2,>=1.6.3->tensorboard<3,>=2.3.0->tensorflow) (19.3.0)\n",
      "Requirement already satisfied, skipping upgrade: async-timeout<4.0,>=3.0 in /Users/annaschreiner/opt/anaconda3/lib/python3.8/site-packages (from aiohttp<4.0.0dev,>=3.6.2; python_version >= \"3.6\"->google-auth<2,>=1.6.3->tensorboard<3,>=2.3.0->tensorflow) (3.0.1)\n",
      "Requirement already satisfied, skipping upgrade: yarl<2.0,>=1.0 in /Users/annaschreiner/opt/anaconda3/lib/python3.8/site-packages (from aiohttp<4.0.0dev,>=3.6.2; python_version >= \"3.6\"->google-auth<2,>=1.6.3->tensorboard<3,>=2.3.0->tensorflow) (1.6.0)\n",
      "Requirement already satisfied, skipping upgrade: multidict<5.0,>=4.5 in /Users/annaschreiner/opt/anaconda3/lib/python3.8/site-packages (from aiohttp<4.0.0dev,>=3.6.2; python_version >= \"3.6\"->google-auth<2,>=1.6.3->tensorboard<3,>=2.3.0->tensorflow) (4.7.5)\n",
      "Requirement already satisfied, skipping upgrade: pyasn1>=0.1.3 in /Users/annaschreiner/opt/anaconda3/lib/python3.8/site-packages (from rsa<5,>=3.1.4; python_version >= \"3.5\"->google-auth<2,>=1.6.3->tensorboard<3,>=2.3.0->tensorflow) (0.4.8)\n",
      "Requirement already satisfied, skipping upgrade: oauthlib>=3.0.0 in /Users/annaschreiner/opt/anaconda3/lib/python3.8/site-packages (from requests-oauthlib>=0.7.0->google-auth-oauthlib<0.5,>=0.4.1->tensorboard<3,>=2.3.0->tensorflow) (3.1.0)\n",
      "Building wheels for collected packages: termcolor\n",
      "  Building wheel for termcolor (setup.py) ... \u001b[?25ldone\n",
      "\u001b[?25h  Created wheel for termcolor: filename=termcolor-1.1.0-py3-none-any.whl size=4830 sha256=9717ea80c1c7b7d3264d150204aa578c154c207acd7a1f583090521ed6135483\n",
      "  Stored in directory: /Users/annaschreiner/Library/Caches/pip/wheels/a0/16/9c/5473df82468f958445479c59e784896fa24f4a5fc024b0f501\n",
      "Successfully built termcolor\n",
      "Installing collected packages: gast, astunparse, scipy, google-pasta, termcolor, tensorflow-estimator, google-auth-oauthlib, absl-py, markdown, tensorboard-plugin-wit, tensorboard, opt-einsum, keras-preprocessing, tensorflow\n",
      "  Attempting uninstall: scipy\n",
      "    Found existing installation: scipy 1.5.0\n",
      "    Uninstalling scipy-1.5.0:\n",
      "      Successfully uninstalled scipy-1.5.0\n",
      "Successfully installed absl-py-0.11.0 astunparse-1.6.3 gast-0.3.3 google-auth-oauthlib-0.4.2 google-pasta-0.2.0 keras-preprocessing-1.1.2 markdown-3.3.3 opt-einsum-3.3.0 scipy-1.4.1 tensorboard-2.4.0 tensorboard-plugin-wit-1.7.0 tensorflow-2.3.0 tensorflow-estimator-2.3.0 termcolor-1.1.0\n"
     ]
    }
   ],
   "source": [
    "! pip3 install --upgrade tensorflow"
   ]
  },
  {
   "cell_type": "code",
   "execution_count": 8,
   "metadata": {},
   "outputs": [
    {
     "name": "stdout",
     "output_type": "stream",
     "text": [
      "Collecting keras\n",
      "  Downloading Keras-2.4.3-py2.py3-none-any.whl (36 kB)\n",
      "Requirement already satisfied: numpy>=1.9.1 in /Users/annaschreiner/opt/anaconda3/lib/python3.8/site-packages (from keras) (1.18.5)\n",
      "Requirement already satisfied: h5py in /Users/annaschreiner/opt/anaconda3/lib/python3.8/site-packages (from keras) (2.10.0)\n",
      "Requirement already satisfied: pyyaml in /Users/annaschreiner/opt/anaconda3/lib/python3.8/site-packages (from keras) (5.3.1)\n",
      "Requirement already satisfied: scipy>=0.14 in /Users/annaschreiner/opt/anaconda3/lib/python3.8/site-packages (from keras) (1.4.1)\n",
      "Requirement already satisfied: six in /Users/annaschreiner/opt/anaconda3/lib/python3.8/site-packages (from h5py->keras) (1.15.0)\n",
      "Installing collected packages: keras\n",
      "Successfully installed keras-2.4.3\n"
     ]
    }
   ],
   "source": [
    "! pip install keras"
   ]
  },
  {
   "cell_type": "code",
   "execution_count": 9,
   "metadata": {},
   "outputs": [
    {
     "name": "stdout",
     "output_type": "stream",
     "text": [
      "Keras version:  2.4.0\n",
      "Tensorflow version:  2.3.0\n"
     ]
    }
   ],
   "source": [
    "# Check keras and tensorflow versions\n",
    "# import keras\n",
    "import tensorflow as tf\n",
    "# import keras from tf\n",
    "from tensorflow import keras\n",
    "\n",
    "print(\"Keras version: \", keras.__version__)\n",
    "print(\"Tensorflow version: \", tf.__version__)"
   ]
  },
  {
   "cell_type": "code",
   "execution_count": 22,
   "metadata": {
    "colab": {},
    "colab_type": "code",
    "id": "Z9H465X-1Kde"
   },
   "outputs": [],
   "source": [
    "# insert code here\n",
    "## Import libraries\n",
    "import numpy as np\n",
    "import pandas as pd\n",
    "\n",
    "%matplotlib inline\n",
    "import matplotlib.pyplot as plt\n",
    "\n",
    "from sklearn.datasets import load_diabetes\n",
    "from sklearn.metrics import confusion_matrix\n",
    "from sklearn.model_selection import train_test_split\n",
    "\n",
    "# import keras\n",
    "from keras.models import Sequential\n",
    "from keras.layers import Dense\n",
    "from keras.utils import to_categorical"
   ]
  },
  {
   "cell_type": "markdown",
   "metadata": {
    "colab_type": "text",
    "id": "5FHh910J1Kdm"
   },
   "source": [
    "### Load data\n",
    "Load the Diabetes dataset from **SciKit-Learn**."
   ]
  },
  {
   "cell_type": "code",
   "execution_count": 15,
   "metadata": {
    "colab": {},
    "colab_type": "code",
    "id": "MWu8SlQF1Kdo"
   },
   "outputs": [],
   "source": [
    "# insert code here\n",
    "diabetes = load_diabetes()"
   ]
  },
  {
   "cell_type": "code",
   "execution_count": 16,
   "metadata": {},
   "outputs": [
    {
     "name": "stdout",
     "output_type": "stream",
     "text": [
      ".. _diabetes_dataset:\n",
      "\n",
      "Diabetes dataset\n",
      "----------------\n",
      "\n",
      "Ten baseline variables, age, sex, body mass index, average blood\n",
      "pressure, and six blood serum measurements were obtained for each of n =\n",
      "442 diabetes patients, as well as the response of interest, a\n",
      "quantitative measure of disease progression one year after baseline.\n",
      "\n",
      "**Data Set Characteristics:**\n",
      "\n",
      "  :Number of Instances: 442\n",
      "\n",
      "  :Number of Attributes: First 10 columns are numeric predictive values\n",
      "\n",
      "  :Target: Column 11 is a quantitative measure of disease progression one year after baseline\n",
      "\n",
      "  :Attribute Information:\n",
      "      - age     age in years\n",
      "      - sex\n",
      "      - bmi     body mass index\n",
      "      - bp      average blood pressure\n",
      "      - s1      tc, T-Cells (a type of white blood cells)\n",
      "      - s2      ldl, low-density lipoproteins\n",
      "      - s3      hdl, high-density lipoproteins\n",
      "      - s4      tch, thyroid stimulating hormone\n",
      "      - s5      ltg, lamotrigine\n",
      "      - s6      glu, blood sugar level\n",
      "\n",
      "Note: Each of these 10 feature variables have been mean centered and scaled by the standard deviation times `n_samples` (i.e. the sum of squares of each column totals 1).\n",
      "\n",
      "Source URL:\n",
      "https://www4.stat.ncsu.edu/~boos/var.select/diabetes.html\n",
      "\n",
      "For more information see:\n",
      "Bradley Efron, Trevor Hastie, Iain Johnstone and Robert Tibshirani (2004) \"Least Angle Regression,\" Annals of Statistics (with discussion), 407-499.\n",
      "(https://web.stanford.edu/~hastie/Papers/LARS/LeastAngle_2002.pdf)\n"
     ]
    }
   ],
   "source": [
    "print(diabetes.DESCR)"
   ]
  },
  {
   "cell_type": "code",
   "execution_count": 29,
   "metadata": {},
   "outputs": [
    {
     "data": {
      "text/html": [
       "<div>\n",
       "<style scoped>\n",
       "    .dataframe tbody tr th:only-of-type {\n",
       "        vertical-align: middle;\n",
       "    }\n",
       "\n",
       "    .dataframe tbody tr th {\n",
       "        vertical-align: top;\n",
       "    }\n",
       "\n",
       "    .dataframe thead th {\n",
       "        text-align: right;\n",
       "    }\n",
       "</style>\n",
       "<table border=\"1\" class=\"dataframe\">\n",
       "  <thead>\n",
       "    <tr style=\"text-align: right;\">\n",
       "      <th></th>\n",
       "      <th>age</th>\n",
       "      <th>sex</th>\n",
       "      <th>bmi</th>\n",
       "      <th>bp</th>\n",
       "      <th>s1</th>\n",
       "      <th>s2</th>\n",
       "      <th>s3</th>\n",
       "      <th>s4</th>\n",
       "      <th>s5</th>\n",
       "      <th>s6</th>\n",
       "      <th>target</th>\n",
       "    </tr>\n",
       "  </thead>\n",
       "  <tbody>\n",
       "    <tr>\n",
       "      <th>0</th>\n",
       "      <td>0.038076</td>\n",
       "      <td>0.050680</td>\n",
       "      <td>0.061696</td>\n",
       "      <td>0.021872</td>\n",
       "      <td>-0.044223</td>\n",
       "      <td>-0.034821</td>\n",
       "      <td>-0.043401</td>\n",
       "      <td>-0.002592</td>\n",
       "      <td>0.019908</td>\n",
       "      <td>-0.017646</td>\n",
       "      <td>151.0</td>\n",
       "    </tr>\n",
       "    <tr>\n",
       "      <th>1</th>\n",
       "      <td>-0.001882</td>\n",
       "      <td>-0.044642</td>\n",
       "      <td>-0.051474</td>\n",
       "      <td>-0.026328</td>\n",
       "      <td>-0.008449</td>\n",
       "      <td>-0.019163</td>\n",
       "      <td>0.074412</td>\n",
       "      <td>-0.039493</td>\n",
       "      <td>-0.068330</td>\n",
       "      <td>-0.092204</td>\n",
       "      <td>75.0</td>\n",
       "    </tr>\n",
       "    <tr>\n",
       "      <th>2</th>\n",
       "      <td>0.085299</td>\n",
       "      <td>0.050680</td>\n",
       "      <td>0.044451</td>\n",
       "      <td>-0.005671</td>\n",
       "      <td>-0.045599</td>\n",
       "      <td>-0.034194</td>\n",
       "      <td>-0.032356</td>\n",
       "      <td>-0.002592</td>\n",
       "      <td>0.002864</td>\n",
       "      <td>-0.025930</td>\n",
       "      <td>141.0</td>\n",
       "    </tr>\n",
       "    <tr>\n",
       "      <th>3</th>\n",
       "      <td>-0.089063</td>\n",
       "      <td>-0.044642</td>\n",
       "      <td>-0.011595</td>\n",
       "      <td>-0.036656</td>\n",
       "      <td>0.012191</td>\n",
       "      <td>0.024991</td>\n",
       "      <td>-0.036038</td>\n",
       "      <td>0.034309</td>\n",
       "      <td>0.022692</td>\n",
       "      <td>-0.009362</td>\n",
       "      <td>206.0</td>\n",
       "    </tr>\n",
       "    <tr>\n",
       "      <th>4</th>\n",
       "      <td>0.005383</td>\n",
       "      <td>-0.044642</td>\n",
       "      <td>-0.036385</td>\n",
       "      <td>0.021872</td>\n",
       "      <td>0.003935</td>\n",
       "      <td>0.015596</td>\n",
       "      <td>0.008142</td>\n",
       "      <td>-0.002592</td>\n",
       "      <td>-0.031991</td>\n",
       "      <td>-0.046641</td>\n",
       "      <td>135.0</td>\n",
       "    </tr>\n",
       "  </tbody>\n",
       "</table>\n",
       "</div>"
      ],
      "text/plain": [
       "        age       sex       bmi        bp        s1        s2        s3  \\\n",
       "0  0.038076  0.050680  0.061696  0.021872 -0.044223 -0.034821 -0.043401   \n",
       "1 -0.001882 -0.044642 -0.051474 -0.026328 -0.008449 -0.019163  0.074412   \n",
       "2  0.085299  0.050680  0.044451 -0.005671 -0.045599 -0.034194 -0.032356   \n",
       "3 -0.089063 -0.044642 -0.011595 -0.036656  0.012191  0.024991 -0.036038   \n",
       "4  0.005383 -0.044642 -0.036385  0.021872  0.003935  0.015596  0.008142   \n",
       "\n",
       "         s4        s5        s6  target  \n",
       "0 -0.002592  0.019908 -0.017646   151.0  \n",
       "1 -0.039493 -0.068330 -0.092204    75.0  \n",
       "2 -0.002592  0.002864 -0.025930   141.0  \n",
       "3  0.034309  0.022692 -0.009362   206.0  \n",
       "4 -0.002592 -0.031991 -0.046641   135.0  "
      ]
     },
     "execution_count": 29,
     "metadata": {},
     "output_type": "execute_result"
    }
   ],
   "source": [
    "# Load the diabetes dataset\n",
    " \n",
    "# Create dataframe\n",
    "df = pd.DataFrame(data=diabetes.data, columns=[\"age\",\"sex\",\"bmi\",\"bp\",\"s1\",\"s2\",\"s3\",\"s4\",\"s5\",\"s6\"])\n",
    " \n",
    "# Append target/ label data\n",
    "df[\"target\"] = diabetes.target\n",
    " \n",
    "# Check\n",
    "df.head()"
   ]
  },
  {
   "cell_type": "markdown",
   "metadata": {
    "colab_type": "text",
    "id": "xR_yLpR01Kdr"
   },
   "source": [
    "### Prepare input data"
   ]
  },
  {
   "cell_type": "code",
   "execution_count": 34,
   "metadata": {
    "colab": {},
    "colab_type": "code",
    "id": "Sp2mf2bB1Kds"
   },
   "outputs": [],
   "source": [
    "# insert code \n",
    "# input\n",
    "X = diabetes.data\n",
    "n_cols = X.shape[1]\n",
    "\n",
    "# output\n",
    "y = diabetes.target"
   ]
  },
  {
   "cell_type": "markdown",
   "metadata": {
    "colab_type": "text",
    "id": "j1Vsh6cm1Kdv"
   },
   "source": [
    "### Split the data (training/test)"
   ]
  },
  {
   "cell_type": "code",
   "execution_count": 32,
   "metadata": {
    "colab": {},
    "colab_type": "code",
    "id": "O341llJz1Kdw"
   },
   "outputs": [],
   "source": [
    "# insert code here\n",
    "X_train, X_test, y_train, y_test = train_test_split(\n",
    "    X, y, \n",
    "    test_size = 0.3,\n",
    "    random_state = 65)"
   ]
  },
  {
   "cell_type": "markdown",
   "metadata": {
    "colab_type": "text",
    "id": "o4dJViJD1Kd0"
   },
   "source": [
    "### Create the model's architecture"
   ]
  },
  {
   "cell_type": "code",
   "execution_count": 33,
   "metadata": {
    "colab": {},
    "colab_type": "code",
    "id": "Tkgf_BLl1Kd1"
   },
   "outputs": [],
   "source": [
    "# insert code here\n",
    "model = Sequential()"
   ]
  },
  {
   "cell_type": "code",
   "execution_count": 35,
   "metadata": {
    "colab": {},
    "colab_type": "code",
    "id": "BvLsoanF1Kd5"
   },
   "outputs": [],
   "source": [
    "# insert code here\n",
    "# Add the first hidden layer\n",
    "model.add(Dense(100, activation = 'relu', input_shape = (n_cols, )))\n",
    "# Add the second hidden layer\n",
    "model.add(Dense(50, activation = 'relu'))\n",
    "\n",
    "# Add the output layer\n",
    "model.add(Dense(10, activation = 'softmax'))"
   ]
  },
  {
   "cell_type": "code",
   "execution_count": 36,
   "metadata": {},
   "outputs": [
    {
     "name": "stdout",
     "output_type": "stream",
     "text": [
      "Model: \"sequential\"\n",
      "_________________________________________________________________\n",
      "Layer (type)                 Output Shape              Param #   \n",
      "=================================================================\n",
      "dense (Dense)                (None, 100)               1100      \n",
      "_________________________________________________________________\n",
      "dense_1 (Dense)              (None, 50)                5050      \n",
      "_________________________________________________________________\n",
      "dense_2 (Dense)              (None, 10)                510       \n",
      "=================================================================\n",
      "Total params: 6,660\n",
      "Trainable params: 6,660\n",
      "Non-trainable params: 0\n",
      "_________________________________________________________________\n",
      "None\n"
     ]
    }
   ],
   "source": [
    "print(model.summary())"
   ]
  },
  {
   "cell_type": "markdown",
   "metadata": {
    "colab_type": "text",
    "id": "5hQTS42V1Kd4"
   },
   "source": [
    "### Compile the model"
   ]
  },
  {
   "cell_type": "code",
   "execution_count": 37,
   "metadata": {},
   "outputs": [],
   "source": [
    "# Compile the model\n",
    "# note the appropiate metrics?\n",
    "model.compile(\n",
    "    optimizer = 'adam',\n",
    "    loss = 'mean_squared_error',\n",
    "    metrics = ['accuracy'])"
   ]
  },
  {
   "cell_type": "markdown",
   "metadata": {
    "colab_type": "text",
    "id": "6KPQbnEj1Kd7"
   },
   "source": [
    "### Fit the training data"
   ]
  },
  {
   "cell_type": "code",
   "execution_count": 38,
   "metadata": {
    "colab": {},
    "colab_type": "code",
    "id": "-oiuHjEj1Kd8"
   },
   "outputs": [
    {
     "name": "stdout",
     "output_type": "stream",
     "text": [
      "Epoch 1/100\n",
      "12/12 [==============================] - 1s 59ms/step - loss: 27777.1250 - accuracy: 0.0000e+00 - val_loss: 30882.4160 - val_accuracy: 0.0000e+00\n",
      "Epoch 2/100\n",
      "12/12 [==============================] - 0s 7ms/step - loss: 27777.1230 - accuracy: 0.0000e+00 - val_loss: 30882.4160 - val_accuracy: 0.0000e+00\n",
      "Epoch 3/100\n",
      "12/12 [==============================] - 0s 7ms/step - loss: 27777.1270 - accuracy: 0.0000e+00 - val_loss: 30882.4160 - val_accuracy: 0.0000e+00\n",
      "Epoch 4/100\n",
      "12/12 [==============================] - 0s 9ms/step - loss: 27777.1250 - accuracy: 0.0000e+00 - val_loss: 30882.4160 - val_accuracy: 0.0000e+00\n",
      "Epoch 5/100\n",
      "12/12 [==============================] - 0s 9ms/step - loss: 27777.1250 - accuracy: 0.0000e+00 - val_loss: 30882.4141 - val_accuracy: 0.0000e+00\n",
      "Epoch 6/100\n",
      "12/12 [==============================] - 0s 17ms/step - loss: 27777.1230 - accuracy: 0.0000e+00 - val_loss: 30882.4160 - val_accuracy: 0.0000e+00\n",
      "Epoch 7/100\n",
      "12/12 [==============================] - 0s 12ms/step - loss: 27777.1250 - accuracy: 0.0000e+00 - val_loss: 30882.4160 - val_accuracy: 0.0000e+00\n",
      "Epoch 8/100\n",
      "12/12 [==============================] - 0s 14ms/step - loss: 27777.1250 - accuracy: 0.0000e+00 - val_loss: 30882.4160 - val_accuracy: 0.0000e+00\n",
      "Epoch 9/100\n",
      "12/12 [==============================] - 0s 10ms/step - loss: 27777.1230 - accuracy: 0.0000e+00 - val_loss: 30882.4160 - val_accuracy: 0.0000e+00\n",
      "Epoch 10/100\n",
      "12/12 [==============================] - 0s 17ms/step - loss: 27777.1250 - accuracy: 0.0000e+00 - val_loss: 30882.4160 - val_accuracy: 0.0000e+00\n",
      "Epoch 11/100\n",
      "12/12 [==============================] - 0s 13ms/step - loss: 27777.1250 - accuracy: 0.0000e+00 - val_loss: 30882.4160 - val_accuracy: 0.0000e+00\n",
      "Epoch 12/100\n",
      "12/12 [==============================] - 0s 11ms/step - loss: 27777.1250 - accuracy: 0.0000e+00 - val_loss: 30882.4141 - val_accuracy: 0.0000e+00\n",
      "Epoch 13/100\n",
      "12/12 [==============================] - 0s 9ms/step - loss: 27777.1230 - accuracy: 0.0000e+00 - val_loss: 30882.4160 - val_accuracy: 0.0000e+00\n",
      "Epoch 14/100\n",
      "12/12 [==============================] - 0s 28ms/step - loss: 27777.1250 - accuracy: 0.0000e+00 - val_loss: 30882.4160 - val_accuracy: 0.0000e+00\n",
      "Epoch 15/100\n",
      "12/12 [==============================] - 0s 15ms/step - loss: 27777.1270 - accuracy: 0.0000e+00 - val_loss: 30882.4160 - val_accuracy: 0.0000e+00\n",
      "Epoch 16/100\n",
      "12/12 [==============================] - 0s 29ms/step - loss: 27777.1250 - accuracy: 0.0000e+00 - val_loss: 30882.4141 - val_accuracy: 0.0000e+00\n",
      "Epoch 17/100\n",
      "12/12 [==============================] - 0s 15ms/step - loss: 27777.1230 - accuracy: 0.0000e+00 - val_loss: 30882.4160 - val_accuracy: 0.0000e+00\n",
      "Epoch 18/100\n",
      "12/12 [==============================] - 0s 12ms/step - loss: 27777.1230 - accuracy: 0.0000e+00 - val_loss: 30882.4141 - val_accuracy: 0.0000e+00\n",
      "Epoch 19/100\n",
      "12/12 [==============================] - 0s 24ms/step - loss: 27777.1230 - accuracy: 0.0000e+00 - val_loss: 30882.4160 - val_accuracy: 0.0000e+00\n",
      "Epoch 20/100\n",
      "12/12 [==============================] - 1s 44ms/step - loss: 27777.1270 - accuracy: 0.0000e+00 - val_loss: 30882.4141 - val_accuracy: 0.0000e+00\n",
      "Epoch 21/100\n",
      "12/12 [==============================] - 0s 29ms/step - loss: 27777.1230 - accuracy: 0.0000e+00 - val_loss: 30882.4160 - val_accuracy: 0.0000e+00\n",
      "Epoch 22/100\n",
      "12/12 [==============================] - 0s 21ms/step - loss: 27777.1250 - accuracy: 0.0000e+00 - val_loss: 30882.4160 - val_accuracy: 0.0000e+00\n",
      "Epoch 23/100\n",
      "12/12 [==============================] - 0s 14ms/step - loss: 27777.1250 - accuracy: 0.0000e+00 - val_loss: 30882.4141 - val_accuracy: 0.0000e+00\n",
      "Epoch 24/100\n",
      "12/12 [==============================] - 0s 18ms/step - loss: 27777.1230 - accuracy: 0.0000e+00 - val_loss: 30882.4160 - val_accuracy: 0.0000e+00\n",
      "Epoch 25/100\n",
      "12/12 [==============================] - 0s 19ms/step - loss: 27777.1250 - accuracy: 0.0000e+00 - val_loss: 30882.4160 - val_accuracy: 0.0000e+00\n",
      "Epoch 26/100\n",
      "12/12 [==============================] - 0s 15ms/step - loss: 27777.1230 - accuracy: 0.0000e+00 - val_loss: 30882.4160 - val_accuracy: 0.0000e+00\n",
      "Epoch 27/100\n",
      "12/12 [==============================] - 0s 17ms/step - loss: 27777.1250 - accuracy: 0.0000e+00 - val_loss: 30882.4141 - val_accuracy: 0.0000e+00\n",
      "Epoch 28/100\n",
      "12/12 [==============================] - 0s 16ms/step - loss: 27777.1250 - accuracy: 0.0000e+00 - val_loss: 30882.4141 - val_accuracy: 0.0000e+00\n",
      "Epoch 29/100\n",
      "12/12 [==============================] - 0s 21ms/step - loss: 27777.1250 - accuracy: 0.0000e+00 - val_loss: 30882.4141 - val_accuracy: 0.0000e+00\n",
      "Epoch 30/100\n",
      "12/12 [==============================] - 0s 22ms/step - loss: 27777.1270 - accuracy: 0.0000e+00 - val_loss: 30882.4141 - val_accuracy: 0.0000e+00\n",
      "Epoch 31/100\n",
      "12/12 [==============================] - 0s 21ms/step - loss: 27777.1270 - accuracy: 0.0000e+00 - val_loss: 30882.4141 - val_accuracy: 0.0000e+00\n",
      "Epoch 32/100\n",
      "12/12 [==============================] - ETA: 0s - loss: 26026.5898 - accuracy: 0.0000e+ - 0s 16ms/step - loss: 27777.1250 - accuracy: 0.0000e+00 - val_loss: 30882.4141 - val_accuracy: 0.0000e+00\n",
      "Epoch 33/100\n",
      "12/12 [==============================] - 0s 17ms/step - loss: 27777.1270 - accuracy: 0.0000e+00 - val_loss: 30882.4141 - val_accuracy: 0.0000e+00\n",
      "Epoch 34/100\n",
      "12/12 [==============================] - 0s 12ms/step - loss: 27777.1230 - accuracy: 0.0000e+00 - val_loss: 30882.4141 - val_accuracy: 0.0000e+00\n",
      "Epoch 35/100\n",
      "12/12 [==============================] - 0s 14ms/step - loss: 27777.1230 - accuracy: 0.0000e+00 - val_loss: 30882.4141 - val_accuracy: 0.0000e+00\n",
      "Epoch 36/100\n",
      "12/12 [==============================] - 0s 24ms/step - loss: 27777.1250 - accuracy: 0.0000e+00 - val_loss: 30882.4141 - val_accuracy: 0.0000e+00\n",
      "Epoch 37/100\n",
      "12/12 [==============================] - 0s 18ms/step - loss: 27777.1270 - accuracy: 0.0000e+00 - val_loss: 30882.4141 - val_accuracy: 0.0000e+00\n",
      "Epoch 38/100\n",
      "12/12 [==============================] - 0s 21ms/step - loss: 27777.1250 - accuracy: 0.0000e+00 - val_loss: 30882.4141 - val_accuracy: 0.0000e+00\n",
      "Epoch 39/100\n",
      "12/12 [==============================] - 0s 17ms/step - loss: 27777.1230 - accuracy: 0.0000e+00 - val_loss: 30882.4141 - val_accuracy: 0.0000e+00\n",
      "Epoch 40/100\n",
      "12/12 [==============================] - 0s 13ms/step - loss: 27777.1270 - accuracy: 0.0000e+00 - val_loss: 30882.4141 - val_accuracy: 0.0000e+00\n",
      "Epoch 41/100\n",
      "12/12 [==============================] - 0s 11ms/step - loss: 27777.1250 - accuracy: 0.0000e+00 - val_loss: 30882.4160 - val_accuracy: 0.0000e+00\n",
      "Epoch 42/100\n",
      "12/12 [==============================] - 0s 22ms/step - loss: 27777.1230 - accuracy: 0.0000e+00 - val_loss: 30882.4141 - val_accuracy: 0.0000e+00\n",
      "Epoch 43/100\n",
      "12/12 [==============================] - 0s 30ms/step - loss: 27777.1270 - accuracy: 0.0000e+00 - val_loss: 30882.4141 - val_accuracy: 0.0000e+00\n",
      "Epoch 44/100\n",
      "12/12 [==============================] - 0s 11ms/step - loss: 27777.1250 - accuracy: 0.0000e+00 - val_loss: 30882.4141 - val_accuracy: 0.0000e+00\n",
      "Epoch 45/100\n",
      "12/12 [==============================] - 0s 12ms/step - loss: 27777.1250 - accuracy: 0.0000e+00 - val_loss: 30882.4141 - val_accuracy: 0.0000e+00\n",
      "Epoch 46/100\n",
      "12/12 [==============================] - 0s 26ms/step - loss: 27777.1250 - accuracy: 0.0000e+00 - val_loss: 30882.4141 - val_accuracy: 0.0000e+00\n",
      "Epoch 47/100\n",
      "12/12 [==============================] - 0s 21ms/step - loss: 27777.1230 - accuracy: 0.0000e+00 - val_loss: 30882.4102 - val_accuracy: 0.0000e+00\n",
      "Epoch 48/100\n",
      "12/12 [==============================] - 0s 10ms/step - loss: 27777.1270 - accuracy: 0.0000e+00 - val_loss: 30882.4102 - val_accuracy: 0.0000e+00\n",
      "Epoch 49/100\n",
      "12/12 [==============================] - 0s 22ms/step - loss: 27777.1230 - accuracy: 0.0000e+00 - val_loss: 30882.4102 - val_accuracy: 0.0000e+00\n",
      "Epoch 50/100\n",
      "12/12 [==============================] - 1s 43ms/step - loss: 27777.1250 - accuracy: 0.0000e+00 - val_loss: 30882.4102 - val_accuracy: 0.0000e+00\n",
      "Epoch 51/100\n",
      "12/12 [==============================] - 0s 24ms/step - loss: 27777.1230 - accuracy: 0.0000e+00 - val_loss: 30882.4102 - val_accuracy: 0.0000e+00\n",
      "Epoch 52/100\n"
     ]
    },
    {
     "name": "stdout",
     "output_type": "stream",
     "text": [
      "12/12 [==============================] - 0s 15ms/step - loss: 27777.1230 - accuracy: 0.0000e+00 - val_loss: 30882.4102 - val_accuracy: 0.0000e+00\n",
      "Epoch 53/100\n",
      "12/12 [==============================] - 0s 7ms/step - loss: 27777.1230 - accuracy: 0.0000e+00 - val_loss: 30882.4102 - val_accuracy: 0.0000e+00\n",
      "Epoch 54/100\n",
      "12/12 [==============================] - 0s 8ms/step - loss: 27777.1270 - accuracy: 0.0000e+00 - val_loss: 30882.4102 - val_accuracy: 0.0000e+00\n",
      "Epoch 55/100\n",
      "12/12 [==============================] - 0s 19ms/step - loss: 27777.1230 - accuracy: 0.0000e+00 - val_loss: 30882.4102 - val_accuracy: 0.0000e+00\n",
      "Epoch 56/100\n",
      "12/12 [==============================] - 0s 22ms/step - loss: 27777.1250 - accuracy: 0.0000e+00 - val_loss: 30882.4102 - val_accuracy: 0.0000e+00\n",
      "Epoch 57/100\n",
      "12/12 [==============================] - 0s 22ms/step - loss: 27777.1250 - accuracy: 0.0000e+00 - val_loss: 30882.4102 - val_accuracy: 0.0000e+00\n",
      "Epoch 58/100\n",
      "12/12 [==============================] - 0s 23ms/step - loss: 27777.1230 - accuracy: 0.0000e+00 - val_loss: 30882.4102 - val_accuracy: 0.0000e+00\n",
      "Epoch 59/100\n",
      "12/12 [==============================] - 0s 29ms/step - loss: 27777.1270 - accuracy: 0.0000e+00 - val_loss: 30882.4102 - val_accuracy: 0.0000e+00\n",
      "Epoch 60/100\n",
      "12/12 [==============================] - 0s 6ms/step - loss: 27777.1230 - accuracy: 0.0000e+00 - val_loss: 30882.4102 - val_accuracy: 0.0000e+00\n",
      "Epoch 61/100\n",
      "12/12 [==============================] - 0s 21ms/step - loss: 27777.1250 - accuracy: 0.0000e+00 - val_loss: 30882.4102 - val_accuracy: 0.0000e+00\n",
      "Epoch 62/100\n",
      "12/12 [==============================] - 0s 30ms/step - loss: 27777.1250 - accuracy: 0.0000e+00 - val_loss: 30882.4102 - val_accuracy: 0.0000e+00\n",
      "Epoch 63/100\n",
      "12/12 [==============================] - 0s 18ms/step - loss: 27777.1230 - accuracy: 0.0000e+00 - val_loss: 30882.4102 - val_accuracy: 0.0000e+00\n",
      "Epoch 64/100\n",
      "12/12 [==============================] - 0s 24ms/step - loss: 27777.1211 - accuracy: 0.0000e+00 - val_loss: 30882.4102 - val_accuracy: 0.0000e+00\n",
      "Epoch 65/100\n",
      "12/12 [==============================] - 0s 16ms/step - loss: 27777.1230 - accuracy: 0.0000e+00 - val_loss: 30882.4102 - val_accuracy: 0.0000e+00\n",
      "Epoch 66/100\n",
      "12/12 [==============================] - 0s 9ms/step - loss: 27777.1270 - accuracy: 0.0000e+00 - val_loss: 30882.4141 - val_accuracy: 0.0000e+00\n",
      "Epoch 67/100\n",
      "12/12 [==============================] - 0s 13ms/step - loss: 27777.1250 - accuracy: 0.0000e+00 - val_loss: 30882.4141 - val_accuracy: 0.0000e+00\n",
      "Epoch 68/100\n",
      "12/12 [==============================] - 0s 19ms/step - loss: 27777.1250 - accuracy: 0.0000e+00 - val_loss: 30882.4141 - val_accuracy: 0.0000e+00\n",
      "Epoch 69/100\n",
      "12/12 [==============================] - 0s 11ms/step - loss: 27777.1230 - accuracy: 0.0000e+00 - val_loss: 30882.4102 - val_accuracy: 0.0000e+00\n",
      "Epoch 70/100\n",
      "12/12 [==============================] - 0s 10ms/step - loss: 27777.1211 - accuracy: 0.0000e+00 - val_loss: 30882.4141 - val_accuracy: 0.0000e+00\n",
      "Epoch 71/100\n",
      "12/12 [==============================] - 0s 23ms/step - loss: 27777.1250 - accuracy: 0.0000e+00 - val_loss: 30882.4141 - val_accuracy: 0.0000e+00\n",
      "Epoch 72/100\n",
      "12/12 [==============================] - 0s 12ms/step - loss: 27777.1250 - accuracy: 0.0000e+00 - val_loss: 30882.4141 - val_accuracy: 0.0000e+00\n",
      "Epoch 73/100\n",
      "12/12 [==============================] - 0s 15ms/step - loss: 27777.1250 - accuracy: 0.0000e+00 - val_loss: 30882.4141 - val_accuracy: 0.0000e+00\n",
      "Epoch 74/100\n",
      "12/12 [==============================] - 0s 25ms/step - loss: 27777.1230 - accuracy: 0.0000e+00 - val_loss: 30882.4102 - val_accuracy: 0.0000e+00\n",
      "Epoch 75/100\n",
      "12/12 [==============================] - 0s 17ms/step - loss: 27777.1250 - accuracy: 0.0000e+00 - val_loss: 30882.4141 - val_accuracy: 0.0000e+00\n",
      "Epoch 76/100\n",
      "12/12 [==============================] - 0s 32ms/step - loss: 27777.1230 - accuracy: 0.0000e+00 - val_loss: 30882.4141 - val_accuracy: 0.0000e+00\n",
      "Epoch 77/100\n",
      "12/12 [==============================] - 0s 19ms/step - loss: 27777.1250 - accuracy: 0.0000e+00 - val_loss: 30882.4141 - val_accuracy: 0.0000e+00\n",
      "Epoch 78/100\n",
      "12/12 [==============================] - 0s 27ms/step - loss: 27777.1230 - accuracy: 0.0000e+00 - val_loss: 30882.4141 - val_accuracy: 0.0000e+00\n",
      "Epoch 79/100\n",
      "12/12 [==============================] - 0s 22ms/step - loss: 27777.1270 - accuracy: 0.0000e+00 - val_loss: 30882.4141 - val_accuracy: 0.0000e+00\n",
      "Epoch 80/100\n",
      "12/12 [==============================] - 0s 14ms/step - loss: 27777.1250 - accuracy: 0.0000e+00 - val_loss: 30882.4141 - val_accuracy: 0.0000e+00\n",
      "Epoch 81/100\n",
      "12/12 [==============================] - 0s 14ms/step - loss: 27777.1230 - accuracy: 0.0000e+00 - val_loss: 30882.4141 - val_accuracy: 0.0000e+00\n",
      "Epoch 82/100\n",
      "12/12 [==============================] - 0s 25ms/step - loss: 27777.1250 - accuracy: 0.0000e+00 - val_loss: 30882.4141 - val_accuracy: 0.0000e+00\n",
      "Epoch 83/100\n",
      "12/12 [==============================] - 0s 23ms/step - loss: 27777.1250 - accuracy: 0.0000e+00 - val_loss: 30882.4160 - val_accuracy: 0.0000e+00\n",
      "Epoch 84/100\n",
      "12/12 [==============================] - 0s 12ms/step - loss: 27777.1230 - accuracy: 0.0000e+00 - val_loss: 30882.4160 - val_accuracy: 0.0000e+00\n",
      "Epoch 85/100\n",
      "12/12 [==============================] - 0s 20ms/step - loss: 27777.1211 - accuracy: 0.0000e+00 - val_loss: 30882.4141 - val_accuracy: 0.0000e+00\n",
      "Epoch 86/100\n",
      "12/12 [==============================] - 0s 15ms/step - loss: 27777.1230 - accuracy: 0.0000e+00 - val_loss: 30882.4141 - val_accuracy: 0.0000e+00\n",
      "Epoch 87/100\n",
      "12/12 [==============================] - 0s 13ms/step - loss: 27777.1250 - accuracy: 0.0000e+00 - val_loss: 30882.4141 - val_accuracy: 0.0000e+00\n",
      "Epoch 88/100\n",
      "12/12 [==============================] - 0s 17ms/step - loss: 27777.1230 - accuracy: 0.0000e+00 - val_loss: 30882.4141 - val_accuracy: 0.0000e+00\n",
      "Epoch 89/100\n",
      "12/12 [==============================] - 0s 18ms/step - loss: 27777.1250 - accuracy: 0.0000e+00 - val_loss: 30882.4141 - val_accuracy: 0.0000e+00\n",
      "Epoch 90/100\n",
      "12/12 [==============================] - 0s 33ms/step - loss: 27777.1250 - accuracy: 0.0000e+00 - val_loss: 30882.4141 - val_accuracy: 0.0000e+00\n",
      "Epoch 91/100\n",
      "12/12 [==============================] - ETA: 0s - loss: 27777.1250 - accuracy: 0.0000e+ - 0s 15ms/step - loss: 27777.1250 - accuracy: 0.0000e+00 - val_loss: 30882.4141 - val_accuracy: 0.0000e+00\n",
      "Epoch 92/100\n",
      "12/12 [==============================] - 0s 11ms/step - loss: 27777.1250 - accuracy: 0.0000e+00 - val_loss: 30882.4141 - val_accuracy: 0.0000e+00\n",
      "Epoch 93/100\n",
      "12/12 [==============================] - 0s 13ms/step - loss: 27777.1230 - accuracy: 0.0000e+00 - val_loss: 30882.4141 - val_accuracy: 0.0000e+00\n",
      "Epoch 94/100\n",
      "12/12 [==============================] - 0s 18ms/step - loss: 27777.1230 - accuracy: 0.0000e+00 - val_loss: 30882.4141 - val_accuracy: 0.0000e+00\n",
      "Epoch 95/100\n",
      "12/12 [==============================] - 0s 14ms/step - loss: 27777.1250 - accuracy: 0.0000e+00 - val_loss: 30882.4141 - val_accuracy: 0.0000e+00\n",
      "Epoch 96/100\n",
      "12/12 [==============================] - 0s 18ms/step - loss: 27777.1250 - accuracy: 0.0000e+00 - val_loss: 30882.4141 - val_accuracy: 0.0000e+00\n",
      "Epoch 97/100\n",
      "12/12 [==============================] - 0s 16ms/step - loss: 27777.1230 - accuracy: 0.0000e+00 - val_loss: 30882.4141 - val_accuracy: 0.0000e+00\n",
      "Epoch 98/100\n",
      "12/12 [==============================] - 1s 48ms/step - loss: 27777.1230 - accuracy: 0.0000e+00 - val_loss: 30882.4141 - val_accuracy: 0.0000e+00\n",
      "Epoch 99/100\n",
      "12/12 [==============================] - 0s 22ms/step - loss: 27777.1270 - accuracy: 0.0000e+00 - val_loss: 30882.4141 - val_accuracy: 0.0000e+00\n",
      "Epoch 100/100\n",
      "12/12 [==============================] - 0s 23ms/step - loss: 27777.1250 - accuracy: 0.0000e+00 - val_loss: 30882.4141 - val_accuracy: 0.0000e+00\n",
      "CPU times: user 9.95 s, sys: 2.11 s, total: 12.1 s\n",
      "Wall time: 32.5 s\n"
     ]
    }
   ],
   "source": [
    "%%time\n",
    "# insert code here\n",
    "# Fit the model\n",
    "history = model.fit(\n",
    "    X_train,\n",
    "    y_train,\n",
    "    validation_split = 0.25,\n",
    "    batch_size = 20,\n",
    "    epochs = 100,\n",
    "    verbose = 1)"
   ]
  },
  {
   "cell_type": "markdown",
   "metadata": {
    "colab_type": "text",
    "id": "CR-kCu3c1Kd-"
   },
   "source": [
    "### Create predictions"
   ]
  },
  {
   "cell_type": "code",
   "execution_count": 39,
   "metadata": {
    "colab": {},
    "colab_type": "code",
    "id": "wkywKqPg1Kd-"
   },
   "outputs": [
    {
     "name": "stdout",
     "output_type": "stream",
     "text": [
      "WARNING:tensorflow:From <ipython-input-39-4b5e4a097399>:2: Sequential.predict_classes (from tensorflow.python.keras.engine.sequential) is deprecated and will be removed after 2021-01-01.\n",
      "Instructions for updating:\n",
      "Please use instead:* `np.argmax(model.predict(x), axis=-1)`,   if your model does multi-class classification   (e.g. if it uses a `softmax` last-layer activation).* `(model.predict(x) > 0.5).astype(\"int32\")`,   if your model does binary classification   (e.g. if it uses a `sigmoid` last-layer activation).\n"
     ]
    }
   ],
   "source": [
    "# insert code here\n",
    "predictions = model.predict_classes(X_test)"
   ]
  },
  {
   "cell_type": "markdown",
   "metadata": {
    "colab_type": "text",
    "id": "-unEmrGo1KeA"
   },
   "source": [
    "### Evaluate the model"
   ]
  },
  {
   "cell_type": "code",
   "execution_count": 40,
   "metadata": {
    "colab": {},
    "colab_type": "code",
    "id": "QCIVpVrG1KeB"
   },
   "outputs": [
    {
     "name": "stdout",
     "output_type": "stream",
     "text": [
      "1/1 [==============================] - 0s 10ms/step - loss: 30166.4102 - accuracy: 0.0000e+00\n",
      "\n",
      "Test loss: 30166.410156, Test accuracy: 0.000000\n"
     ]
    }
   ],
   "source": [
    "# insert code here\n",
    "score = model.evaluate(X_test, y_test, batch_size = 315)\n",
    "print('\\nTest loss: %.6f, Test accuracy: %.6f' % tuple(score))"
   ]
  },
  {
   "cell_type": "markdown",
   "metadata": {
    "colab_type": "text",
    "id": "sSlqjs7e1KeD"
   },
   "source": [
    "### Visualisation of cost"
   ]
  },
  {
   "cell_type": "code",
   "execution_count": 43,
   "metadata": {
    "colab": {},
    "colab_type": "code",
    "id": "1F6hYpNh1KeE",
    "scrolled": true
   },
   "outputs": [],
   "source": [
    "# insert code here\n"
   ]
  },
  {
   "cell_type": "markdown",
   "metadata": {
    "colab_type": "text",
    "id": "vQLzMZTM1KeG"
   },
   "source": [
    "### Visualisation of residuals"
   ]
  },
  {
   "cell_type": "code",
   "execution_count": 0,
   "metadata": {
    "colab": {},
    "colab_type": "code",
    "id": "opIulVSw1KeH"
   },
   "outputs": [],
   "source": [
    "# insert code here"
   ]
  },
  {
   "cell_type": "markdown",
   "metadata": {
    "colab_type": "text",
    "id": "IS5Tc4z9FoYy"
   },
   "source": [
    ">"
   ]
  },
  {
   "cell_type": "markdown",
   "metadata": {
    "colab_type": "text",
    "id": "mxI2We9OFpfs"
   },
   "source": [
    ">"
   ]
  },
  {
   "cell_type": "markdown",
   "metadata": {
    "colab_type": "text",
    "id": "81DoNxN1FqGN"
   },
   "source": [
    ">"
   ]
  },
  {
   "cell_type": "markdown",
   "metadata": {
    "colab_type": "text",
    "id": "RERADKgNFq9T"
   },
   "source": [
    "\n",
    "\n",
    "---\n",
    "\n",
    "\n",
    "\n",
    "---\n",
    "\n",
    "\n",
    "\n",
    "> > > > > > > > > © 2019 Institute of Data\n",
    "\n",
    "\n",
    "---\n",
    "\n",
    "\n",
    "\n",
    "---\n",
    "\n",
    "\n",
    "\n"
   ]
  }
 ],
 "metadata": {
  "colab": {
   "collapsed_sections": [],
   "name": "DSIA Lab-10_1.ipynb",
   "provenance": []
  },
  "kernelspec": {
   "display_name": "Python 3",
   "language": "python",
   "name": "python3"
  },
  "language_info": {
   "codemirror_mode": {
    "name": "ipython",
    "version": 3
   },
   "file_extension": ".py",
   "mimetype": "text/x-python",
   "name": "python",
   "nbconvert_exporter": "python",
   "pygments_lexer": "ipython3",
   "version": "3.8.3"
  }
 },
 "nbformat": 4,
 "nbformat_minor": 1
}
