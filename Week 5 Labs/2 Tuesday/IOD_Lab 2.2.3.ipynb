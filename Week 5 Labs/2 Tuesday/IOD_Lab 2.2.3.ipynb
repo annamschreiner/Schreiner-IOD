{
 "cells": [
  {
   "cell_type": "markdown",
   "metadata": {
    "colab_type": "text",
    "id": "nOGGU7gNKck0"
   },
   "source": [
    "<div>\n",
    "<img src=https://www.institutedata.com/wp-content/uploads/2019/10/iod_h_tp_primary_c.svg width=\"300\">\n",
    "</div>"
   ]
  },
  {
   "cell_type": "markdown",
   "metadata": {
    "colab_type": "text",
    "id": "_D_idRWZKck4"
   },
   "source": [
    "# Lab 2.2.3 \n",
    "# *Mining Social Media on Reddit*"
   ]
  },
  {
   "cell_type": "markdown",
   "metadata": {
    "colab_type": "text",
    "id": "atJ1XMr3Kck7"
   },
   "source": [
    "## The Reddit API and the PRAW Package"
   ]
  },
  {
   "cell_type": "markdown",
   "metadata": {
    "colab_type": "text",
    "id": "aJ9o1EfAKck-"
   },
   "source": [
    "The Reddit API is rich and complex, with many endpoints (https://www.reddit.com/dev/api/). It includes methods for navigating its collections, which include various kinds of media as well as comments. Fortunately, the Python library PRAW reduces much of this complexity.\n",
    "\n",
    "Reddit requires developers to create and authenticate an app before they can use the API, but the process is much less onerus than some, and does not have waiting period for approval of new developers (as of 18 August 2018)."
   ]
  },
  {
   "cell_type": "markdown",
   "metadata": {
    "colab_type": "text",
    "id": "egz9IUhlKclB"
   },
   "source": [
    "### 1. Create a Reddit App\n",
    "\n",
    "Go to https://www.reddit.com/prefs/apps and click \"create an app\".\n",
    "\n",
    "Enter the following in the form:\n",
    "\n",
    "- a name for your app\n",
    "- select \"script\" radio button\n",
    "- a description\n",
    "- a redirect URI\n",
    "\n",
    "(Nb. For pulling data into a data science experiment, a local port can be used for the Redirect URI; try http://127.0.0.1:1410)\n",
    "\n",
    "![image.png](attachment:image.png)\n",
    "\n",
    "- click \"create app\"\n",
    "- from the form that displays, copy the following to a local text file (or to this notebook):\n",
    "\n",
    "  - name (the name you gave to your app)\n",
    "  - redirect URI\n",
    "  - personal use script (this is your OAuth 2 Client ID)\n",
    "  - secret (this is your OAuth 2 Secret)"
   ]
  },
  {
   "cell_type": "markdown",
   "metadata": {},
   "source": [
    "- Created App on Reddit:\n",
    "- Name: SchreinerTest\n",
    "- Redirect URI: http://127.0.0.1:1410\n",
    "- Personal use script: yhhqYxG0qyr2Jw\n",
    "- Secret: w_r_kVREzyWvleJADFsj5pHts64"
   ]
  },
  {
   "cell_type": "markdown",
   "metadata": {
    "colab_type": "text",
    "id": "LF9V-LJ2KclE"
   },
   "source": [
    "### 2. Register for API Access\n",
    "\n",
    "- follow the link at https://www.reddit.com/wiki/api and read the terms of use for Reddit API access \n",
    "- fill in the form fields at the bottom \n",
    "  - make sure to enter your new OAuth Client ID where indicated\n",
    "  - your use case could be something like \"Training in API usage for data science projects\"\n",
    "  - your platform could be something like \"Jupyter Notebooks / Python\"\n",
    "  \n",
    "- click \"SUBMIT\"\n",
    " \n",
    "- when asked for User-Agent, enter something that fits this pattern:\n",
    "  `your_os-python:your_reddit_appname:v1.0 (by /u/your_reddit_username)`"
   ]
  },
  {
   "cell_type": "markdown",
   "metadata": {
    "colab_type": "text",
    "id": "JIsv8YAMKclG"
   },
   "source": [
    "### 3. Load Python Libraries"
   ]
  },
  {
   "cell_type": "code",
   "execution_count": 2,
   "metadata": {},
   "outputs": [
    {
     "name": "stdout",
     "output_type": "stream",
     "text": [
      "Collecting praw\n",
      "  Downloading praw-7.1.0-py3-none-any.whl (152 kB)\n",
      "\u001b[K     |████████████████████████████████| 152 kB 1.1 MB/s eta 0:00:01\n",
      "\u001b[?25hRequirement already satisfied: websocket-client>=0.54.0 in /Users/annaschreiner/opt/anaconda3/lib/python3.8/site-packages (from praw) (0.57.0)\n",
      "Collecting prawcore<2.0,>=1.3.0\n",
      "  Downloading prawcore-1.5.0-py3-none-any.whl (15 kB)\n",
      "Collecting update-checker>=0.17\n",
      "  Downloading update_checker-0.18.0-py3-none-any.whl (7.0 kB)\n",
      "Requirement already satisfied: six in /Users/annaschreiner/opt/anaconda3/lib/python3.8/site-packages (from websocket-client>=0.54.0->praw) (1.15.0)\n",
      "Requirement already satisfied: requests<3.0,>=2.6.0 in /Users/annaschreiner/opt/anaconda3/lib/python3.8/site-packages (from prawcore<2.0,>=1.3.0->praw) (2.24.0)\n",
      "Requirement already satisfied: certifi>=2017.4.17 in /Users/annaschreiner/opt/anaconda3/lib/python3.8/site-packages (from requests<3.0,>=2.6.0->prawcore<2.0,>=1.3.0->praw) (2020.6.20)\n",
      "Requirement already satisfied: idna<3,>=2.5 in /Users/annaschreiner/opt/anaconda3/lib/python3.8/site-packages (from requests<3.0,>=2.6.0->prawcore<2.0,>=1.3.0->praw) (2.10)\n",
      "Requirement already satisfied: chardet<4,>=3.0.2 in /Users/annaschreiner/opt/anaconda3/lib/python3.8/site-packages (from requests<3.0,>=2.6.0->prawcore<2.0,>=1.3.0->praw) (3.0.4)\n",
      "Requirement already satisfied: urllib3!=1.25.0,!=1.25.1,<1.26,>=1.21.1 in /Users/annaschreiner/opt/anaconda3/lib/python3.8/site-packages (from requests<3.0,>=2.6.0->prawcore<2.0,>=1.3.0->praw) (1.25.9)\n",
      "Installing collected packages: prawcore, update-checker, praw\n",
      "Successfully installed praw-7.1.0 prawcore-1.5.0 update-checker-0.18.0\n"
     ]
    }
   ],
   "source": [
    "! pip install praw"
   ]
  },
  {
   "cell_type": "code",
   "execution_count": 3,
   "metadata": {
    "colab": {},
    "colab_type": "code",
    "id": "xqi2BT66KclI"
   },
   "outputs": [],
   "source": [
    "import praw\n",
    "import requests\n",
    "import json\n",
    "import pprint\n",
    "from datetime import datetime, date, time"
   ]
  },
  {
   "cell_type": "markdown",
   "metadata": {
    "colab_type": "text",
    "id": "wwXaO9GPKclP"
   },
   "source": [
    "### 4. Authenticate from your Python script"
   ]
  },
  {
   "cell_type": "markdown",
   "metadata": {
    "colab_type": "text",
    "id": "ZF5oh54RKclR"
   },
   "source": [
    "You could assign your authentication details explicitly, as follows:"
   ]
  },
  {
   "cell_type": "code",
   "execution_count": 5,
   "metadata": {
    "colab": {},
    "colab_type": "code",
    "id": "qH2-X9juKclS"
   },
   "outputs": [],
   "source": [
    "my_user_agent = 'SchreinerIOD'   # your user Agent string goes in here\n",
    "my_client_id = 'yhhqYxG0qyr2Jw'   # your Client ID string goes in here\n",
    "my_client_secret = 'w_r_kVREzyWvleJADFsj5pHts64'   # your Secret string goes in here"
   ]
  },
  {
   "cell_type": "markdown",
   "metadata": {
    "colab_type": "text",
    "id": "1TmzPxHIKclX"
   },
   "source": [
    "A better way would be to store these details externally, so they are not displayed in the notebook:\n",
    "\n",
    "- create a file called \"auth_reddit.json\" in your \"notebooks\" directory, and save your credentials there in JSON format:\n",
    "\n",
    "`{   \"my_client_id\": \"your Client ID string goes in here\",` <br>\n",
    "&nbsp;&nbsp;&nbsp;&nbsp;&nbsp;&nbsp;&nbsp;&nbsp;` \"my_client_secret\": \"your Secret string goes in here\",` <br>\n",
    "&nbsp;&nbsp;&nbsp;&nbsp;&nbsp;&nbsp;&nbsp;&nbsp;`\"my_user_agent\": \"your user Agent string goes in here\"` <br>\n",
    "`}`\n",
    "\n",
    "Use the following code to load the credentials:  "
   ]
  },
  {
   "cell_type": "code",
   "execution_count": 0,
   "metadata": {
    "colab": {},
    "colab_type": "code",
    "id": "mFbFWGnVKclY"
   },
   "outputs": [],
   "source": [
    "pwd()  # make sure your working directory is where the file is"
   ]
  },
  {
   "cell_type": "code",
   "execution_count": 0,
   "metadata": {
    "colab": {},
    "colab_type": "code",
    "id": "Jc5_dh-jKclc"
   },
   "outputs": [],
   "source": [
    "#json file is not working. Hard code instead.\n",
    "#path_auth = 'auth_reddit.json'\n",
    "#auth = json.loads(open(path_auth).read())\n",
    "#pp = pprint.PrettyPrinter(indent=4)\n",
    "# For debugging only:\n",
    "#pp.pprint(auth)\n",
    "\n",
    "#my_user_agent = auth['my_user_agent']\n",
    "#my_client_id = auth['my_client_id']\n",
    "#my_client_secret = auth['my_client_secret']"
   ]
  },
  {
   "cell_type": "markdown",
   "metadata": {
    "colab_type": "text",
    "id": "lVKFy9rZKclf"
   },
   "source": [
    "Security considerations: \n",
    "- this method only keeps your credentials invisible as long as nobody else gets access to this notebook file \n",
    "- if you wanted another user to have access to the executable notebook without divulging your credentials you should set up an OAuth 2.0 workflow to let them obtain and apply their own API tokens when using your app\n",
    "- if you just want to share your analyses, you could use a separate script (which you don't share) to fetch the data and save it locally, then use a second notebook (with no API access) to load and analyse the locally stored data"
   ]
  },
  {
   "cell_type": "markdown",
   "metadata": {
    "colab_type": "text",
    "id": "fgHqt72rKclg"
   },
   "source": [
    "### 5. Exploring the API"
   ]
  },
  {
   "cell_type": "markdown",
   "metadata": {
    "colab_type": "text",
    "id": "ByEQS6QsKclh"
   },
   "source": [
    "Here is how to connect to Reddit with read-only access:"
   ]
  },
  {
   "cell_type": "code",
   "execution_count": 6,
   "metadata": {
    "colab": {},
    "colab_type": "code",
    "id": "8hkZJlcJKcli"
   },
   "outputs": [
    {
     "name": "stdout",
     "output_type": "stream",
     "text": [
      "Read-only = True\n"
     ]
    }
   ],
   "source": [
    "reddit = praw.Reddit(client_id = my_client_id, \n",
    "                     client_secret = my_client_secret, \n",
    "                     user_agent = my_user_agent)\n",
    "\n",
    "print('Read-only = ' + str(reddit.read_only))  # Output: True"
   ]
  },
  {
   "cell_type": "markdown",
   "metadata": {
    "colab_type": "text",
    "id": "slGz0lS5Kclk"
   },
   "source": [
    "In the next cell, put the cursor after the '.' and hit the [tab] key to see the available members and methods in the response object:"
   ]
  },
  {
   "cell_type": "code",
   "execution_count": 0,
   "metadata": {
    "colab": {},
    "colab_type": "code",
    "id": "6MvyYewEKcll"
   },
   "outputs": [],
   "source": [
    "reddit."
   ]
  },
  {
   "cell_type": "markdown",
   "metadata": {
    "colab_type": "text",
    "id": "AKfXBu7yKcln"
   },
   "source": [
    "Consult the PRAW and Reddit API documentation. Print a few of the response members below:"
   ]
  },
  {
   "cell_type": "code",
   "execution_count": 14,
   "metadata": {
    "colab": {},
    "colab_type": "code",
    "id": "31Njl99lKcln"
   },
   "outputs": [
    {
     "name": "stdout",
     "output_type": "stream",
     "text": [
      "<praw.models.auth.Auth object at 0x11d0e9130>\n",
      "<bound method Reddit.comment of <praw.reddit.Reddit object at 0x11d0daa90>>\n",
      "<praw.models.inbox.Inbox object at 0x11d0e91f0>\n"
     ]
    }
   ],
   "source": [
    "print(reddit.auth)\n",
    "print(reddit.comment)\n",
    "print(reddit.inbox)"
   ]
  },
  {
   "cell_type": "markdown",
   "metadata": {
    "colab_type": "text",
    "id": "5L10cuKfKclp"
   },
   "source": [
    "Content in Reddit is grouped by topics called \"subreddits\". Content, called \"submissions\", is fetched by calling the `subreddit` method of the connection object (which is our `reddit` variable) with an argument that matches an actual topic. \n",
    "\n",
    "We also need to append a further method call to a \"subinstance\", such as one of the following:\n",
    "\n",
    "- controversial\n",
    "- gilded\n",
    "- hot\n",
    "- new\n",
    "- rising\n",
    "- top\n",
    "\n",
    "One of the submission objects members is `title`. Fetch and print 10 submission titles from the 'learnpython' subreddit using one of the subinstances above:"
   ]
  },
  {
   "cell_type": "code",
   "execution_count": 7,
   "metadata": {
    "colab": {},
    "colab_type": "code",
    "id": "2W1iCDE9Kclp"
   },
   "outputs": [
    {
     "name": "stdout",
     "output_type": "stream",
     "text": [
      "Ask Anything Monday - Weekly Thread\n",
      "Learning Python for someone that already codes regularly\n",
      "passwordgana.py - User-friendly secure passwords using memorable phonetic syllables\n",
      "combining lists\n",
      "I wrote a library around nhentai's API\n",
      "Can I get one on one help with python coding?\n",
      "Which is the easiest/recommended way to debug recursive functions in Python?\n",
      "How do I get perfect screen coordinates on turtle screen I'm making a poly art with python turtle and found it very hard to trace the coordinates on turtle screen ?\n",
      "I have no idea what I am doing\n",
      "Converting SQL Subselect to Python\n"
     ]
    }
   ],
   "source": [
    "for submission in reddit.subreddit('learnpython').hot(limit=10):\n",
    "    print(submission.title)"
   ]
  },
  {
   "cell_type": "markdown",
   "metadata": {
    "colab_type": "text",
    "id": "00coF0YJKclr"
   },
   "source": [
    "Now retrieve 10 authors:"
   ]
  },
  {
   "cell_type": "code",
   "execution_count": 8,
   "metadata": {
    "colab": {},
    "colab_type": "code",
    "id": "U1vTByCGKclr"
   },
   "outputs": [
    {
     "name": "stdout",
     "output_type": "stream",
     "text": [
      "AutoModerator\n",
      "myusernameisironic\n",
      "buckleyc\n",
      "12345Saint\n",
      "dev-hentai-chan\n",
      "haleynpearson\n",
      "iblysa\n",
      "dominatevil\n",
      "Sewer_rat_inc\n",
      "DiamondBadge\n"
     ]
    }
   ],
   "source": [
    "for submission in reddit.subreddit('learnpython').hot(limit=10):\n",
    "    print(submission.author)"
   ]
  },
  {
   "cell_type": "markdown",
   "metadata": {
    "colab_type": "text",
    "id": "dOFMMl6AKclt"
   },
   "source": [
    "Note that we obtained the titles and authors from separate API calls. Can we expect these to correspond to the same submissions? If not, how could we gurantee that they do?"
   ]
  },
  {
   "cell_type": "code",
   "execution_count": 15,
   "metadata": {
    "colab": {},
    "colab_type": "code",
    "id": "eIPVr-WaKclu"
   },
   "outputs": [],
   "source": [
    "# No, we cannot expect them to correspond to the same submissions, not sure how to guarantee this"
   ]
  },
  {
   "cell_type": "markdown",
   "metadata": {
    "colab_type": "text",
    "id": "IjIJ6ojAKclv"
   },
   "source": [
    "Why doesn't the next cell produce output?"
   ]
  },
  {
   "cell_type": "code",
   "execution_count": 9,
   "metadata": {
    "colab": {},
    "colab_type": "code",
    "id": "ifxjcJ2aKclw"
   },
   "outputs": [
    {
     "ename": "NameError",
     "evalue": "name 'submissions' is not defined",
     "output_type": "error",
     "traceback": [
      "\u001b[0;31m---------------------------------------------------------------------------\u001b[0m",
      "\u001b[0;31mNameError\u001b[0m                                 Traceback (most recent call last)",
      "\u001b[0;32m<ipython-input-9-2e9caae36f7e>\u001b[0m in \u001b[0;36m<module>\u001b[0;34m\u001b[0m\n\u001b[0;32m----> 1\u001b[0;31m \u001b[0;32mfor\u001b[0m \u001b[0msubmission\u001b[0m \u001b[0;32min\u001b[0m \u001b[0msubmissions\u001b[0m\u001b[0;34m:\u001b[0m\u001b[0;34m\u001b[0m\u001b[0;34m\u001b[0m\u001b[0m\n\u001b[0m\u001b[1;32m      2\u001b[0m     \u001b[0mprint\u001b[0m\u001b[0;34m(\u001b[0m\u001b[0msubmission\u001b[0m\u001b[0;34m.\u001b[0m\u001b[0mcomments\u001b[0m\u001b[0;34m)\u001b[0m\u001b[0;34m\u001b[0m\u001b[0;34m\u001b[0m\u001b[0m\n",
      "\u001b[0;31mNameError\u001b[0m: name 'submissions' is not defined"
     ]
    }
   ],
   "source": [
    "for submission in submissions:\n",
    "    print(submission.comments)"
   ]
  },
  {
   "cell_type": "code",
   "execution_count": 0,
   "metadata": {
    "colab": {},
    "colab_type": "code",
    "id": "kPNVNapBKcly"
   },
   "outputs": [],
   "source": [
    "#Sumbissions is not defined..."
   ]
  },
  {
   "cell_type": "markdown",
   "metadata": {
    "colab_type": "text",
    "id": "4aZ2OSd_Kclz"
   },
   "source": [
    "Print two comments associated with each of these submissions:"
   ]
  },
  {
   "cell_type": "code",
   "execution_count": 10,
   "metadata": {
    "colab": {},
    "colab_type": "code",
    "id": "RO4ppDPJKcl0"
   },
   "outputs": [
    {
     "name": "stdout",
     "output_type": "stream",
     "text": [
      "Is there anywhere I can get my code critiqued? It's only basic stuff from beginners books (so I don't think git is apppropriate) but my last piece I'm quite happy with and would like to see if there is room for improvement.\n",
      "Trying to make a program to choose lottery numbers for different lotteries.  So for the lottery variables I have things like this:\n",
      "\n",
      "        # Name of lottery, name of set of balls, range from, range to, num of balls required\n",
      "        lotto = (\"Lotto\", (\"Main\", 1, 49, 6))  \n",
      "        thunderball = (\"Thunderball\", (\"Main\", 1, 39, 5), (\"Thunderball\", 1, 14, 1))\n",
      "\n",
      "What do you call it when you have a list(tuple?) which has sets of items which are grouped like I have above? And how would you access say, the number of balls required for the first set of balls on the Thunderball list? I tried something like Thunderball\\[1, 4\\] which doesn't work.\n",
      "For syntax (apart from Python docs):\n",
      "\n",
      "* [A Whirlwind Tour of Python](https://github.com/jakevdp/WhirlwindTourOfPython)\n",
      "* [learnxinyminutes — Python3](https://learnxinyminutes.com/docs/python3/)\n",
      "\n",
      "For project based resource, second half of https://automatetheboringstuff.com/2e/ can work if those topics fit your needs\n",
      "\n",
      "There's also\n",
      "\n",
      "* [Projects on various topics with solutions](https://github.com/karan/Projects-Solutions)\n",
      "* [Project based learning](https://github.com/tuvtran/project-based-learning#python)\n",
      "The \"Language Reference\" and the \"Library Reference\" sections of the Python documentation.\n",
      "you can use `zip(course, number)` to iterate over pairs like `(Math, 2002)`, `(Biology, 2003)`, etc\n",
      "Maybe something like this?\n",
      "\n",
      "    course = ['Math', 'Biology', 'Science']\n",
      "    number= [2002,3003,4004]\n",
      "    \n",
      "    container = zip(course, number)\n",
      "    \n",
      "    output = []\n",
      "    for item in container:\n",
      "    \toutput.append('{0}: {1}'.format(item[0], item[1]))\n",
      "    \n",
      "    print(output)\n",
      "    ['Math: 2002', 'Biology: 3003', 'Science: 4004']\n",
      "    [Finished in 0.3s]\n",
      ">pip install hentai\n",
      "\n",
      "We have ascended.\n",
      "This guy even put *those six **CURSED** digits* in the documentation. 😭\n",
      "Hey just sent you a pm\n",
      "matplotlib. Look at this https://www.datacamp.com/community/tutorials/matplotlib-tutorial-python\n",
      "It's hard to really give a great answer without knowing more about your code, but generally: unit test your recursive functions until you're confident they work individually so that you only later have to test their interaction with the rest of your code.\n",
      "One possible way is to carry information about where you are in the recursion through the calls. This information can then be printed out and used for debugging the code.\n",
      "\n",
      "One example:\n",
      "\n",
      "```\n",
      "def quicksort(arr, indent=''):\n",
      "  \n",
      "    if len(arr) == 0:\n",
      "        print(f'{indent:<4s} {arr}')\n",
      "        return arr\n",
      "\n",
      "    pivot = arr[len(arr) // 2]\n",
      "\n",
      "    print(f'{indent:<4s} {arr} {pivot}')\n",
      "\n",
      "    l = [x for x in arr if x < pivot]\n",
      "    m = [x for x in arr if x == pivot]\n",
      "    r = [x for x in arr if x > pivot]\n",
      "\n",
      "    return quicksort(l, indent + '<') + m + quicksort(r, indent + '>')\n",
      "\n",
      "\n",
      "print(quicksort([1, 7, 5, 3, 1, 8]))\n",
      "```\n",
      "\n",
      "Which produces the following output:\n",
      "\n",
      "```\n",
      "     [1, 7, 5, 3, 1, 8] 3\n",
      "<    [1, 1] 1\n",
      "<<   []\n",
      "<>   []\n",
      ">    [7, 5, 8] 5\n",
      "><   []\n",
      ">>   [7, 8] 8\n",
      ">><  [7] 7\n",
      ">><< []\n",
      ">><> []\n",
      ">>>  []\n",
      "[1, 1, 3, 5, 7, 8]\n",
      "```\n",
      "\n",
      "The line `<    [1, 1] 1` says the program is at the left partition of the original array.\n",
      "\n",
      "The line `>    [7, 5, 8] 5` says the program is at the right partition of the original array.\n",
      "https://docs.python.org/3/tutorial/\n"
     ]
    }
   ],
   "source": [
    "submissions = reddit.subreddit('learnpython').hot(limit=10)\n",
    "for submission in submissions:\n",
    "    top_level_comments = list(submission.comments)\n",
    "    all_comments = submission.comments.list()[:2]\n",
    "    for comment in all_comments:\n",
    "        print(comment.body)"
   ]
  },
  {
   "cell_type": "markdown",
   "metadata": {
    "colab_type": "text",
    "id": "JvYEOesKKcl2"
   },
   "source": [
    "Referring to the API documentation, explore the submissions object and print some interesting data:"
   ]
  },
  {
   "cell_type": "code",
   "execution_count": 0,
   "metadata": {
    "colab": {},
    "colab_type": "code",
    "id": "glEShYZbKcl3"
   },
   "outputs": [],
   "source": []
  },
  {
   "cell_type": "markdown",
   "metadata": {
    "colab_type": "text",
    "id": "Khno5kpWKcl5"
   },
   "source": [
    "#### Posting to Reddit"
   ]
  },
  {
   "cell_type": "markdown",
   "metadata": {
    "colab_type": "text",
    "id": "zjnyN1OfKcl6"
   },
   "source": [
    "To be able to post to your Reddit account (i.e. contribute submissions), you need to connect to the API with read/write privilege. This requires an *authorised instance*, which is obtained by including your Reddit user name and password in the connection request: "
   ]
  },
  {
   "cell_type": "code",
   "execution_count": 11,
   "metadata": {
    "colab": {},
    "colab_type": "code",
    "id": "ZXG7kouZKcl7"
   },
   "outputs": [
    {
     "name": "stdout",
     "output_type": "stream",
     "text": [
      "False\n"
     ]
    }
   ],
   "source": [
    "reddit = praw.Reddit(client_id='my client id',\n",
    "                     client_secret='my client secret',\n",
    "                     user_agent='my user agent',\n",
    "                     username='my username',\n",
    "                     password='my password')\n",
    "print(reddit.read_only)  # Output: False"
   ]
  },
  {
   "cell_type": "markdown",
   "metadata": {
    "colab_type": "text",
    "id": "nEjrsF9vKcl-"
   },
   "source": [
    "You could hide these last two credentials by adding them to your JSON file and then reading all five values at once."
   ]
  },
  {
   "cell_type": "code",
   "execution_count": 0,
   "metadata": {
    "colab": {},
    "colab_type": "code",
    "id": "BVcbR0K1Kcl_"
   },
   "outputs": [],
   "source": []
  },
  {
   "cell_type": "markdown",
   "metadata": {
    "colab_type": "text",
    "id": "WqBG4xS5Kk3X"
   },
   "source": [
    ">\n",
    ">\n"
   ]
  },
  {
   "cell_type": "markdown",
   "metadata": {
    "colab_type": "text",
    "id": "EfPDz2gEKnRn"
   },
   "source": [
    ">\n",
    ">\n"
   ]
  },
  {
   "cell_type": "markdown",
   "metadata": {
    "colab_type": "text",
    "id": "5Uo-KnYhKoRA"
   },
   "source": [
    "\n",
    "\n",
    "---\n",
    "\n",
    "\n",
    "\n",
    "---\n",
    "\n",
    "\n",
    "\n",
    "> > > > > > > > > © 2019 Institute of Data\n",
    "\n",
    "\n",
    "---\n",
    "\n",
    "\n",
    "\n",
    "---\n",
    "\n",
    "\n",
    "\n"
   ]
  }
 ],
 "metadata": {
  "colab": {
   "collapsed_sections": [],
   "name": "DSIA Lab 2.2.3.ipynb",
   "provenance": []
  },
  "kernelspec": {
   "display_name": "Python 3",
   "language": "python",
   "name": "python3"
  },
  "language_info": {
   "codemirror_mode": {
    "name": "ipython",
    "version": 3
   },
   "file_extension": ".py",
   "mimetype": "text/x-python",
   "name": "python",
   "nbconvert_exporter": "python",
   "pygments_lexer": "ipython3",
   "version": "3.8.3"
  }
 },
 "nbformat": 4,
 "nbformat_minor": 1
}
