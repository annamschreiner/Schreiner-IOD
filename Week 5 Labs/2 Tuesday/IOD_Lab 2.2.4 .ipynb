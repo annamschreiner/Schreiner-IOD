{
 "cells": [
  {
   "cell_type": "markdown",
   "metadata": {
    "colab_type": "text",
    "id": "QaGbHIhQLFYq"
   },
   "source": [
    "<div>\n",
    "<img src=https://www.institutedata.com/wp-content/uploads/2019/10/iod_h_tp_primary_c.svg width=\"300\">\n",
    "</div>"
   ]
  },
  {
   "cell_type": "markdown",
   "metadata": {
    "colab_type": "text",
    "id": "sMx6dqz7LFYv"
   },
   "source": [
    "# Lab 2.2.4 \n",
    "# *The Google BigQuery UI and API*"
   ]
  },
  {
   "cell_type": "markdown",
   "metadata": {
    "colab_type": "text",
    "id": "SKGiPVSwLFYx"
   },
   "source": [
    "## Introduction"
   ]
  },
  {
   "cell_type": "markdown",
   "metadata": {
    "colab_type": "text",
    "id": "aKMV45iQLFY2"
   },
   "source": [
    "The Google BigQuery UI provides access to Google's extensive collection of public data sets via an SQL-based query engine. \n",
    "\n",
    "The BigQuery API provides programmatic access to the data sets.\n",
    "\n",
    "We can use the UI to discover interesting data before writing Python code to access it. Then we can reproduce it in an API request so as to aggregate large amounts of data on Google's infrastructure before pulling the results into our application."
   ]
  },
  {
   "cell_type": "markdown",
   "metadata": {
    "colab_type": "text",
    "id": "q3JonnfULFY6"
   },
   "source": [
    "## BigQuery Web UI\n",
    "\n",
    "Work through the Quickstart at https://cloud.google.com/bigquery/docs/quickstarts/quickstart-web-ui.\n",
    "\n",
    "You will need to set up a Google Cloud Platform account if you don't already have one. (This should not cost anything during the trial period unless you perform a large amount of querying. Afterwards, costs are based on actual resource usage, but most offerings have a free tier.)"
   ]
  },
  {
   "cell_type": "markdown",
   "metadata": {
    "colab_type": "text",
    "id": "QM5QOIBpLFY9"
   },
   "source": [
    "## BigQuery API\n",
    "\n",
    "You should already have the Google Cloud Client Library for Python installed (https://cloud.google.com/python/setup).\n",
    "\n",
    "- Open Google Cloud Console (https://console.cloud.google.com/home/) and select to create a project.\n",
    "\n",
    "- Under \"Getting Started\", select \"Enable APIs and get credentials such as keys\"."
   ]
  },
  {
   "cell_type": "markdown",
   "metadata": {
    "colab_type": "text",
    "id": "0Ni9g5D7LFY_"
   },
   "source": [
    "- In the API table, make sure the BigQuery API is enabled. Page back."
   ]
  },
  {
   "cell_type": "markdown",
   "metadata": {
    "colab_type": "text",
    "id": "FYjui9nrLFZC"
   },
   "source": [
    "### Authentication\n",
    "\n",
    "Go to https://cloud.google.com/docs/authentication/production and click the button to create a service account."
   ]
  },
  {
   "cell_type": "markdown",
   "metadata": {
    "colab_type": "text",
    "id": "OYryTo8SLFZE"
   },
   "source": [
    "- Fill out the form, giving the account an appropriate name, and choose \"Project Owner\" for Account Type.\n",
    "\n",
    "- Click \"Create\".\n",
    "\n",
    "![image.png](attachment:image.png)"
   ]
  },
  {
   "cell_type": "markdown",
   "metadata": {
    "colab_type": "text",
    "id": "lUx6uvpALFZF"
   },
   "source": [
    "- The keys will get saved to your computer:\n",
    "\n",
    "![image.png](attachment:image.png)\n",
    "\n",
    "- Note the location and copy the file path (of the json file) to somewhere safe, for future reference."
   ]
  },
  {
   "cell_type": "markdown",
   "metadata": {
    "colab_type": "text",
    "id": "I1MMIwTULFZH"
   },
   "source": [
    "- You should then see a screen like this:\n",
    "\n",
    "![image.png](attachment:image.png)\n"
   ]
  },
  {
   "cell_type": "markdown",
   "metadata": {
    "colab_type": "text",
    "id": "DnYr6eJ-LFZH"
   },
   "source": [
    "- See here for more information:\n",
    "\n",
    "https://cloud.google.com/iam/docs/understanding-service-accounts?&_ga=2.173177830.-495703703.1532572448#managing_service_account_keys "
   ]
  },
  {
   "cell_type": "markdown",
   "metadata": {
    "colab_type": "text",
    "id": "pQKOrjk8LFZI"
   },
   "source": [
    "This is supposed to get implicit key retrieval working:\n",
    "\n",
    "- Windows:\n",
    "    `set GOOGLE_APPLICATION_CREDENTIALS=[PATH]`\n",
    "    \n",
    "- Linux, MacOS:\n",
    "    `export GOOGLE_APPLICATION_CREDENTIALS=[PATH]`\n",
    "    \n",
    "where `[PATH]` is the full file path of your json key file."
   ]
  },
  {
   "cell_type": "code",
   "execution_count": 9,
   "metadata": {},
   "outputs": [
    {
     "ename": "SyntaxError",
     "evalue": "invalid syntax (<ipython-input-9-d58dfe3fa7ce>, line 1)",
     "output_type": "error",
     "traceback": [
      "\u001b[0;36m  File \u001b[0;32m\"<ipython-input-9-d58dfe3fa7ce>\"\u001b[0;36m, line \u001b[0;32m1\u001b[0m\n\u001b[0;31m    export GOOGLE_APPLICATION_CREDENTIALS=['/Users/annaschreiner/Desktop/Institute of Data/Week 5/2 Tuesday/Practical']\u001b[0m\n\u001b[0m           ^\u001b[0m\n\u001b[0;31mSyntaxError\u001b[0m\u001b[0;31m:\u001b[0m invalid syntax\n"
     ]
    }
   ],
   "source": [
    "export GOOGLE_APPLICATION_CREDENTIALS=['/Users/annaschreiner/Desktop/Institute of Data/Week 5/2 Tuesday/Practical']"
   ]
  },
  {
   "cell_type": "markdown",
   "metadata": {
    "colab_type": "text",
    "id": "5pvHgwVcLFZJ"
   },
   "source": [
    "### Using the Python API\n",
    "\n",
    "Google provides Python libraries for wrapping the Google APIs. For conda users, these are available on the \"conda-forge\" channel. (There are other Python libraries for Google APIs, possibly adding novel features or ease of use, but Google's is presumably the most current.)\n",
    "\n",
    "__(Installing the \"google-cloud-storage\" and \"google-cloud-bigquery\" libraries should cover all the dependences for this lab.)__ \n",
    "\n",
    "If you have not installed these modules, run `conda install -c conda-forge google-cloud-storage google-cloud-bigquery` in a Terminal (Mac/Linux) or if on Windows, Anaconda Prompt (Anaconda), and follow the prompts."
   ]
  },
  {
   "cell_type": "code",
   "execution_count": 12,
   "metadata": {},
   "outputs": [
    {
     "name": "stdout",
     "output_type": "stream",
     "text": [
      "Collecting package metadata (current_repodata.json): done\n",
      "Solving environment: failed with initial frozen solve. Retrying with flexible solve.\n",
      "Solving environment: failed with repodata from current_repodata.json, will retry with next repodata source.\n",
      "Collecting package metadata (repodata.json): done\n",
      "Solving environment: done\n",
      "\n",
      "\n",
      "==> WARNING: A newer version of conda exists. <==\n",
      "  current version: 4.8.3\n",
      "  latest version: 4.8.5\n",
      "\n",
      "Please update conda by running\n",
      "\n",
      "    $ conda update -n base -c defaults conda\n",
      "\n",
      "\n",
      "\n",
      "## Package Plan ##\n",
      "\n",
      "  environment location: /Users/annaschreiner/opt/anaconda3\n",
      "\n",
      "  added / updated specs:\n",
      "    - google-cloud-bigquery\n",
      "    - google-cloud-storage\n",
      "\n",
      "\n",
      "The following packages will be downloaded:\n",
      "\n",
      "    package                    |            build\n",
      "    ---------------------------|-----------------\n",
      "    aiohttp-3.6.2              |   py38h4d0b108_1         592 KB  conda-forge\n",
      "    async-timeout-3.0.1        |          py_1000          11 KB  conda-forge\n",
      "    c-ares-1.16.1              |       haf1e3a3_3          92 KB  conda-forge\n",
      "    cachetools-4.1.1           |             py_0          12 KB  conda-forge\n",
      "    conda-4.8.5                |   py38h5347e94_2         3.0 MB  conda-forge\n",
      "    google-api-core-1.22.4     |     pyh9f0ad1d_0          58 KB  conda-forge\n",
      "    google-auth-1.22.0         |             py_0          62 KB  conda-forge\n",
      "    google-cloud-bigquery-1.22.0|           py38_0         221 KB  conda-forge\n",
      "    google-cloud-core-1.4.3    |     pyh9f0ad1d_0          26 KB  conda-forge\n",
      "    google-cloud-storage-1.28.1|     pyh9f0ad1d_0          58 KB  conda-forge\n",
      "    google-resumable-media-0.5.1|     pyh9f0ad1d_0          31 KB  conda-forge\n",
      "    googleapis-common-protos-1.52.0|   py38h32f6830_0          70 KB  conda-forge\n",
      "    grpcio-1.30.0              |   py38hb05251e_0         1.9 MB  conda-forge\n",
      "    libprotobuf-3.12.3         |       hab81aa3_2         2.1 MB  conda-forge\n",
      "    multidict-4.7.5            |   py38h4d0b108_2          60 KB  conda-forge\n",
      "    protobuf-3.12.3            |   py38hc84c608_0         692 KB  conda-forge\n",
      "    pyasn1-0.4.8               |             py_0          53 KB  conda-forge\n",
      "    pyasn1-modules-0.2.7       |             py_0          60 KB  conda-forge\n",
      "    python_abi-3.8             |           1_cp38           4 KB  conda-forge\n",
      "    rsa-4.6                    |     pyh9f0ad1d_0          27 KB  conda-forge\n",
      "    yarl-1.6.0                 |   py38h4d0b108_0         133 KB  conda-forge\n",
      "    ------------------------------------------------------------\n",
      "                                           Total:         9.3 MB\n",
      "\n",
      "The following NEW packages will be INSTALLED:\n",
      "\n",
      "  aiohttp            conda-forge/osx-64::aiohttp-3.6.2-py38h4d0b108_1\n",
      "  async-timeout      conda-forge/noarch::async-timeout-3.0.1-py_1000\n",
      "  c-ares             conda-forge/osx-64::c-ares-1.16.1-haf1e3a3_3\n",
      "  cachetools         conda-forge/noarch::cachetools-4.1.1-py_0\n",
      "  google-api-core    conda-forge/noarch::google-api-core-1.22.4-pyh9f0ad1d_0\n",
      "  google-auth        conda-forge/noarch::google-auth-1.22.0-py_0\n",
      "  google-cloud-bigq~ conda-forge/osx-64::google-cloud-bigquery-1.22.0-py38_0\n",
      "  google-cloud-core  conda-forge/noarch::google-cloud-core-1.4.3-pyh9f0ad1d_0\n",
      "  google-cloud-stor~ conda-forge/noarch::google-cloud-storage-1.28.1-pyh9f0ad1d_0\n",
      "  google-resumable-~ conda-forge/noarch::google-resumable-media-0.5.1-pyh9f0ad1d_0\n",
      "  googleapis-common~ conda-forge/osx-64::googleapis-common-protos-1.52.0-py38h32f6830_0\n",
      "  grpcio             conda-forge/osx-64::grpcio-1.30.0-py38hb05251e_0\n",
      "  libprotobuf        conda-forge/osx-64::libprotobuf-3.12.3-hab81aa3_2\n",
      "  multidict          conda-forge/osx-64::multidict-4.7.5-py38h4d0b108_2\n",
      "  protobuf           conda-forge/osx-64::protobuf-3.12.3-py38hc84c608_0\n",
      "  pyasn1             conda-forge/noarch::pyasn1-0.4.8-py_0\n",
      "  pyasn1-modules     conda-forge/noarch::pyasn1-modules-0.2.7-py_0\n",
      "  python_abi         conda-forge/osx-64::python_abi-3.8-1_cp38\n",
      "  rsa                conda-forge/noarch::rsa-4.6-pyh9f0ad1d_0\n",
      "  yarl               conda-forge/osx-64::yarl-1.6.0-py38h4d0b108_0\n",
      "\n",
      "The following packages will be UPDATED:\n",
      "\n",
      "  conda                       pkgs/main::conda-4.8.3-py38_0 --> conda-forge::conda-4.8.5-py38h5347e94_2\n",
      "\n",
      "\n",
      "\n",
      "Downloading and Extracting Packages\n",
      "cachetools-4.1.1     | 12 KB     | ##################################### | 100% \n",
      "multidict-4.7.5      | 60 KB     | ##################################### | 100% \n",
      "google-cloud-bigquer | 221 KB    | ##################################### | 100% \n",
      "grpcio-1.30.0        | 1.9 MB    | ##################################### | 100% \n",
      "pyasn1-0.4.8         | 53 KB     | ##################################### | 100% \n",
      "rsa-4.6              | 27 KB     | ##################################### | 100% \n",
      "conda-4.8.5          | 3.0 MB    | ##################################### | 100% \n",
      "google-cloud-storage | 58 KB     | ##################################### | 100% \n",
      "python_abi-3.8       | 4 KB      | ##################################### | 100% \n",
      "googleapis-common-pr | 70 KB     | ##################################### | 100% \n",
      "pyasn1-modules-0.2.7 | 60 KB     | ##################################### | 100% \n",
      "c-ares-1.16.1        | 92 KB     | ##################################### | 100% \n",
      "aiohttp-3.6.2        | 592 KB    | ##################################### | 100% \n",
      "google-api-core-1.22 | 58 KB     | ##################################### | 100% \n",
      "google-cloud-core-1. | 26 KB     | ##################################### | 100% \n",
      "async-timeout-3.0.1  | 11 KB     | ##################################### | 100% \n",
      "google-auth-1.22.0   | 62 KB     | ##################################### | 100% \n",
      "libprotobuf-3.12.3   | 2.1 MB    | ##################################### | 100% \n",
      "yarl-1.6.0           | 133 KB    | ##################################### | 100% \n",
      "protobuf-3.12.3      | 692 KB    | ##################################### | 100% \n",
      "google-resumable-med | 31 KB     | ##################################### | 100% \n",
      "Preparing transaction: done\n",
      "Verifying transaction: done\n",
      "Executing transaction: done\n",
      "\n",
      "Note: you may need to restart the kernel to use updated packages.\n"
     ]
    }
   ],
   "source": [
    "conda install -c conda-forge google-cloud-storage google-cloud-bigquery"
   ]
  },
  {
   "cell_type": "code",
   "execution_count": 1,
   "metadata": {
    "colab": {},
    "colab_type": "code",
    "id": "0o5eABcXLFZL"
   },
   "outputs": [],
   "source": [
    "from google.cloud import bigquery\n",
    "from google.cloud.bigquery import Dataset\n",
    "from google.cloud import storage"
   ]
  },
  {
   "cell_type": "markdown",
   "metadata": {
    "colab_type": "text",
    "id": "olVeVnL_LFZO"
   },
   "source": [
    "If you have managed to get implicit key retrieval working, you can call `.Client()` with no argument:"
   ]
  },
  {
   "cell_type": "code",
   "execution_count": 14,
   "metadata": {
    "colab": {},
    "colab_type": "code",
    "id": "qR2cXGt4LFZP"
   },
   "outputs": [
    {
     "ename": "DefaultCredentialsError",
     "evalue": "Could not automatically determine credentials. Please set GOOGLE_APPLICATION_CREDENTIALS or explicitly create credentials and re-run the application. For more information, please see https://cloud.google.com/docs/authentication/getting-started",
     "output_type": "error",
     "traceback": [
      "\u001b[0;31m---------------------------------------------------------------------------\u001b[0m",
      "\u001b[0;31mDefaultCredentialsError\u001b[0m                   Traceback (most recent call last)",
      "\u001b[0;32m<ipython-input-14-c05b3b802290>\u001b[0m in \u001b[0;36m<module>\u001b[0;34m\u001b[0m\n\u001b[0;32m----> 1\u001b[0;31m \u001b[0mstorage_client\u001b[0m \u001b[0;34m=\u001b[0m \u001b[0mstorage\u001b[0m\u001b[0;34m.\u001b[0m\u001b[0mClient\u001b[0m\u001b[0;34m(\u001b[0m\u001b[0;34m)\u001b[0m\u001b[0;34m\u001b[0m\u001b[0;34m\u001b[0m\u001b[0m\n\u001b[0m",
      "\u001b[0;32m~/opt/anaconda3/lib/python3.8/site-packages/google/cloud/storage/client.py\u001b[0m in \u001b[0;36m__init__\u001b[0;34m(self, project, credentials, _http, client_info, client_options)\u001b[0m\n\u001b[1;32m    107\u001b[0m         \u001b[0;32mif\u001b[0m \u001b[0mproject\u001b[0m \u001b[0;32mis\u001b[0m \u001b[0m_marker\u001b[0m\u001b[0;34m:\u001b[0m\u001b[0;34m\u001b[0m\u001b[0;34m\u001b[0m\u001b[0m\n\u001b[1;32m    108\u001b[0m             \u001b[0mproject\u001b[0m \u001b[0;34m=\u001b[0m \u001b[0;32mNone\u001b[0m\u001b[0;34m\u001b[0m\u001b[0;34m\u001b[0m\u001b[0m\n\u001b[0;32m--> 109\u001b[0;31m         super(Client, self).__init__(\n\u001b[0m\u001b[1;32m    110\u001b[0m             \u001b[0mproject\u001b[0m\u001b[0;34m=\u001b[0m\u001b[0mproject\u001b[0m\u001b[0;34m,\u001b[0m \u001b[0mcredentials\u001b[0m\u001b[0;34m=\u001b[0m\u001b[0mcredentials\u001b[0m\u001b[0;34m,\u001b[0m \u001b[0m_http\u001b[0m\u001b[0;34m=\u001b[0m\u001b[0m_http\u001b[0m\u001b[0;34m\u001b[0m\u001b[0;34m\u001b[0m\u001b[0m\n\u001b[1;32m    111\u001b[0m         )\n",
      "\u001b[0;32m~/opt/anaconda3/lib/python3.8/site-packages/google/cloud/client.py\u001b[0m in \u001b[0;36m__init__\u001b[0;34m(self, project, credentials, client_options, _http)\u001b[0m\n\u001b[1;32m    247\u001b[0m \u001b[0;34m\u001b[0m\u001b[0m\n\u001b[1;32m    248\u001b[0m     \u001b[0;32mdef\u001b[0m \u001b[0m__init__\u001b[0m\u001b[0;34m(\u001b[0m\u001b[0mself\u001b[0m\u001b[0;34m,\u001b[0m \u001b[0mproject\u001b[0m\u001b[0;34m=\u001b[0m\u001b[0;32mNone\u001b[0m\u001b[0;34m,\u001b[0m \u001b[0mcredentials\u001b[0m\u001b[0;34m=\u001b[0m\u001b[0;32mNone\u001b[0m\u001b[0;34m,\u001b[0m \u001b[0mclient_options\u001b[0m\u001b[0;34m=\u001b[0m\u001b[0;32mNone\u001b[0m\u001b[0;34m,\u001b[0m \u001b[0m_http\u001b[0m\u001b[0;34m=\u001b[0m\u001b[0;32mNone\u001b[0m\u001b[0;34m)\u001b[0m\u001b[0;34m:\u001b[0m\u001b[0;34m\u001b[0m\u001b[0;34m\u001b[0m\u001b[0m\n\u001b[0;32m--> 249\u001b[0;31m         \u001b[0m_ClientProjectMixin\u001b[0m\u001b[0;34m.\u001b[0m\u001b[0m__init__\u001b[0m\u001b[0;34m(\u001b[0m\u001b[0mself\u001b[0m\u001b[0;34m,\u001b[0m \u001b[0mproject\u001b[0m\u001b[0;34m=\u001b[0m\u001b[0mproject\u001b[0m\u001b[0;34m)\u001b[0m\u001b[0;34m\u001b[0m\u001b[0;34m\u001b[0m\u001b[0m\n\u001b[0m\u001b[1;32m    250\u001b[0m         \u001b[0mClient\u001b[0m\u001b[0;34m.\u001b[0m\u001b[0m__init__\u001b[0m\u001b[0;34m(\u001b[0m\u001b[0mself\u001b[0m\u001b[0;34m,\u001b[0m \u001b[0mcredentials\u001b[0m\u001b[0;34m=\u001b[0m\u001b[0mcredentials\u001b[0m\u001b[0;34m,\u001b[0m \u001b[0mclient_options\u001b[0m\u001b[0;34m=\u001b[0m\u001b[0mclient_options\u001b[0m\u001b[0;34m,\u001b[0m \u001b[0m_http\u001b[0m\u001b[0;34m=\u001b[0m\u001b[0m_http\u001b[0m\u001b[0;34m)\u001b[0m\u001b[0;34m\u001b[0m\u001b[0;34m\u001b[0m\u001b[0m\n",
      "\u001b[0;32m~/opt/anaconda3/lib/python3.8/site-packages/google/cloud/client.py\u001b[0m in \u001b[0;36m__init__\u001b[0;34m(self, project)\u001b[0m\n\u001b[1;32m    199\u001b[0m \u001b[0;34m\u001b[0m\u001b[0m\n\u001b[1;32m    200\u001b[0m     \u001b[0;32mdef\u001b[0m \u001b[0m__init__\u001b[0m\u001b[0;34m(\u001b[0m\u001b[0mself\u001b[0m\u001b[0;34m,\u001b[0m \u001b[0mproject\u001b[0m\u001b[0;34m=\u001b[0m\u001b[0;32mNone\u001b[0m\u001b[0;34m)\u001b[0m\u001b[0;34m:\u001b[0m\u001b[0;34m\u001b[0m\u001b[0;34m\u001b[0m\u001b[0m\n\u001b[0;32m--> 201\u001b[0;31m         \u001b[0mproject\u001b[0m \u001b[0;34m=\u001b[0m \u001b[0mself\u001b[0m\u001b[0;34m.\u001b[0m\u001b[0m_determine_default\u001b[0m\u001b[0;34m(\u001b[0m\u001b[0mproject\u001b[0m\u001b[0;34m)\u001b[0m\u001b[0;34m\u001b[0m\u001b[0;34m\u001b[0m\u001b[0m\n\u001b[0m\u001b[1;32m    202\u001b[0m         \u001b[0;32mif\u001b[0m \u001b[0mproject\u001b[0m \u001b[0;32mis\u001b[0m \u001b[0;32mNone\u001b[0m\u001b[0;34m:\u001b[0m\u001b[0;34m\u001b[0m\u001b[0;34m\u001b[0m\u001b[0m\n\u001b[1;32m    203\u001b[0m             raise EnvironmentError(\n",
      "\u001b[0;32m~/opt/anaconda3/lib/python3.8/site-packages/google/cloud/client.py\u001b[0m in \u001b[0;36m_determine_default\u001b[0;34m(project)\u001b[0m\n\u001b[1;32m    214\u001b[0m     \u001b[0;32mdef\u001b[0m \u001b[0m_determine_default\u001b[0m\u001b[0;34m(\u001b[0m\u001b[0mproject\u001b[0m\u001b[0;34m)\u001b[0m\u001b[0;34m:\u001b[0m\u001b[0;34m\u001b[0m\u001b[0;34m\u001b[0m\u001b[0m\n\u001b[1;32m    215\u001b[0m         \u001b[0;34m\"\"\"Helper:  use default project detection.\"\"\"\u001b[0m\u001b[0;34m\u001b[0m\u001b[0;34m\u001b[0m\u001b[0m\n\u001b[0;32m--> 216\u001b[0;31m         \u001b[0;32mreturn\u001b[0m \u001b[0m_determine_default_project\u001b[0m\u001b[0;34m(\u001b[0m\u001b[0mproject\u001b[0m\u001b[0;34m)\u001b[0m\u001b[0;34m\u001b[0m\u001b[0;34m\u001b[0m\u001b[0m\n\u001b[0m\u001b[1;32m    217\u001b[0m \u001b[0;34m\u001b[0m\u001b[0m\n\u001b[1;32m    218\u001b[0m \u001b[0;34m\u001b[0m\u001b[0m\n",
      "\u001b[0;32m~/opt/anaconda3/lib/python3.8/site-packages/google/cloud/_helpers.py\u001b[0m in \u001b[0;36m_determine_default_project\u001b[0;34m(project)\u001b[0m\n\u001b[1;32m    184\u001b[0m     \"\"\"\n\u001b[1;32m    185\u001b[0m     \u001b[0;32mif\u001b[0m \u001b[0mproject\u001b[0m \u001b[0;32mis\u001b[0m \u001b[0;32mNone\u001b[0m\u001b[0;34m:\u001b[0m\u001b[0;34m\u001b[0m\u001b[0;34m\u001b[0m\u001b[0m\n\u001b[0;32m--> 186\u001b[0;31m         \u001b[0m_\u001b[0m\u001b[0;34m,\u001b[0m \u001b[0mproject\u001b[0m \u001b[0;34m=\u001b[0m \u001b[0mgoogle\u001b[0m\u001b[0;34m.\u001b[0m\u001b[0mauth\u001b[0m\u001b[0;34m.\u001b[0m\u001b[0mdefault\u001b[0m\u001b[0;34m(\u001b[0m\u001b[0;34m)\u001b[0m\u001b[0;34m\u001b[0m\u001b[0;34m\u001b[0m\u001b[0m\n\u001b[0m\u001b[1;32m    187\u001b[0m     \u001b[0;32mreturn\u001b[0m \u001b[0mproject\u001b[0m\u001b[0;34m\u001b[0m\u001b[0;34m\u001b[0m\u001b[0m\n\u001b[1;32m    188\u001b[0m \u001b[0;34m\u001b[0m\u001b[0m\n",
      "\u001b[0;32m~/opt/anaconda3/lib/python3.8/site-packages/google/auth/_default.py\u001b[0m in \u001b[0;36mdefault\u001b[0;34m(scopes, request, quota_project_id)\u001b[0m\n\u001b[1;32m    352\u001b[0m             \u001b[0;32mreturn\u001b[0m \u001b[0mcredentials\u001b[0m\u001b[0;34m,\u001b[0m \u001b[0meffective_project_id\u001b[0m\u001b[0;34m\u001b[0m\u001b[0;34m\u001b[0m\u001b[0m\n\u001b[1;32m    353\u001b[0m \u001b[0;34m\u001b[0m\u001b[0m\n\u001b[0;32m--> 354\u001b[0;31m     \u001b[0;32mraise\u001b[0m \u001b[0mexceptions\u001b[0m\u001b[0;34m.\u001b[0m\u001b[0mDefaultCredentialsError\u001b[0m\u001b[0;34m(\u001b[0m\u001b[0m_HELP_MESSAGE\u001b[0m\u001b[0;34m)\u001b[0m\u001b[0;34m\u001b[0m\u001b[0;34m\u001b[0m\u001b[0m\n\u001b[0m",
      "\u001b[0;31mDefaultCredentialsError\u001b[0m: Could not automatically determine credentials. Please set GOOGLE_APPLICATION_CREDENTIALS or explicitly create credentials and re-run the application. For more information, please see https://cloud.google.com/docs/authentication/getting-started"
     ]
    }
   ],
   "source": [
    "storage_client = storage.Client()"
   ]
  },
  {
   "cell_type": "markdown",
   "metadata": {
    "colab_type": "text",
    "id": "hHZQSxxqLFZR"
   },
   "source": [
    "If you aren't so lucky, you need to invoke a method of the `.Client` object that takes the path to your key files as a string argument:"
   ]
  },
  {
   "cell_type": "code",
   "execution_count": 2,
   "metadata": {
    "colab": {},
    "colab_type": "code",
    "id": "8nTBh0TvLFZR"
   },
   "outputs": [],
   "source": [
    "#key_path = '[PATH]'  # put the path to your json key file here \n",
    "#,                    (or write code to load it from a file that your notebook can easily find)\n",
    "key_path = '/Users/annaschreiner/Desktop/Institute of Data/Week 5/2 Tuesday/Practical/Google Big Query Keys My Project IOD.json'"
   ]
  },
  {
   "cell_type": "markdown",
   "metadata": {
    "colab_type": "text",
    "id": "0XKIHVy8LFZT"
   },
   "source": [
    "This should not throw an error if key retrieval / assignemnt worked:"
   ]
  },
  {
   "cell_type": "code",
   "execution_count": 3,
   "metadata": {
    "colab": {},
    "colab_type": "code",
    "id": "gfqDJPU9LFZT"
   },
   "outputs": [],
   "source": [
    "storage_client = storage.Client.from_service_account_json(key_path)"
   ]
  },
  {
   "cell_type": "markdown",
   "metadata": {
    "colab_type": "text",
    "id": "Z1sntjgJLFZU"
   },
   "source": [
    "*Nb. The `storage` object was used in the above example, but there are other objects of interest that have polymorphic `Client` members that are used similarly, such as `bigquery`, which is used below.*"
   ]
  },
  {
   "cell_type": "markdown",
   "metadata": {
    "colab_type": "text",
    "id": "UBEZd1KiLFZV"
   },
   "source": [
    "If implicit key retrieval is working for you, execute this:"
   ]
  },
  {
   "cell_type": "code",
   "execution_count": 4,
   "metadata": {
    "colab": {},
    "colab_type": "code",
    "id": "QL7DoAX7LFZV"
   },
   "outputs": [
    {
     "ename": "DefaultCredentialsError",
     "evalue": "Could not automatically determine credentials. Please set GOOGLE_APPLICATION_CREDENTIALS or explicitly create credentials and re-run the application. For more information, please see https://cloud.google.com/docs/authentication/getting-started",
     "output_type": "error",
     "traceback": [
      "\u001b[0;31m---------------------------------------------------------------------------\u001b[0m",
      "\u001b[0;31mDefaultCredentialsError\u001b[0m                   Traceback (most recent call last)",
      "\u001b[0;32m<ipython-input-4-490cf645c3eb>\u001b[0m in \u001b[0;36m<module>\u001b[0;34m\u001b[0m\n\u001b[0;32m----> 1\u001b[0;31m \u001b[0mclient\u001b[0m \u001b[0;34m=\u001b[0m \u001b[0mbigquery\u001b[0m\u001b[0;34m.\u001b[0m\u001b[0mClient\u001b[0m\u001b[0;34m(\u001b[0m\u001b[0;34m)\u001b[0m\u001b[0;34m\u001b[0m\u001b[0;34m\u001b[0m\u001b[0m\n\u001b[0m",
      "\u001b[0;32m~/opt/anaconda3/lib/python3.8/site-packages/google/cloud/bigquery/client.py\u001b[0m in \u001b[0;36m__init__\u001b[0;34m(self, project, credentials, _http, location, default_query_job_config, client_info, client_options)\u001b[0m\n\u001b[1;32m    172\u001b[0m         \u001b[0mclient_options\u001b[0m\u001b[0;34m=\u001b[0m\u001b[0;32mNone\u001b[0m\u001b[0;34m,\u001b[0m\u001b[0;34m\u001b[0m\u001b[0;34m\u001b[0m\u001b[0m\n\u001b[1;32m    173\u001b[0m     ):\n\u001b[0;32m--> 174\u001b[0;31m         super(Client, self).__init__(\n\u001b[0m\u001b[1;32m    175\u001b[0m             \u001b[0mproject\u001b[0m\u001b[0;34m=\u001b[0m\u001b[0mproject\u001b[0m\u001b[0;34m,\u001b[0m \u001b[0mcredentials\u001b[0m\u001b[0;34m=\u001b[0m\u001b[0mcredentials\u001b[0m\u001b[0;34m,\u001b[0m \u001b[0m_http\u001b[0m\u001b[0;34m=\u001b[0m\u001b[0m_http\u001b[0m\u001b[0;34m\u001b[0m\u001b[0;34m\u001b[0m\u001b[0m\n\u001b[1;32m    176\u001b[0m         )\n",
      "\u001b[0;32m~/opt/anaconda3/lib/python3.8/site-packages/google/cloud/client.py\u001b[0m in \u001b[0;36m__init__\u001b[0;34m(self, project, credentials, client_options, _http)\u001b[0m\n\u001b[1;32m    247\u001b[0m \u001b[0;34m\u001b[0m\u001b[0m\n\u001b[1;32m    248\u001b[0m     \u001b[0;32mdef\u001b[0m \u001b[0m__init__\u001b[0m\u001b[0;34m(\u001b[0m\u001b[0mself\u001b[0m\u001b[0;34m,\u001b[0m \u001b[0mproject\u001b[0m\u001b[0;34m=\u001b[0m\u001b[0;32mNone\u001b[0m\u001b[0;34m,\u001b[0m \u001b[0mcredentials\u001b[0m\u001b[0;34m=\u001b[0m\u001b[0;32mNone\u001b[0m\u001b[0;34m,\u001b[0m \u001b[0mclient_options\u001b[0m\u001b[0;34m=\u001b[0m\u001b[0;32mNone\u001b[0m\u001b[0;34m,\u001b[0m \u001b[0m_http\u001b[0m\u001b[0;34m=\u001b[0m\u001b[0;32mNone\u001b[0m\u001b[0;34m)\u001b[0m\u001b[0;34m:\u001b[0m\u001b[0;34m\u001b[0m\u001b[0;34m\u001b[0m\u001b[0m\n\u001b[0;32m--> 249\u001b[0;31m         \u001b[0m_ClientProjectMixin\u001b[0m\u001b[0;34m.\u001b[0m\u001b[0m__init__\u001b[0m\u001b[0;34m(\u001b[0m\u001b[0mself\u001b[0m\u001b[0;34m,\u001b[0m \u001b[0mproject\u001b[0m\u001b[0;34m=\u001b[0m\u001b[0mproject\u001b[0m\u001b[0;34m)\u001b[0m\u001b[0;34m\u001b[0m\u001b[0;34m\u001b[0m\u001b[0m\n\u001b[0m\u001b[1;32m    250\u001b[0m         \u001b[0mClient\u001b[0m\u001b[0;34m.\u001b[0m\u001b[0m__init__\u001b[0m\u001b[0;34m(\u001b[0m\u001b[0mself\u001b[0m\u001b[0;34m,\u001b[0m \u001b[0mcredentials\u001b[0m\u001b[0;34m=\u001b[0m\u001b[0mcredentials\u001b[0m\u001b[0;34m,\u001b[0m \u001b[0mclient_options\u001b[0m\u001b[0;34m=\u001b[0m\u001b[0mclient_options\u001b[0m\u001b[0;34m,\u001b[0m \u001b[0m_http\u001b[0m\u001b[0;34m=\u001b[0m\u001b[0m_http\u001b[0m\u001b[0;34m)\u001b[0m\u001b[0;34m\u001b[0m\u001b[0;34m\u001b[0m\u001b[0m\n",
      "\u001b[0;32m~/opt/anaconda3/lib/python3.8/site-packages/google/cloud/client.py\u001b[0m in \u001b[0;36m__init__\u001b[0;34m(self, project)\u001b[0m\n\u001b[1;32m    199\u001b[0m \u001b[0;34m\u001b[0m\u001b[0m\n\u001b[1;32m    200\u001b[0m     \u001b[0;32mdef\u001b[0m \u001b[0m__init__\u001b[0m\u001b[0;34m(\u001b[0m\u001b[0mself\u001b[0m\u001b[0;34m,\u001b[0m \u001b[0mproject\u001b[0m\u001b[0;34m=\u001b[0m\u001b[0;32mNone\u001b[0m\u001b[0;34m)\u001b[0m\u001b[0;34m:\u001b[0m\u001b[0;34m\u001b[0m\u001b[0;34m\u001b[0m\u001b[0m\n\u001b[0;32m--> 201\u001b[0;31m         \u001b[0mproject\u001b[0m \u001b[0;34m=\u001b[0m \u001b[0mself\u001b[0m\u001b[0;34m.\u001b[0m\u001b[0m_determine_default\u001b[0m\u001b[0;34m(\u001b[0m\u001b[0mproject\u001b[0m\u001b[0;34m)\u001b[0m\u001b[0;34m\u001b[0m\u001b[0;34m\u001b[0m\u001b[0m\n\u001b[0m\u001b[1;32m    202\u001b[0m         \u001b[0;32mif\u001b[0m \u001b[0mproject\u001b[0m \u001b[0;32mis\u001b[0m \u001b[0;32mNone\u001b[0m\u001b[0;34m:\u001b[0m\u001b[0;34m\u001b[0m\u001b[0;34m\u001b[0m\u001b[0m\n\u001b[1;32m    203\u001b[0m             raise EnvironmentError(\n",
      "\u001b[0;32m~/opt/anaconda3/lib/python3.8/site-packages/google/cloud/client.py\u001b[0m in \u001b[0;36m_determine_default\u001b[0;34m(project)\u001b[0m\n\u001b[1;32m    214\u001b[0m     \u001b[0;32mdef\u001b[0m \u001b[0m_determine_default\u001b[0m\u001b[0;34m(\u001b[0m\u001b[0mproject\u001b[0m\u001b[0;34m)\u001b[0m\u001b[0;34m:\u001b[0m\u001b[0;34m\u001b[0m\u001b[0;34m\u001b[0m\u001b[0m\n\u001b[1;32m    215\u001b[0m         \u001b[0;34m\"\"\"Helper:  use default project detection.\"\"\"\u001b[0m\u001b[0;34m\u001b[0m\u001b[0;34m\u001b[0m\u001b[0m\n\u001b[0;32m--> 216\u001b[0;31m         \u001b[0;32mreturn\u001b[0m \u001b[0m_determine_default_project\u001b[0m\u001b[0;34m(\u001b[0m\u001b[0mproject\u001b[0m\u001b[0;34m)\u001b[0m\u001b[0;34m\u001b[0m\u001b[0;34m\u001b[0m\u001b[0m\n\u001b[0m\u001b[1;32m    217\u001b[0m \u001b[0;34m\u001b[0m\u001b[0m\n\u001b[1;32m    218\u001b[0m \u001b[0;34m\u001b[0m\u001b[0m\n",
      "\u001b[0;32m~/opt/anaconda3/lib/python3.8/site-packages/google/cloud/_helpers.py\u001b[0m in \u001b[0;36m_determine_default_project\u001b[0;34m(project)\u001b[0m\n\u001b[1;32m    184\u001b[0m     \"\"\"\n\u001b[1;32m    185\u001b[0m     \u001b[0;32mif\u001b[0m \u001b[0mproject\u001b[0m \u001b[0;32mis\u001b[0m \u001b[0;32mNone\u001b[0m\u001b[0;34m:\u001b[0m\u001b[0;34m\u001b[0m\u001b[0;34m\u001b[0m\u001b[0m\n\u001b[0;32m--> 186\u001b[0;31m         \u001b[0m_\u001b[0m\u001b[0;34m,\u001b[0m \u001b[0mproject\u001b[0m \u001b[0;34m=\u001b[0m \u001b[0mgoogle\u001b[0m\u001b[0;34m.\u001b[0m\u001b[0mauth\u001b[0m\u001b[0;34m.\u001b[0m\u001b[0mdefault\u001b[0m\u001b[0;34m(\u001b[0m\u001b[0;34m)\u001b[0m\u001b[0;34m\u001b[0m\u001b[0;34m\u001b[0m\u001b[0m\n\u001b[0m\u001b[1;32m    187\u001b[0m     \u001b[0;32mreturn\u001b[0m \u001b[0mproject\u001b[0m\u001b[0;34m\u001b[0m\u001b[0;34m\u001b[0m\u001b[0m\n\u001b[1;32m    188\u001b[0m \u001b[0;34m\u001b[0m\u001b[0m\n",
      "\u001b[0;32m~/opt/anaconda3/lib/python3.8/site-packages/google/auth/_default.py\u001b[0m in \u001b[0;36mdefault\u001b[0;34m(scopes, request, quota_project_id)\u001b[0m\n\u001b[1;32m    352\u001b[0m             \u001b[0;32mreturn\u001b[0m \u001b[0mcredentials\u001b[0m\u001b[0;34m,\u001b[0m \u001b[0meffective_project_id\u001b[0m\u001b[0;34m\u001b[0m\u001b[0;34m\u001b[0m\u001b[0m\n\u001b[1;32m    353\u001b[0m \u001b[0;34m\u001b[0m\u001b[0m\n\u001b[0;32m--> 354\u001b[0;31m     \u001b[0;32mraise\u001b[0m \u001b[0mexceptions\u001b[0m\u001b[0;34m.\u001b[0m\u001b[0mDefaultCredentialsError\u001b[0m\u001b[0;34m(\u001b[0m\u001b[0m_HELP_MESSAGE\u001b[0m\u001b[0;34m)\u001b[0m\u001b[0;34m\u001b[0m\u001b[0;34m\u001b[0m\u001b[0m\n\u001b[0m",
      "\u001b[0;31mDefaultCredentialsError\u001b[0m: Could not automatically determine credentials. Please set GOOGLE_APPLICATION_CREDENTIALS or explicitly create credentials and re-run the application. For more information, please see https://cloud.google.com/docs/authentication/getting-started"
     ]
    }
   ],
   "source": [
    "client = bigquery.Client()"
   ]
  },
  {
   "cell_type": "markdown",
   "metadata": {
    "colab_type": "text",
    "id": "zSA3wp7NLFZX"
   },
   "source": [
    "if not, execute this:"
   ]
  },
  {
   "cell_type": "code",
   "execution_count": 5,
   "metadata": {
    "colab": {},
    "colab_type": "code",
    "id": "ljcqTlxXLFZX"
   },
   "outputs": [],
   "source": [
    "client = bigquery.Client.from_service_account_json(key_path)"
   ]
  },
  {
   "cell_type": "markdown",
   "metadata": {
    "colab_type": "text",
    "id": "kS1b8GXYLFZY"
   },
   "source": [
    "This client is associated with the default project (which was set or defaulted in the BigQuery UI): "
   ]
  },
  {
   "cell_type": "code",
   "execution_count": 6,
   "metadata": {
    "colab": {},
    "colab_type": "code",
    "id": "LflN4IlzLFZY"
   },
   "outputs": [
    {
     "data": {
      "text/plain": [
       "'my-project-iod-292404'"
      ]
     },
     "execution_count": 6,
     "metadata": {},
     "output_type": "execute_result"
    }
   ],
   "source": [
    "client.project"
   ]
  },
  {
   "cell_type": "markdown",
   "metadata": {
    "colab_type": "text",
    "id": "BXQNVF1XLFZb"
   },
   "source": [
    "A BigQuery project contains datasets. Datasets contain tables. To get at the data in a table we need to create a reference that covers this hierarchy; in the `bigquery` library this looks like `project.dataset.table`.  \n",
    "\n",
    "(Nb. Queries can be performed on prjects and datasets, but most queries are performed on tables.)"
   ]
  },
  {
   "cell_type": "markdown",
   "metadata": {
    "colab_type": "text",
    "id": "fOtLSyBdLFZb"
   },
   "source": [
    "To explore the public datasets we will start by reassgining our `client` variable using optional `project` parameter (set to `bigquery-public-data`):"
   ]
  },
  {
   "cell_type": "code",
   "execution_count": 7,
   "metadata": {
    "colab": {},
    "colab_type": "code",
    "id": "SQTQ24whLFZc"
   },
   "outputs": [
    {
     "name": "stdout",
     "output_type": "stream",
     "text": [
      "bigquery-public-data\n"
     ]
    }
   ],
   "source": [
    "#project = 'bigquery-public-data'\n",
    "client = bigquery.Client.from_service_account_json(key_path, project = 'bigquery-public-data')\n",
    "print(client.project)"
   ]
  },
  {
   "cell_type": "markdown",
   "metadata": {
    "colab_type": "text",
    "id": "ZonWy10xLFZe"
   },
   "source": [
    "Here is how to get a list of the datasets in the current project:"
   ]
  },
  {
   "cell_type": "code",
   "execution_count": 8,
   "metadata": {
    "colab": {},
    "colab_type": "code",
    "id": "yQan0v1vLFZe"
   },
   "outputs": [
    {
     "name": "stdout",
     "output_type": "stream",
     "text": [
      "[<google.cloud.bigquery.dataset.DatasetListItem object at 0x120bd9040>, <google.cloud.bigquery.dataset.DatasetListItem object at 0x120bd94c0>, <google.cloud.bigquery.dataset.DatasetListItem object at 0x120bd9a90>, <google.cloud.bigquery.dataset.DatasetListItem object at 0x120bd9ca0>, <google.cloud.bigquery.dataset.DatasetListItem object at 0x120bd9640>, <google.cloud.bigquery.dataset.DatasetListItem object at 0x120bd9670>, <google.cloud.bigquery.dataset.DatasetListItem object at 0x120bd91c0>, <google.cloud.bigquery.dataset.DatasetListItem object at 0x120bf83a0>, <google.cloud.bigquery.dataset.DatasetListItem object at 0x120bf80d0>, <google.cloud.bigquery.dataset.DatasetListItem object at 0x120bf87c0>, <google.cloud.bigquery.dataset.DatasetListItem object at 0x120bf8790>, <google.cloud.bigquery.dataset.DatasetListItem object at 0x120bf8820>, <google.cloud.bigquery.dataset.DatasetListItem object at 0x120bf8610>, <google.cloud.bigquery.dataset.DatasetListItem object at 0x120bf86a0>, <google.cloud.bigquery.dataset.DatasetListItem object at 0x120bf8880>, <google.cloud.bigquery.dataset.DatasetListItem object at 0x120bf8190>, <google.cloud.bigquery.dataset.DatasetListItem object at 0x120bf8670>, <google.cloud.bigquery.dataset.DatasetListItem object at 0x120bf8940>, <google.cloud.bigquery.dataset.DatasetListItem object at 0x120bf89a0>, <google.cloud.bigquery.dataset.DatasetListItem object at 0x120bf8a00>, <google.cloud.bigquery.dataset.DatasetListItem object at 0x120bf8a60>, <google.cloud.bigquery.dataset.DatasetListItem object at 0x120bf8ac0>, <google.cloud.bigquery.dataset.DatasetListItem object at 0x120bf8b20>, <google.cloud.bigquery.dataset.DatasetListItem object at 0x120bf8b80>, <google.cloud.bigquery.dataset.DatasetListItem object at 0x120bf8be0>, <google.cloud.bigquery.dataset.DatasetListItem object at 0x120bf8c40>, <google.cloud.bigquery.dataset.DatasetListItem object at 0x120bf8ca0>, <google.cloud.bigquery.dataset.DatasetListItem object at 0x120bf8d00>, <google.cloud.bigquery.dataset.DatasetListItem object at 0x120bf8d60>, <google.cloud.bigquery.dataset.DatasetListItem object at 0x120bf8dc0>, <google.cloud.bigquery.dataset.DatasetListItem object at 0x120bf8e20>, <google.cloud.bigquery.dataset.DatasetListItem object at 0x120bf8e80>, <google.cloud.bigquery.dataset.DatasetListItem object at 0x120bf8ee0>, <google.cloud.bigquery.dataset.DatasetListItem object at 0x120bf8f40>, <google.cloud.bigquery.dataset.DatasetListItem object at 0x120bf8fa0>, <google.cloud.bigquery.dataset.DatasetListItem object at 0x120c21040>, <google.cloud.bigquery.dataset.DatasetListItem object at 0x120c210a0>, <google.cloud.bigquery.dataset.DatasetListItem object at 0x120c21100>, <google.cloud.bigquery.dataset.DatasetListItem object at 0x120c21160>, <google.cloud.bigquery.dataset.DatasetListItem object at 0x120c211c0>, <google.cloud.bigquery.dataset.DatasetListItem object at 0x120c21220>, <google.cloud.bigquery.dataset.DatasetListItem object at 0x120c21280>, <google.cloud.bigquery.dataset.DatasetListItem object at 0x120c212e0>, <google.cloud.bigquery.dataset.DatasetListItem object at 0x120c21340>, <google.cloud.bigquery.dataset.DatasetListItem object at 0x120c213a0>, <google.cloud.bigquery.dataset.DatasetListItem object at 0x120c21400>, <google.cloud.bigquery.dataset.DatasetListItem object at 0x120c21460>, <google.cloud.bigquery.dataset.DatasetListItem object at 0x120c214c0>, <google.cloud.bigquery.dataset.DatasetListItem object at 0x120c21520>, <google.cloud.bigquery.dataset.DatasetListItem object at 0x120c21580>, <google.cloud.bigquery.dataset.DatasetListItem object at 0x120bd95e0>, <google.cloud.bigquery.dataset.DatasetListItem object at 0x120bf88e0>, <google.cloud.bigquery.dataset.DatasetListItem object at 0x120c21640>, <google.cloud.bigquery.dataset.DatasetListItem object at 0x120c217c0>, <google.cloud.bigquery.dataset.DatasetListItem object at 0x120c21880>, <google.cloud.bigquery.dataset.DatasetListItem object at 0x120c218e0>, <google.cloud.bigquery.dataset.DatasetListItem object at 0x120c21a00>, <google.cloud.bigquery.dataset.DatasetListItem object at 0x120c21790>, <google.cloud.bigquery.dataset.DatasetListItem object at 0x120c21b50>, <google.cloud.bigquery.dataset.DatasetListItem object at 0x120c21b20>, <google.cloud.bigquery.dataset.DatasetListItem object at 0x120c21970>, <google.cloud.bigquery.dataset.DatasetListItem object at 0x120c21940>, <google.cloud.bigquery.dataset.DatasetListItem object at 0x120c21c40>, <google.cloud.bigquery.dataset.DatasetListItem object at 0x120c21700>, <google.cloud.bigquery.dataset.DatasetListItem object at 0x120c216a0>, <google.cloud.bigquery.dataset.DatasetListItem object at 0x120c21760>, <google.cloud.bigquery.dataset.DatasetListItem object at 0x120c21820>, <google.cloud.bigquery.dataset.DatasetListItem object at 0x120c21bb0>, <google.cloud.bigquery.dataset.DatasetListItem object at 0x120c21d30>, <google.cloud.bigquery.dataset.DatasetListItem object at 0x120c21d90>, <google.cloud.bigquery.dataset.DatasetListItem object at 0x120c21df0>, <google.cloud.bigquery.dataset.DatasetListItem object at 0x120c21e50>, <google.cloud.bigquery.dataset.DatasetListItem object at 0x120c21eb0>, <google.cloud.bigquery.dataset.DatasetListItem object at 0x120c21f10>, <google.cloud.bigquery.dataset.DatasetListItem object at 0x120c21f70>, <google.cloud.bigquery.dataset.DatasetListItem object at 0x120c21fd0>, <google.cloud.bigquery.dataset.DatasetListItem object at 0x120c2f070>, <google.cloud.bigquery.dataset.DatasetListItem object at 0x120c2f0d0>, <google.cloud.bigquery.dataset.DatasetListItem object at 0x120c2f130>, <google.cloud.bigquery.dataset.DatasetListItem object at 0x120c2f190>, <google.cloud.bigquery.dataset.DatasetListItem object at 0x120c2f1f0>, <google.cloud.bigquery.dataset.DatasetListItem object at 0x120c2f250>, <google.cloud.bigquery.dataset.DatasetListItem object at 0x120c2f2b0>, <google.cloud.bigquery.dataset.DatasetListItem object at 0x120c2f310>, <google.cloud.bigquery.dataset.DatasetListItem object at 0x120c2f370>, <google.cloud.bigquery.dataset.DatasetListItem object at 0x120c2f3d0>, <google.cloud.bigquery.dataset.DatasetListItem object at 0x120c2f430>, <google.cloud.bigquery.dataset.DatasetListItem object at 0x120c2f490>, <google.cloud.bigquery.dataset.DatasetListItem object at 0x120c2f4f0>, <google.cloud.bigquery.dataset.DatasetListItem object at 0x120c2f550>, <google.cloud.bigquery.dataset.DatasetListItem object at 0x120c2f5b0>, <google.cloud.bigquery.dataset.DatasetListItem object at 0x120c2f610>, <google.cloud.bigquery.dataset.DatasetListItem object at 0x120c2f670>, <google.cloud.bigquery.dataset.DatasetListItem object at 0x120c2f6d0>, <google.cloud.bigquery.dataset.DatasetListItem object at 0x120c2f730>, <google.cloud.bigquery.dataset.DatasetListItem object at 0x120c2f790>, <google.cloud.bigquery.dataset.DatasetListItem object at 0x120c2f7f0>, <google.cloud.bigquery.dataset.DatasetListItem object at 0x120c2f850>, <google.cloud.bigquery.dataset.DatasetListItem object at 0x120c2f8b0>, <google.cloud.bigquery.dataset.DatasetListItem object at 0x120c2f910>, <google.cloud.bigquery.dataset.DatasetListItem object at 0x110229370>, <google.cloud.bigquery.dataset.DatasetListItem object at 0x120c2fa60>, <google.cloud.bigquery.dataset.DatasetListItem object at 0x120c2fca0>, <google.cloud.bigquery.dataset.DatasetListItem object at 0x120c2fc40>, <google.cloud.bigquery.dataset.DatasetListItem object at 0x120c2fbe0>, <google.cloud.bigquery.dataset.DatasetListItem object at 0x120c2fd30>, <google.cloud.bigquery.dataset.DatasetListItem object at 0x120c2fd60>, <google.cloud.bigquery.dataset.DatasetListItem object at 0x120c2ff10>, <google.cloud.bigquery.dataset.DatasetListItem object at 0x120c2fe80>, <google.cloud.bigquery.dataset.DatasetListItem object at 0x120c2fbb0>, <google.cloud.bigquery.dataset.DatasetListItem object at 0x120c2fd90>, <google.cloud.bigquery.dataset.DatasetListItem object at 0x120c2ffd0>, <google.cloud.bigquery.dataset.DatasetListItem object at 0x120c2fa90>, <google.cloud.bigquery.dataset.DatasetListItem object at 0x120c2fa30>, <google.cloud.bigquery.dataset.DatasetListItem object at 0x120c2faf0>, <google.cloud.bigquery.dataset.DatasetListItem object at 0x120c2fb50>, <google.cloud.bigquery.dataset.DatasetListItem object at 0x120c2ff40>, <google.cloud.bigquery.dataset.DatasetListItem object at 0x120c21c70>, <google.cloud.bigquery.dataset.DatasetListItem object at 0x120c320a0>, <google.cloud.bigquery.dataset.DatasetListItem object at 0x120c32100>, <google.cloud.bigquery.dataset.DatasetListItem object at 0x120c32160>, <google.cloud.bigquery.dataset.DatasetListItem object at 0x120c321c0>, <google.cloud.bigquery.dataset.DatasetListItem object at 0x120c32220>, <google.cloud.bigquery.dataset.DatasetListItem object at 0x120c32280>, <google.cloud.bigquery.dataset.DatasetListItem object at 0x120c322e0>, <google.cloud.bigquery.dataset.DatasetListItem object at 0x120c32340>, <google.cloud.bigquery.dataset.DatasetListItem object at 0x120c323a0>, <google.cloud.bigquery.dataset.DatasetListItem object at 0x120c32400>, <google.cloud.bigquery.dataset.DatasetListItem object at 0x120c32460>, <google.cloud.bigquery.dataset.DatasetListItem object at 0x120c324c0>, <google.cloud.bigquery.dataset.DatasetListItem object at 0x120c32520>, <google.cloud.bigquery.dataset.DatasetListItem object at 0x120c32580>, <google.cloud.bigquery.dataset.DatasetListItem object at 0x120c325e0>, <google.cloud.bigquery.dataset.DatasetListItem object at 0x120c32640>, <google.cloud.bigquery.dataset.DatasetListItem object at 0x120c326a0>, <google.cloud.bigquery.dataset.DatasetListItem object at 0x120c32700>, <google.cloud.bigquery.dataset.DatasetListItem object at 0x120c32760>, <google.cloud.bigquery.dataset.DatasetListItem object at 0x120c327c0>, <google.cloud.bigquery.dataset.DatasetListItem object at 0x120c32820>, <google.cloud.bigquery.dataset.DatasetListItem object at 0x120c32880>, <google.cloud.bigquery.dataset.DatasetListItem object at 0x120c328e0>, <google.cloud.bigquery.dataset.DatasetListItem object at 0x120c32940>, <google.cloud.bigquery.dataset.DatasetListItem object at 0x120c329a0>, <google.cloud.bigquery.dataset.DatasetListItem object at 0x120c32a00>, <google.cloud.bigquery.dataset.DatasetListItem object at 0x120c32a60>, <google.cloud.bigquery.dataset.DatasetListItem object at 0x120c32ac0>, <google.cloud.bigquery.dataset.DatasetListItem object at 0x120c32b20>, <google.cloud.bigquery.dataset.DatasetListItem object at 0x120c32b80>, <google.cloud.bigquery.dataset.DatasetListItem object at 0x120c32be0>, <google.cloud.bigquery.dataset.DatasetListItem object at 0x120c32c40>, <google.cloud.bigquery.dataset.DatasetListItem object at 0x120c2f970>, <google.cloud.bigquery.dataset.DatasetListItem object at 0x120c32cd0>, <google.cloud.bigquery.dataset.DatasetListItem object at 0x120c32eb0>, <google.cloud.bigquery.dataset.DatasetListItem object at 0x120c32f40>, <google.cloud.bigquery.dataset.DatasetListItem object at 0x120c32fa0>, <google.cloud.bigquery.dataset.DatasetListItem object at 0x120c32e50>, <google.cloud.bigquery.dataset.DatasetListItem object at 0x120c32df0>, <google.cloud.bigquery.dataset.DatasetListItem object at 0x120c32d30>, <google.cloud.bigquery.dataset.DatasetListItem object at 0x120c32e80>]\n"
     ]
    }
   ],
   "source": [
    "datasets = list(client.list_datasets())\n",
    "print(datasets)"
   ]
  },
  {
   "cell_type": "markdown",
   "metadata": {
    "colab_type": "text",
    "id": "_UoYS4suLFZg"
   },
   "source": [
    "That wasn't helpful. We need to go deeper into the object structure to get at something meaningful. Actually, the `dataset_id` member contains the name attribute of a `dataset` object; write some code to print that name for each member of the list that was created above:"
   ]
  },
  {
   "cell_type": "code",
   "execution_count": 0,
   "metadata": {
    "colab": {},
    "colab_type": "code",
    "id": "MBV3-c21LFZi"
   },
   "outputs": [],
   "source": [
    "#?"
   ]
  },
  {
   "cell_type": "markdown",
   "metadata": {
    "colab_type": "text",
    "id": "1VKuobUSLFZk"
   },
   "source": [
    "The google API objects in the `bigquery` library have their own overloads of the format() function that make them easier to read. Below is a function that exploits the `format` method of `project` and `dataset_id`, providing an easy way to list datasets:"
   ]
  },
  {
   "cell_type": "code",
   "execution_count": 9,
   "metadata": {
    "colab": {},
    "colab_type": "code",
    "id": "obqd0X0vLFZl"
   },
   "outputs": [],
   "source": [
    "# function for listing datasets in a project:\n",
    "def printDatasetList(client):\n",
    "    project = client.project    #: only one project can be associated with a client instance\n",
    "    datasets = list(client.list_datasets())\n",
    "    if datasets:\n",
    "        print('Datasets in project {}:'.format(project))\n",
    "        for dataset in datasets:  \n",
    "            print('\\t{}'.format(dataset.dataset_id))\n",
    "        found = True\n",
    "    else:\n",
    "        print('{} project does not contain any datasets.'.format(project))\n",
    "        found = False\n",
    "    return found"
   ]
  },
  {
   "cell_type": "code",
   "execution_count": 23,
   "metadata": {
    "colab": {},
    "colab_type": "code",
    "id": "TcS8DXenLFZn"
   },
   "outputs": [
    {
     "name": "stdout",
     "output_type": "stream",
     "text": [
      "Datasets in project bigquery-public-data:\n",
      "\taustin_311\n",
      "\taustin_bikeshare\n",
      "\taustin_crime\n",
      "\taustin_incidents\n",
      "\taustin_waste\n",
      "\tbaseball\n",
      "\tbitcoin_blockchain\n",
      "\tbls\n",
      "\tbls_qcew\n",
      "\tbreathe\n",
      "\tbroadstreet_adi\n",
      "\tcatalonian_mobile_coverage\n",
      "\tcatalonian_mobile_coverage_eu\n",
      "\tcensus_bureau_acs\n",
      "\tcensus_bureau_construction\n",
      "\tcensus_bureau_international\n",
      "\tcensus_bureau_usa\n",
      "\tcensus_utility\n",
      "\tcfpb_complaints\n",
      "\tchicago_crime\n",
      "\tchicago_taxi_trips\n",
      "\tcloud_storage_geo_index\n",
      "\tcms_codes\n",
      "\tcms_medicare\n",
      "\tcms_synthetic_patient_data_omop\n",
      "\tcovid19_aha\n",
      "\tcovid19_ecdc\n",
      "\tcovid19_ecdc_eu\n",
      "\tcovid19_geotab_mobility_impact\n",
      "\tcovid19_geotab_mobility_impact_eu\n",
      "\tcovid19_google_mobility\n",
      "\tcovid19_google_mobility_eu\n",
      "\tcovid19_govt_response\n",
      "\tcovid19_italy\n",
      "\tcovid19_italy_eu\n",
      "\tcovid19_jhu_csse\n",
      "\tcovid19_jhu_csse_eu\n",
      "\tcovid19_nyt\n",
      "\tcovid19_open_data\n",
      "\tcovid19_open_data_eu\n",
      "\tcovid19_public_forecasts\n",
      "\tcovid19_symptom_search\n",
      "\tcovid19_usafacts\n",
      "\tcovid19_weathersource_com\n",
      "\tcrypto_bitcoin\n",
      "\tcrypto_bitcoin_cash\n",
      "\tcrypto_dash\n",
      "\tcrypto_dogecoin\n",
      "\tcrypto_ethereum\n",
      "\tcrypto_ethereum_classic\n",
      "\tcrypto_litecoin\n",
      "\tcrypto_zcash\n",
      "\teclipse_megamovie\n",
      "\tepa_historical_air_quality\n",
      "\tethereum_blockchain\n",
      "\tfaa\n",
      "\tfcc_political_ads\n",
      "\tfda_drug\n",
      "\tfda_food\n",
      "\tfdic_banks\n",
      "\tfec\n",
      "\tfhir_synthea\n",
      "\tgenomics_cannabis\n",
      "\tgenomics_rice\n",
      "\tgeo_census_blockgroups\n",
      "\tgeo_census_tracts\n",
      "\tgeo_international_ports\n",
      "\tgeo_openstreetmap\n",
      "\tgeo_us_boundaries\n",
      "\tgeo_us_census_places\n",
      "\tgeo_us_roads\n",
      "\tgeo_whos_on_first\n",
      "\tgeolite2\n",
      "\tghcn_d\n",
      "\tghcn_m\n",
      "\tgithub_repos\n",
      "\tgnomAD\n",
      "\tgnomAD_asiane1\n",
      "\tgnomAD_eu\n",
      "\tgoogle_ads\n",
      "\tgoogle_analytics_sample\n",
      "\tgoogle_political_ads\n",
      "\thacker_news\n",
      "\thud_zipcode_crosswalk\n",
      "\thuman_genome_variants\n",
      "\thuman_variant_annotation\n",
      "\timmune_epitope_db\n",
      "\tiowa_liquor_sales\n",
      "\tirs_990\n",
      "\tlabeled_patents\n",
      "\tlibraries_io\n",
      "\tlondon_bicycles\n",
      "\tlondon_crime\n",
      "\tlondon_fire_brigade\n",
      "\tmedicare\n",
      "\tml_datasets\n",
      "\tmoon_phases\n",
      "\tnasa_wildfire\n",
      "\tncaa_basketball\n",
      "\tnew_york\n",
      "\tnew_york_311\n",
      "\tnew_york_citibike\n",
      "\tnew_york_mv_collisions\n",
      "\tnew_york_subway\n",
      "\tnew_york_taxi_trips\n",
      "\tnew_york_trees\n",
      "\tnhtsa_traffic_fatalities\n",
      "\tnlm_rxnorm\n",
      "\tnoaa_goes16\n",
      "\tnoaa_goes17\n",
      "\tnoaa_gsod\n",
      "\tnoaa_historic_severe_storms\n",
      "\tnoaa_hurricanes\n",
      "\tnoaa_icoads\n",
      "\tnoaa_lightning\n",
      "\tnoaa_passive_acoustic_index\n",
      "\tnoaa_pifsc_metadata\n",
      "\tnoaa_preliminary_severe_storms\n",
      "\tnoaa_significant_earthquakes\n",
      "\tnoaa_tsunami\n",
      "\tnppes\n",
      "\topen_images\n",
      "\topenaq\n",
      "\tpersistent_udfs\n",
      "\tsamples\n",
      "\tsan_francisco\n",
      "\tsan_francisco_311\n",
      "\tsan_francisco_bikeshare\n",
      "\tsan_francisco_film_locations\n",
      "\tsan_francisco_sffd_service_calls\n",
      "\tsan_francisco_sfpd_incidents\n",
      "\tsan_francisco_transit_muni\n",
      "\tsan_francisco_trees\n",
      "\tsdoh_bea_cainc30\n",
      "\tsdoh_cdc_wonder_natality\n",
      "\tsdoh_cms_dual_eligible_enrollment\n",
      "\tsdoh_hrsa_shortage_areas\n",
      "\tsdoh_hud_housing\n",
      "\tsdoh_hud_pit_homelessness\n",
      "\tsdoh_snap_enrollment\n",
      "\tsec_quarterly_financials\n",
      "\tstackoverflow\n",
      "\tsunroof_solar\n",
      "\tthe_met\n",
      "\tumiami_lincs\n",
      "\tun_sdg\n",
      "\tusa_names\n",
      "\tusda_nass_agriculture\n",
      "\tusfs_fia\n",
      "\tutility_eu\n",
      "\tutility_us\n",
      "\twikipedia\n",
      "\twise_all_sky_data_release\n",
      "\tworld_bank_global_population\n",
      "\tworld_bank_health_population\n",
      "\tworld_bank_intl_debt\n",
      "\tworld_bank_intl_education\n",
      "\tworld_bank_wdi\n",
      "\tworldpop\n"
     ]
    }
   ],
   "source": [
    "# list datasets in the default project:\n",
    "flag = printDatasetList(client)  #: assigning to `flag` suppresses printing the return value (normally `True`)"
   ]
  },
  {
   "cell_type": "markdown",
   "metadata": {
    "colab_type": "text",
    "id": "81uawTW5LFZo"
   },
   "source": [
    "This list should correspond to what is shown here https://bigquery.cloud.google.com/publicdatasets under the **bigquery-public-data** item:\n",
    "\n",
    "![image.png](attachment:image.png)"
   ]
  },
  {
   "cell_type": "markdown",
   "metadata": {
    "colab_type": "text",
    "id": "bEAfjVxOLFZo"
   },
   "source": [
    "Here is how to create a dataset reference object by assigning a project and a dataset name:"
   ]
  },
  {
   "cell_type": "code",
   "execution_count": 10,
   "metadata": {
    "colab": {},
    "colab_type": "code",
    "id": "ZrSaLIkWLFZo"
   },
   "outputs": [],
   "source": [
    "dataset_id = 'samples'\n",
    "dataset_ref = client.dataset(dataset_id)"
   ]
  },
  {
   "cell_type": "markdown",
   "metadata": {
    "colab_type": "text",
    "id": "5BlLbSA7LFZp"
   },
   "source": [
    "If our current project was something other than `bigquery-public-data`, we could still create this reference by specifying the project that contains the dataset:"
   ]
  },
  {
   "cell_type": "code",
   "execution_count": 11,
   "metadata": {
    "colab": {},
    "colab_type": "code",
    "id": "NJK5yM9BLFZq"
   },
   "outputs": [],
   "source": [
    "dataset_id = 'samples'\n",
    "dataset_ref = client.dataset(dataset_id, project = 'bigquery-public-data')"
   ]
  },
  {
   "cell_type": "markdown",
   "metadata": {
    "colab_type": "text",
    "id": "6_fYqMyGLFZr"
   },
   "source": [
    "How can we get the path of the dataset?"
   ]
  },
  {
   "cell_type": "code",
   "execution_count": 0,
   "metadata": {
    "colab": {},
    "colab_type": "code",
    "id": "otqzZohpLFZs"
   },
   "outputs": [],
   "source": [
    "#?"
   ]
  },
  {
   "cell_type": "markdown",
   "metadata": {
    "colab_type": "text",
    "id": "dRzK-hTuLFZt"
   },
   "source": [
    "Explore more of this object's members:\n",
    "\n",
    "*(HINT: Jupyter Notebooks does not support code completion, but Spyder and other Python IDEs do. If you copy all the above code to a Python file within the IDE, you can type `dataset_ref.` in a new line, then hit the [Tab] key to see the available members for the object.)*"
   ]
  },
  {
   "cell_type": "code",
   "execution_count": 0,
   "metadata": {
    "colab": {},
    "colab_type": "code",
    "id": "s9HM7PiMLFZt"
   },
   "outputs": [],
   "source": [
    "#?\n",
    "dataset_ref."
   ]
  },
  {
   "cell_type": "markdown",
   "metadata": {
    "colab_type": "text",
    "id": "NZB6yeerLFZu"
   },
   "source": [
    "Here is a function for listing the tables in a dataset: "
   ]
  },
  {
   "cell_type": "code",
   "execution_count": 12,
   "metadata": {
    "colab": {},
    "colab_type": "code",
    "id": "_E5S-MhtLFZu"
   },
   "outputs": [],
   "source": [
    "# function for listing tables in a dataset:\n",
    "def printTableList(client, dataset_id):\n",
    "    project = client.project\n",
    "    dataset_ref = client.dataset(dataset_id, project = project)    \n",
    "    tables = list(client.list_tables(dataset_ref))\n",
    "    if tables:\n",
    "        print('Tables in dataset {}:'.format(dataset_id))\n",
    "        for table in tables: \n",
    "            print('\\t{}'.format(table.table_id))\n",
    "        found = True\n",
    "    else:\n",
    "        print('{} dataset does not contain any tables.'.format(dataset_id))\n",
    "        found = False\n",
    "    return found"
   ]
  },
  {
   "cell_type": "markdown",
   "metadata": {
    "colab_type": "text",
    "id": "ksp2VbNcLFZv"
   },
   "source": [
    "Use this function to list the tables in the current dataset:"
   ]
  },
  {
   "cell_type": "code",
   "execution_count": 13,
   "metadata": {
    "colab": {},
    "colab_type": "code",
    "id": "F2KEisFzLFZv"
   },
   "outputs": [
    {
     "name": "stdout",
     "output_type": "stream",
     "text": [
      "Tables in dataset samples:\n",
      "\tgithub_nested\n",
      "\tgithub_timeline\n",
      "\tgsod\n",
      "\tnatality\n",
      "\tshakespeare\n",
      "\ttrigrams\n",
      "\twikipedia\n"
     ]
    },
    {
     "data": {
      "text/plain": [
       "True"
      ]
     },
     "execution_count": 13,
     "metadata": {},
     "output_type": "execute_result"
    }
   ],
   "source": [
    "#?\n",
    "printTableList(client, dataset_id)"
   ]
  },
  {
   "cell_type": "markdown",
   "metadata": {
    "colab_type": "text",
    "id": "XoZPwFx1LFZx"
   },
   "source": [
    "To create a reference to a table within the dataset, we use the `table_id` attribute:"
   ]
  },
  {
   "cell_type": "code",
   "execution_count": 14,
   "metadata": {
    "colab": {},
    "colab_type": "code",
    "id": "rYXUHik0LFZx"
   },
   "outputs": [],
   "source": [
    "table_id = 'shakespeare'\n",
    "table_ref = dataset_ref.table(table_id)"
   ]
  },
  {
   "cell_type": "markdown",
   "metadata": {
    "colab_type": "text",
    "id": "3MZOaAuiLFZy"
   },
   "source": [
    "Check the name of the table that `table_ref` now points to:"
   ]
  },
  {
   "cell_type": "code",
   "execution_count": 16,
   "metadata": {
    "colab": {},
    "colab_type": "code",
    "id": "6B9AAg4tLFZz"
   },
   "outputs": [
    {
     "data": {
      "text/plain": [
       "'shakespeare'"
      ]
     },
     "execution_count": 16,
     "metadata": {},
     "output_type": "execute_result"
    }
   ],
   "source": [
    "table_ref.table_id"
   ]
  },
  {
   "cell_type": "markdown",
   "metadata": {
    "colab_type": "text",
    "id": "gOo7O5lVLFZ0"
   },
   "source": [
    "To access the data in the table itself, we use the `get_table()` method:"
   ]
  },
  {
   "cell_type": "code",
   "execution_count": 17,
   "metadata": {
    "colab": {},
    "colab_type": "code",
    "id": "rjnXTIoULFZ0"
   },
   "outputs": [],
   "source": [
    "table = client.get_table(table_ref)  # API Request"
   ]
  },
  {
   "cell_type": "markdown",
   "metadata": {
    "colab_type": "text",
    "id": "Ggy5pIrYLFZ2"
   },
   "source": [
    "NOTE: The contents of the table are not actually in our memory after this call! We are working with a Big Data platform, now, and we could easily end up pulling GBs or TBs of data by accident. \n",
    "\n",
    "To minimise data bandwidth, memory consumption, and processing time, Big Data platforms employ ***lazy evaluation***. This means that no computation or data transfer actually takes place until we *realise* (use) the data. Even if we execute subsequent code that performs calculations on the data, no data flow or computation actually occurs until we request output (e.g. by executing a print to stdout or writing to a file). "
   ]
  },
  {
   "cell_type": "markdown",
   "metadata": {
    "colab_type": "text",
    "id": "5Sa9uV6tLFZ2"
   },
   "source": [
    "What kind of object is returned by `client.get_table`?"
   ]
  },
  {
   "cell_type": "code",
   "execution_count": 20,
   "metadata": {
    "colab": {},
    "colab_type": "code",
    "id": "cdmNEp6ZLFZ3"
   },
   "outputs": [
    {
     "data": {
      "text/plain": [
       "google.cloud.bigquery.table.Table"
      ]
     },
     "execution_count": 20,
     "metadata": {},
     "output_type": "execute_result"
    }
   ],
   "source": [
    "type(table)"
   ]
  },
  {
   "cell_type": "markdown",
   "metadata": {
    "colab_type": "text",
    "id": "rcaJMPCNLFZ4"
   },
   "source": [
    "How can we view the design of the table (cOlumn names and types? The name of the boject attribute we need is the same term we learned in the module on databases:"
   ]
  },
  {
   "cell_type": "code",
   "execution_count": 21,
   "metadata": {
    "colab": {},
    "colab_type": "code",
    "id": "gt4FQZ88LFZ4"
   },
   "outputs": [
    {
     "name": "stdout",
     "output_type": "stream",
     "text": [
      "[SchemaField('word', 'STRING', 'REQUIRED', 'A single unique word (where whitespace is the delimiter) extracted from a corpus.', ()), SchemaField('word_count', 'INTEGER', 'REQUIRED', 'The number of times this word appears in this corpus.', ()), SchemaField('corpus', 'STRING', 'REQUIRED', 'The work from which this word was extracted.', ()), SchemaField('corpus_date', 'INTEGER', 'REQUIRED', 'The year in which this corpus was published.', ())]\n"
     ]
    }
   ],
   "source": [
    "print(table.schema)"
   ]
  },
  {
   "cell_type": "markdown",
   "metadata": {
    "colab_type": "text",
    "id": "FfaKrQRSLFZ6"
   },
   "source": [
    "Again, this is messy. If we wanted to refer to the column names and types in code, we might use something like this (which we could then parse into a dict):"
   ]
  },
  {
   "cell_type": "code",
   "execution_count": 22,
   "metadata": {
    "colab": {},
    "colab_type": "code",
    "id": "8187Fu57LFZ6"
   },
   "outputs": [
    {
     "name": "stdout",
     "output_type": "stream",
     "text": [
      "['word STRING', 'word_count INTEGER', 'corpus STRING', 'corpus_date INTEGER']\n"
     ]
    }
   ],
   "source": [
    "result = [\"{0} {1}\".format(schema.name,schema.field_type) for schema in table.schema]\n",
    "print(result)"
   ]
  },
  {
   "cell_type": "markdown",
   "metadata": {
    "colab_type": "text",
    "id": "ZQz7xhfwLFZ7"
   },
   "source": [
    "But if we just want to print them, here is another neat function for that:"
   ]
  },
  {
   "cell_type": "code",
   "execution_count": 23,
   "metadata": {
    "colab": {},
    "colab_type": "code",
    "id": "_LqvAXo3LFZ7"
   },
   "outputs": [],
   "source": [
    "# function to print a table schema:\n",
    "def printTableSchema(aTable):\n",
    "    schemas = list(aTable.schema)\n",
    "    if schemas:\n",
    "        print('Table schema for {}:'.format(aTable.table_id))\n",
    "        for aSchema in schemas:\n",
    "            print('\\t{0} {1}'.format(aSchema.name, aSchema.field_type))\n",
    "        found = True\n",
    "    else:\n",
    "        found = False\n",
    "    return found"
   ]
  },
  {
   "cell_type": "markdown",
   "metadata": {
    "colab_type": "text",
    "id": "SROTDIm8LFZ8"
   },
   "source": [
    "Use this function to print the table schema:"
   ]
  },
  {
   "cell_type": "code",
   "execution_count": 24,
   "metadata": {
    "colab": {},
    "colab_type": "code",
    "id": "DpmWRmXmLFZ9"
   },
   "outputs": [
    {
     "name": "stdout",
     "output_type": "stream",
     "text": [
      "Table schema for shakespeare:\n",
      "\tword STRING\n",
      "\tword_count INTEGER\n",
      "\tcorpus STRING\n",
      "\tcorpus_date INTEGER\n"
     ]
    },
    {
     "data": {
      "text/plain": [
       "True"
      ]
     },
     "execution_count": 24,
     "metadata": {},
     "output_type": "execute_result"
    }
   ],
   "source": [
    "printTableSchema(table)"
   ]
  },
  {
   "cell_type": "markdown",
   "metadata": {
    "colab_type": "text",
    "id": "Q1YugUUhLFZ-"
   },
   "source": [
    "Now that we know what the columns are, we can write queries. Actually, we construct a query job by assigning an SQL statement to a method of the `client` object:"
   ]
  },
  {
   "cell_type": "code",
   "execution_count": 25,
   "metadata": {
    "colab": {},
    "colab_type": "code",
    "id": "Gq7cGALfLFZ-"
   },
   "outputs": [
    {
     "ename": "Forbidden",
     "evalue": "403 POST https://bigquery.googleapis.com/bigquery/v2/projects/bigquery-public-data/jobs?prettyPrint=false: Access Denied: Project bigquery-public-data: User does not have bigquery.jobs.create permission in project bigquery-public-data.\n\n(job ID: 3b7a9a29-db00-4a94-ae38-f9bfa3e5c7ff)\n\n                  -----Query Job SQL Follows-----                   \n\n    |    .    |    .    |    .    |    .    |    .    |    .    |\n   1:SELECT COUNT(1) FROM `bigquery-public-data.samples.shakespeare`\n    |    .    |    .    |    .    |    .    |    .    |    .    |",
     "output_type": "error",
     "traceback": [
      "\u001b[0;31m---------------------------------------------------------------------------\u001b[0m",
      "\u001b[0;31mForbidden\u001b[0m                                 Traceback (most recent call last)",
      "\u001b[0;32m<ipython-input-25-7b84bddb1973>\u001b[0m in \u001b[0;36m<module>\u001b[0;34m\u001b[0m\n\u001b[1;32m      1\u001b[0m \u001b[0msql\u001b[0m \u001b[0;34m=\u001b[0m \u001b[0;34m\"SELECT COUNT(1) FROM `bigquery-public-data.samples.shakespeare`\"\u001b[0m\u001b[0;34m\u001b[0m\u001b[0;34m\u001b[0m\u001b[0m\n\u001b[0;32m----> 2\u001b[0;31m \u001b[0mquery_job\u001b[0m \u001b[0;34m=\u001b[0m \u001b[0mclient\u001b[0m\u001b[0;34m.\u001b[0m\u001b[0mquery\u001b[0m\u001b[0;34m(\u001b[0m\u001b[0msql\u001b[0m\u001b[0;34m)\u001b[0m\u001b[0;34m\u001b[0m\u001b[0;34m\u001b[0m\u001b[0m\n\u001b[0m",
      "\u001b[0;32m~/opt/anaconda3/lib/python3.8/site-packages/google/cloud/bigquery/client.py\u001b[0m in \u001b[0;36mquery\u001b[0;34m(self, query, job_config, job_id, job_id_prefix, location, project, retry)\u001b[0m\n\u001b[1;32m   2142\u001b[0m         \u001b[0mjob_ref\u001b[0m \u001b[0;34m=\u001b[0m \u001b[0mjob\u001b[0m\u001b[0;34m.\u001b[0m\u001b[0m_JobReference\u001b[0m\u001b[0;34m(\u001b[0m\u001b[0mjob_id\u001b[0m\u001b[0;34m,\u001b[0m \u001b[0mproject\u001b[0m\u001b[0;34m=\u001b[0m\u001b[0mproject\u001b[0m\u001b[0;34m,\u001b[0m \u001b[0mlocation\u001b[0m\u001b[0;34m=\u001b[0m\u001b[0mlocation\u001b[0m\u001b[0;34m)\u001b[0m\u001b[0;34m\u001b[0m\u001b[0;34m\u001b[0m\u001b[0m\n\u001b[1;32m   2143\u001b[0m         \u001b[0mquery_job\u001b[0m \u001b[0;34m=\u001b[0m \u001b[0mjob\u001b[0m\u001b[0;34m.\u001b[0m\u001b[0mQueryJob\u001b[0m\u001b[0;34m(\u001b[0m\u001b[0mjob_ref\u001b[0m\u001b[0;34m,\u001b[0m \u001b[0mquery\u001b[0m\u001b[0;34m,\u001b[0m \u001b[0mclient\u001b[0m\u001b[0;34m=\u001b[0m\u001b[0mself\u001b[0m\u001b[0;34m,\u001b[0m \u001b[0mjob_config\u001b[0m\u001b[0;34m=\u001b[0m\u001b[0mjob_config\u001b[0m\u001b[0;34m)\u001b[0m\u001b[0;34m\u001b[0m\u001b[0;34m\u001b[0m\u001b[0m\n\u001b[0;32m-> 2144\u001b[0;31m         \u001b[0mquery_job\u001b[0m\u001b[0;34m.\u001b[0m\u001b[0m_begin\u001b[0m\u001b[0;34m(\u001b[0m\u001b[0mretry\u001b[0m\u001b[0;34m=\u001b[0m\u001b[0mretry\u001b[0m\u001b[0;34m)\u001b[0m\u001b[0;34m\u001b[0m\u001b[0;34m\u001b[0m\u001b[0m\n\u001b[0m\u001b[1;32m   2145\u001b[0m \u001b[0;34m\u001b[0m\u001b[0m\n\u001b[1;32m   2146\u001b[0m         \u001b[0;32mreturn\u001b[0m \u001b[0mquery_job\u001b[0m\u001b[0;34m\u001b[0m\u001b[0;34m\u001b[0m\u001b[0m\n",
      "\u001b[0;32m~/opt/anaconda3/lib/python3.8/site-packages/google/cloud/bigquery/job.py\u001b[0m in \u001b[0;36m_begin\u001b[0;34m(self, client, retry)\u001b[0m\n\u001b[1;32m   3045\u001b[0m \u001b[0;34m\u001b[0m\u001b[0m\n\u001b[1;32m   3046\u001b[0m         \u001b[0;32mtry\u001b[0m\u001b[0;34m:\u001b[0m\u001b[0;34m\u001b[0m\u001b[0;34m\u001b[0m\u001b[0m\n\u001b[0;32m-> 3047\u001b[0;31m             \u001b[0msuper\u001b[0m\u001b[0;34m(\u001b[0m\u001b[0mQueryJob\u001b[0m\u001b[0;34m,\u001b[0m \u001b[0mself\u001b[0m\u001b[0;34m)\u001b[0m\u001b[0;34m.\u001b[0m\u001b[0m_begin\u001b[0m\u001b[0;34m(\u001b[0m\u001b[0mclient\u001b[0m\u001b[0;34m=\u001b[0m\u001b[0mclient\u001b[0m\u001b[0;34m,\u001b[0m \u001b[0mretry\u001b[0m\u001b[0;34m=\u001b[0m\u001b[0mretry\u001b[0m\u001b[0;34m)\u001b[0m\u001b[0;34m\u001b[0m\u001b[0;34m\u001b[0m\u001b[0m\n\u001b[0m\u001b[1;32m   3048\u001b[0m         \u001b[0;32mexcept\u001b[0m \u001b[0mexceptions\u001b[0m\u001b[0;34m.\u001b[0m\u001b[0mGoogleCloudError\u001b[0m \u001b[0;32mas\u001b[0m \u001b[0mexc\u001b[0m\u001b[0;34m:\u001b[0m\u001b[0;34m\u001b[0m\u001b[0;34m\u001b[0m\u001b[0m\n\u001b[1;32m   3049\u001b[0m             \u001b[0mexc\u001b[0m\u001b[0;34m.\u001b[0m\u001b[0mmessage\u001b[0m \u001b[0;34m+=\u001b[0m \u001b[0mself\u001b[0m\u001b[0;34m.\u001b[0m\u001b[0m_format_for_exception\u001b[0m\u001b[0;34m(\u001b[0m\u001b[0mself\u001b[0m\u001b[0;34m.\u001b[0m\u001b[0mquery\u001b[0m\u001b[0;34m,\u001b[0m \u001b[0mself\u001b[0m\u001b[0;34m.\u001b[0m\u001b[0mjob_id\u001b[0m\u001b[0;34m)\u001b[0m\u001b[0;34m\u001b[0m\u001b[0;34m\u001b[0m\u001b[0m\n",
      "\u001b[0;32m~/opt/anaconda3/lib/python3.8/site-packages/google/cloud/bigquery/job.py\u001b[0m in \u001b[0;36m_begin\u001b[0;34m(self, client, retry)\u001b[0m\n\u001b[1;32m    627\u001b[0m         \u001b[0;31m# jobs.insert is idempotent because we ensure that every new\u001b[0m\u001b[0;34m\u001b[0m\u001b[0;34m\u001b[0m\u001b[0;34m\u001b[0m\u001b[0m\n\u001b[1;32m    628\u001b[0m         \u001b[0;31m# job has an ID.\u001b[0m\u001b[0;34m\u001b[0m\u001b[0;34m\u001b[0m\u001b[0;34m\u001b[0m\u001b[0m\n\u001b[0;32m--> 629\u001b[0;31m         api_response = client._call_api(\n\u001b[0m\u001b[1;32m    630\u001b[0m             \u001b[0mretry\u001b[0m\u001b[0;34m,\u001b[0m \u001b[0mmethod\u001b[0m\u001b[0;34m=\u001b[0m\u001b[0;34m\"POST\"\u001b[0m\u001b[0;34m,\u001b[0m \u001b[0mpath\u001b[0m\u001b[0;34m=\u001b[0m\u001b[0mpath\u001b[0m\u001b[0;34m,\u001b[0m \u001b[0mdata\u001b[0m\u001b[0;34m=\u001b[0m\u001b[0mself\u001b[0m\u001b[0;34m.\u001b[0m\u001b[0mto_api_repr\u001b[0m\u001b[0;34m(\u001b[0m\u001b[0;34m)\u001b[0m\u001b[0;34m\u001b[0m\u001b[0;34m\u001b[0m\u001b[0m\n\u001b[1;32m    631\u001b[0m         )\n",
      "\u001b[0;32m~/opt/anaconda3/lib/python3.8/site-packages/google/cloud/bigquery/client.py\u001b[0m in \u001b[0;36m_call_api\u001b[0;34m(self, retry, **kwargs)\u001b[0m\n\u001b[1;32m    473\u001b[0m         \u001b[0;32mif\u001b[0m \u001b[0mretry\u001b[0m\u001b[0;34m:\u001b[0m\u001b[0;34m\u001b[0m\u001b[0;34m\u001b[0m\u001b[0m\n\u001b[1;32m    474\u001b[0m             \u001b[0mcall\u001b[0m \u001b[0;34m=\u001b[0m \u001b[0mretry\u001b[0m\u001b[0;34m(\u001b[0m\u001b[0mcall\u001b[0m\u001b[0;34m)\u001b[0m\u001b[0;34m\u001b[0m\u001b[0;34m\u001b[0m\u001b[0m\n\u001b[0;32m--> 475\u001b[0;31m         \u001b[0;32mreturn\u001b[0m \u001b[0mcall\u001b[0m\u001b[0;34m(\u001b[0m\u001b[0;34m)\u001b[0m\u001b[0;34m\u001b[0m\u001b[0;34m\u001b[0m\u001b[0m\n\u001b[0m\u001b[1;32m    476\u001b[0m \u001b[0;34m\u001b[0m\u001b[0m\n\u001b[1;32m    477\u001b[0m     \u001b[0;32mdef\u001b[0m \u001b[0mget_dataset\u001b[0m\u001b[0;34m(\u001b[0m\u001b[0mself\u001b[0m\u001b[0;34m,\u001b[0m \u001b[0mdataset_ref\u001b[0m\u001b[0;34m,\u001b[0m \u001b[0mretry\u001b[0m\u001b[0;34m=\u001b[0m\u001b[0mDEFAULT_RETRY\u001b[0m\u001b[0;34m)\u001b[0m\u001b[0;34m:\u001b[0m\u001b[0;34m\u001b[0m\u001b[0;34m\u001b[0m\u001b[0m\n",
      "\u001b[0;32m~/opt/anaconda3/lib/python3.8/site-packages/google/api_core/retry.py\u001b[0m in \u001b[0;36mretry_wrapped_func\u001b[0;34m(*args, **kwargs)\u001b[0m\n\u001b[1;32m    279\u001b[0m                 \u001b[0mself\u001b[0m\u001b[0;34m.\u001b[0m\u001b[0m_initial\u001b[0m\u001b[0;34m,\u001b[0m \u001b[0mself\u001b[0m\u001b[0;34m.\u001b[0m\u001b[0m_maximum\u001b[0m\u001b[0;34m,\u001b[0m \u001b[0mmultiplier\u001b[0m\u001b[0;34m=\u001b[0m\u001b[0mself\u001b[0m\u001b[0;34m.\u001b[0m\u001b[0m_multiplier\u001b[0m\u001b[0;34m\u001b[0m\u001b[0;34m\u001b[0m\u001b[0m\n\u001b[1;32m    280\u001b[0m             )\n\u001b[0;32m--> 281\u001b[0;31m             return retry_target(\n\u001b[0m\u001b[1;32m    282\u001b[0m                 \u001b[0mtarget\u001b[0m\u001b[0;34m,\u001b[0m\u001b[0;34m\u001b[0m\u001b[0;34m\u001b[0m\u001b[0m\n\u001b[1;32m    283\u001b[0m                 \u001b[0mself\u001b[0m\u001b[0;34m.\u001b[0m\u001b[0m_predicate\u001b[0m\u001b[0;34m,\u001b[0m\u001b[0;34m\u001b[0m\u001b[0;34m\u001b[0m\u001b[0m\n",
      "\u001b[0;32m~/opt/anaconda3/lib/python3.8/site-packages/google/api_core/retry.py\u001b[0m in \u001b[0;36mretry_target\u001b[0;34m(target, predicate, sleep_generator, deadline, on_error)\u001b[0m\n\u001b[1;32m    182\u001b[0m     \u001b[0;32mfor\u001b[0m \u001b[0msleep\u001b[0m \u001b[0;32min\u001b[0m \u001b[0msleep_generator\u001b[0m\u001b[0;34m:\u001b[0m\u001b[0;34m\u001b[0m\u001b[0;34m\u001b[0m\u001b[0m\n\u001b[1;32m    183\u001b[0m         \u001b[0;32mtry\u001b[0m\u001b[0;34m:\u001b[0m\u001b[0;34m\u001b[0m\u001b[0;34m\u001b[0m\u001b[0m\n\u001b[0;32m--> 184\u001b[0;31m             \u001b[0;32mreturn\u001b[0m \u001b[0mtarget\u001b[0m\u001b[0;34m(\u001b[0m\u001b[0;34m)\u001b[0m\u001b[0;34m\u001b[0m\u001b[0;34m\u001b[0m\u001b[0m\n\u001b[0m\u001b[1;32m    185\u001b[0m \u001b[0;34m\u001b[0m\u001b[0m\n\u001b[1;32m    186\u001b[0m         \u001b[0;31m# pylint: disable=broad-except\u001b[0m\u001b[0;34m\u001b[0m\u001b[0;34m\u001b[0m\u001b[0;34m\u001b[0m\u001b[0m\n",
      "\u001b[0;32m~/opt/anaconda3/lib/python3.8/site-packages/google/cloud/_http.py\u001b[0m in \u001b[0;36mapi_request\u001b[0;34m(self, method, path, query_params, data, content_type, headers, api_base_url, api_version, expect_json, _target_object, timeout)\u001b[0m\n\u001b[1;32m    433\u001b[0m \u001b[0;34m\u001b[0m\u001b[0m\n\u001b[1;32m    434\u001b[0m         \u001b[0;32mif\u001b[0m \u001b[0;32mnot\u001b[0m \u001b[0;36m200\u001b[0m \u001b[0;34m<=\u001b[0m \u001b[0mresponse\u001b[0m\u001b[0;34m.\u001b[0m\u001b[0mstatus_code\u001b[0m \u001b[0;34m<\u001b[0m \u001b[0;36m300\u001b[0m\u001b[0;34m:\u001b[0m\u001b[0;34m\u001b[0m\u001b[0;34m\u001b[0m\u001b[0m\n\u001b[0;32m--> 435\u001b[0;31m             \u001b[0;32mraise\u001b[0m \u001b[0mexceptions\u001b[0m\u001b[0;34m.\u001b[0m\u001b[0mfrom_http_response\u001b[0m\u001b[0;34m(\u001b[0m\u001b[0mresponse\u001b[0m\u001b[0;34m)\u001b[0m\u001b[0;34m\u001b[0m\u001b[0;34m\u001b[0m\u001b[0m\n\u001b[0m\u001b[1;32m    436\u001b[0m \u001b[0;34m\u001b[0m\u001b[0m\n\u001b[1;32m    437\u001b[0m         \u001b[0;32mif\u001b[0m \u001b[0mexpect_json\u001b[0m \u001b[0;32mand\u001b[0m \u001b[0mresponse\u001b[0m\u001b[0;34m.\u001b[0m\u001b[0mcontent\u001b[0m\u001b[0;34m:\u001b[0m\u001b[0;34m\u001b[0m\u001b[0;34m\u001b[0m\u001b[0m\n",
      "\u001b[0;31mForbidden\u001b[0m: 403 POST https://bigquery.googleapis.com/bigquery/v2/projects/bigquery-public-data/jobs?prettyPrint=false: Access Denied: Project bigquery-public-data: User does not have bigquery.jobs.create permission in project bigquery-public-data.\n\n(job ID: 3b7a9a29-db00-4a94-ae38-f9bfa3e5c7ff)\n\n                  -----Query Job SQL Follows-----                   \n\n    |    .    |    .    |    .    |    .    |    .    |    .    |\n   1:SELECT COUNT(1) FROM `bigquery-public-data.samples.shakespeare`\n    |    .    |    .    |    .    |    .    |    .    |    .    |"
     ]
    }
   ],
   "source": [
    "sql = \"SELECT COUNT(1) FROM `bigquery-public-data.samples.shakespeare`\"\n",
    "query_job = client.query(sql)"
   ]
  },
  {
   "cell_type": "markdown",
   "metadata": {
    "colab_type": "text",
    "id": "DJVssU3mLFZ_"
   },
   "source": [
    "Why does this throw an error?"
   ]
  },
  {
   "cell_type": "markdown",
   "metadata": {
    "colab_type": "text",
    "id": "4feq3JaqLFZ_"
   },
   "source": [
    "ANSWER: \n",
    "\n",
    "_____________________________________________________\n",
    "\n",
    "So, what can we do?"
   ]
  },
  {
   "cell_type": "code",
   "execution_count": 26,
   "metadata": {
    "colab": {},
    "colab_type": "code",
    "id": "hCVH3AxrLFaA"
   },
   "outputs": [],
   "source": [
    "client = bigquery.Client.from_service_account_json(key_path, project = 'my-project-iod-292404') #<<< your BigQuery project ID here!\n",
    "query_job = client.query(sql)"
   ]
  },
  {
   "cell_type": "markdown",
   "metadata": {
    "colab_type": "text",
    "id": "TTfuF8J0LFaA"
   },
   "source": [
    "If that worked, show what query_job is:"
   ]
  },
  {
   "cell_type": "code",
   "execution_count": 27,
   "metadata": {
    "colab": {},
    "colab_type": "code",
    "id": "ZmiGhS0ALFaA"
   },
   "outputs": [
    {
     "data": {
      "text/plain": [
       "google.cloud.bigquery.job.QueryJob"
      ]
     },
     "execution_count": 27,
     "metadata": {},
     "output_type": "execute_result"
    }
   ],
   "source": [
    "#?\n",
    "type(query_job)"
   ]
  },
  {
   "cell_type": "markdown",
   "metadata": {
    "colab_type": "text",
    "id": "Src6_5auLFaB"
   },
   "source": [
    "Once again, due to lazy execution, no actual execution occurs until we request output:"
   ]
  },
  {
   "cell_type": "code",
   "execution_count": 28,
   "metadata": {
    "colab": {},
    "colab_type": "code",
    "id": "FCz4Yw9jLFaB"
   },
   "outputs": [
    {
     "name": "stdout",
     "output_type": "stream",
     "text": [
      "Row((164656,), {'f0_': 0})\n"
     ]
    }
   ],
   "source": [
    "for row in query_job:  # API request - fetches results\n",
    "    print(row)"
   ]
  },
  {
   "cell_type": "markdown",
   "metadata": {
    "colab_type": "text",
    "id": "CQG3a1oALFaC"
   },
   "source": [
    "And, again, we need to manipulate this to make it neat. Each member of the rowset is a list and we only want to extract the value, which is in the first member:"
   ]
  },
  {
   "cell_type": "code",
   "execution_count": 29,
   "metadata": {
    "colab": {},
    "colab_type": "code",
    "id": "Qcq2F5vzLFaC"
   },
   "outputs": [
    {
     "name": "stdout",
     "output_type": "stream",
     "text": [
      "164656\n"
     ]
    }
   ],
   "source": [
    "print(row[0])"
   ]
  },
  {
   "cell_type": "markdown",
   "metadata": {
    "colab_type": "text",
    "id": "cPqWb1_YLFaD"
   },
   "source": [
    "So, we now know that this table has 164,656 rows. (We would not want to print it!)"
   ]
  },
  {
   "cell_type": "markdown",
   "metadata": {
    "colab_type": "text",
    "id": "6idZY0-3LFaD"
   },
   "source": [
    "A better coding practice is to write SQL statements that assign names (aliases) to derived values, so we don't forget what the resulting rowset contains. Rewite the above SQL statement so that the value returned is aliased a \"num_rows\", and assign the QueryJob as above:"
   ]
  },
  {
   "cell_type": "code",
   "execution_count": 31,
   "metadata": {
    "colab": {},
    "colab_type": "code",
    "id": "NeHVJAm5LFaD"
   },
   "outputs": [],
   "source": [
    "sql = \"SELECT COUNT(1) AS num_rows FROM `bigquery-public-data.samples.shakespeare`\"\n",
    "query_job = client.query(sql)"
   ]
  },
  {
   "cell_type": "markdown",
   "metadata": {
    "colab_type": "text",
    "id": "XUFlZ66lLFaE"
   },
   "source": [
    "Now we could use Python's `assert` statement to build a test into the first code block that operates on the rowset:"
   ]
  },
  {
   "cell_type": "code",
   "execution_count": 32,
   "metadata": {
    "colab": {},
    "colab_type": "code",
    "id": "6MHaNZh0LFaE"
   },
   "outputs": [
    {
     "name": "stdout",
     "output_type": "stream",
     "text": [
      "164656\n"
     ]
    }
   ],
   "source": [
    "for row in query_job:  # API request - fetches results\n",
    "    # Row values can be accessed by field name or index:\n",
    "    assert row[0] == row.num_rows == row['num_rows']  #: for debugging bad sql\n",
    "    print(row.num_rows)"
   ]
  },
  {
   "cell_type": "markdown",
   "metadata": {
    "colab_type": "text",
    "id": "fP4GpU02LFaF"
   },
   "source": [
    "The above code checks that the name attribute of the value in `row[0]` is what we expected (i.e. \"num_rows\"). Also, it shows that we can refer to a field in a row by its object member `num_rows` or by using the same notation we use for Python dictionaries, `['num_rows']`. "
   ]
  },
  {
   "cell_type": "markdown",
   "metadata": {
    "colab_type": "text",
    "id": "y83gunLZLFaF"
   },
   "source": [
    "Write, execute, and print the results of a query that fetches 10 rows from the table, each containing the \"word\", \"word_count\", and \"corpus\" fields: "
   ]
  },
  {
   "cell_type": "code",
   "execution_count": 33,
   "metadata": {
    "colab": {},
    "colab_type": "code",
    "id": "xhvBwHzpLFaG"
   },
   "outputs": [],
   "source": [
    "sql = \"SELECT word, word_count, corpus FROM `bigquery-public-data.samples.shakespeare` LIMIT 10\"\n",
    "query_job = client.query(sql)"
   ]
  },
  {
   "cell_type": "markdown",
   "metadata": {
    "colab_type": "text",
    "id": "OlGpm9dmLFaH"
   },
   "source": [
    "(NOTE: Using `assert` religiously is good practice and will make debugging easier, but is probably overkill for non-production code.)"
   ]
  },
  {
   "cell_type": "markdown",
   "metadata": {
    "colab_type": "text",
    "id": "md6tWVvHLFaH"
   },
   "source": [
    "Whenever you catch yourself writing a swag of code to do something that seems rudimentary or low-level, there is a very good chance that you don't need to. A much easier way to handle the above requirement is to use the `to_dataframe` method of the QueryJob object:"
   ]
  },
  {
   "cell_type": "code",
   "execution_count": 34,
   "metadata": {
    "colab": {},
    "colab_type": "code",
    "id": "19bjagBHLFaH"
   },
   "outputs": [
    {
     "name": "stdout",
     "output_type": "stream",
     "text": [
      "        word  word_count   corpus\n",
      "0       LVII           1  sonnets\n",
      "1     augurs           1  sonnets\n",
      "2     dimm'd           1  sonnets\n",
      "3    plagues           1  sonnets\n",
      "4    treason           1  sonnets\n",
      "5    surmise           1  sonnets\n",
      "6       heed           1  sonnets\n",
      "7  Unthrifty           1  sonnets\n",
      "8    quality           1  sonnets\n",
      "9   wherever           1  sonnets\n"
     ]
    }
   ],
   "source": [
    "df = query_job.to_dataframe()\n",
    "print(df)    "
   ]
  },
  {
   "cell_type": "markdown",
   "metadata": {
    "colab_type": "text",
    "id": "Qc7vdIfALFaJ"
   },
   "source": [
    "Although the above doesn't use `assert` (which you might still want to include in some test code), you will be able to tell at a glance if something is wrong with the contents of the DataFrame."
   ]
  },
  {
   "cell_type": "markdown",
   "metadata": {
    "colab_type": "text",
    "id": "DsWSuO95LFaJ"
   },
   "source": [
    "#### Final Notes"
   ]
  },
  {
   "cell_type": "markdown",
   "metadata": {
    "colab_type": "text",
    "id": "4mKynMuNLFaJ"
   },
   "source": [
    "1. Here is a readable way to code long SQL statements:"
   ]
  },
  {
   "cell_type": "code",
   "execution_count": 35,
   "metadata": {
    "colab": {},
    "colab_type": "code",
    "id": "8nm7i1-rLFaJ"
   },
   "outputs": [],
   "source": [
    "sql = \"\"\"\n",
    "    SELECT word, word_count, corpus \n",
    "    FROM `bigquery-public-data.samples.shakespeare` \n",
    "    LIMIT 10\n",
    "    \"\"\""
   ]
  },
  {
   "cell_type": "markdown",
   "metadata": {
    "colab_type": "text",
    "id": "1j2w1aovLFaK"
   },
   "source": [
    "2. If you had an application that needed to modify the tables or datasets in the `bigquery-public-data` is project, you could copy them to our own project, where you would have the permissions to do as you please with the data (subject to Google's terms of use)."
   ]
  },
  {
   "cell_type": "markdown",
   "metadata": {
    "colab_type": "text",
    "id": "mOAZyGTcLFaL"
   },
   "source": [
    "3. We aren't limited to the datasets that are already in BigQuery. We can upload tables from our computer, and we can pull data in from other online souces. We will cover these tasks in another module."
   ]
  },
  {
   "cell_type": "markdown",
   "metadata": {
    "colab_type": "text",
    "id": "PJmK2n7vLFaL"
   },
   "source": [
    "#### Next Steps\n",
    "\n",
    "If you wish to pick up a few more skills you can go to https://cloud.google.com/bigquery/create-simple-app-api. (Note that we have already been through the preliminaries, so you can start at \"Download the sample code\".)\n",
    "\n",
    "Alternatively, you can take a deeper dive into the API here: https://googlecloudplatform.github.io/google-cloud-python/latest/bigquery/usage.html."
   ]
  },
  {
   "cell_type": "markdown",
   "metadata": {
    "colab_type": "text",
    "id": "OFNsekmxLFaM"
   },
   "source": [
    "## - END -"
   ]
  },
  {
   "cell_type": "markdown",
   "metadata": {
    "colab_type": "text",
    "id": "KBAJLLeXLHs8"
   },
   "source": [
    ">\n",
    ">\n"
   ]
  },
  {
   "cell_type": "markdown",
   "metadata": {
    "colab_type": "text",
    "id": "V1AVU7q-LIuO"
   },
   "source": [
    ">\n",
    ">\n"
   ]
  },
  {
   "cell_type": "markdown",
   "metadata": {
    "colab_type": "text",
    "id": "Fpehj_5ELJk9"
   },
   "source": [
    "\n",
    "\n",
    "---\n",
    "\n",
    "\n",
    "\n",
    "---\n",
    "\n",
    "\n",
    "\n",
    "> > > > > > > > > © 2019 Institute of Data\n",
    "\n",
    "\n",
    "---\n",
    "\n",
    "\n",
    "\n",
    "---\n",
    "\n",
    "\n",
    "\n"
   ]
  }
 ],
 "metadata": {
  "colab": {
   "collapsed_sections": [
    "DsWSuO95LFaJ",
    "PJmK2n7vLFaL"
   ],
   "name": "DSIA Lab 2.2.4 .ipynb",
   "provenance": []
  },
  "kernelspec": {
   "display_name": "Python 3",
   "language": "python",
   "name": "python3"
  },
  "language_info": {
   "codemirror_mode": {
    "name": "ipython",
    "version": 3
   },
   "file_extension": ".py",
   "mimetype": "text/x-python",
   "name": "python",
   "nbconvert_exporter": "python",
   "pygments_lexer": "ipython3",
   "version": "3.8.3"
  }
 },
 "nbformat": 4,
 "nbformat_minor": 1
}
