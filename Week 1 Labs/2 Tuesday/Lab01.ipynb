{
 "cells": [
  {
   "cell_type": "markdown",
   "metadata": {
    "colab_type": "text",
    "id": "7KeNKtNL2Ix-"
   },
   "source": [
    "<div>\n",
    "<img src=https://www.institutedata.com/wp-content/uploads/2019/10/iod_h_tp_primary_c.svg width=\"300\">\n",
    "</div>\n",
    "\n",
    "# Python - Lab 1 \n",
    "\n",
    "## Learning objectives\n",
    "\n",
    "This lab demonstrates examples of: \n",
    "\n",
    "1. Creating and manipulating lists\n",
    "2. For loops\n",
    "3. Importing modules and functions\n",
    "4. Creating dictonaries\n",
    "\n",
    "## Instructions:\n",
    "\n",
    "1. Replace ??? with the appropriate code\n",
    "2. Press Shift + Enter to execute cell\n",
    "\n"
   ]
  },
  {
   "cell_type": "code",
   "execution_count": 45,
   "metadata": {
    "colab": {},
    "colab_type": "code",
    "id": "NaRcNY1l2LbD"
   },
   "outputs": [],
   "source": [
    "# create a list of 10 student (use just first name)\n",
    "students = ['Amy', 'Chris', 'Bob', 'Alex', 'Erin', 'Emma', 'Sam', 'Ella', 'Matt', 'Kelly']"
   ]
  },
  {
   "cell_type": "code",
   "execution_count": 46,
   "metadata": {
    "colab": {},
    "colab_type": "code",
    "id": "lyMlOgoUZ2R4"
   },
   "outputs": [
    {
     "name": "stdout",
     "output_type": "stream",
     "text": [
      "['Amy', 'Chris', 'Bob', 'Alex', 'Erin', 'Emma', 'Sam', 'Ella', 'Matt', 'Kelly']\n"
     ]
    }
   ],
   "source": [
    "# Print the list\n",
    "print(students)"
   ]
  },
  {
   "cell_type": "code",
   "execution_count": 47,
   "metadata": {
    "colab": {},
    "colab_type": "code",
    "id": "LtbLA_T811kr"
   },
   "outputs": [
    {
     "name": "stdout",
     "output_type": "stream",
     "text": [
      "0 Amy\n",
      "1 Chris\n",
      "2 Bob\n",
      "3 Alex\n",
      "4 Erin\n",
      "5 Emma\n",
      "6 Sam\n",
      "7 Ella\n",
      "8 Matt\n",
      "9 Kelly\n"
     ]
    }
   ],
   "source": [
    "# print the list of students\n",
    "# in the following format\n",
    "# Index 01 \t Alice\n",
    "# Index 02 \t Bob\n",
    "# Index 03 \t Pradeep\n",
    "for index, student in enumerate(students):\n",
    "    print(index, student)"
   ]
  },
  {
   "cell_type": "code",
   "execution_count": 48,
   "metadata": {},
   "outputs": [
    {
     "name": "stdout",
     "output_type": "stream",
     "text": [
      "Index 00: Amy\n",
      "Index 01: Chris\n",
      "Index 02: Bob\n",
      "Index 03: Alex\n",
      "Index 04: Erin\n",
      "Index 05: Emma\n",
      "Index 06: Sam\n",
      "Index 07: Ella\n",
      "Index 08: Matt\n",
      "Index 09: Kelly\n"
     ]
    }
   ],
   "source": [
    "# another way to do it that is more specific:\n",
    "for index, student in enumerate(students):\n",
    "    print('Index 0' + str(index) + ': ' + student)"
   ]
  },
  {
   "cell_type": "code",
   "execution_count": 52,
   "metadata": {
    "colab": {},
    "colab_type": "code",
    "id": "OF5sj3CX1lHl"
   },
   "outputs": [
    {
     "name": "stdout",
     "output_type": "stream",
     "text": [
      "Index 00: Kelly\n",
      "Index 01: Matt\n",
      "Index 02: Ella\n",
      "Index 03: Sam\n",
      "Index 04: Emma\n",
      "Index 05: Erin\n",
      "Index 06: Alex\n",
      "Index 07: Bob\n",
      "Index 08: Chris\n",
      "Index 09: Amy\n"
     ]
    }
   ],
   "source": [
    "# print the list of students in reverse order one student in a line with its index\n",
    "for index, student in enumerate(students[::-1]):\n",
    "    print('Index 0' + str(index) + ': ' + student)"
   ]
  },
  {
   "cell_type": "code",
   "execution_count": 26,
   "metadata": {
    "colab": {},
    "colab_type": "code",
    "id": "eAdtim4G1pyV"
   },
   "outputs": [
    {
     "name": "stdout",
     "output_type": "stream",
     "text": [
      "['Kelly', 'Matt', 'Alex', 'Sam', 'Ella', 'Erin', 'Amy', 'Emma', 'Bob', 'Chris']\n"
     ]
    }
   ],
   "source": [
    "# print the student list in random order\n",
    "# hint look up the function random.sample\n",
    "import random\n",
    "random_students = random.sample(students,10)\n",
    "print(random_students)"
   ]
  },
  {
   "cell_type": "code",
   "execution_count": 20,
   "metadata": {
    "colab": {},
    "colab_type": "code",
    "id": "sfKkL5dt1tqG"
   },
   "outputs": [
    {
     "name": "stdout",
     "output_type": "stream",
     "text": [
      "Students and their marks: \n",
      " {'Amy': 87, 'Chris': 45, 'Bob': 76, 'Alex': 64, 'Erin': 66, 'Emma': 90, 'Sam': 55, 'Ella': 73, 'Matt': 69, 'Kelly': 75}\n"
     ]
    },
    {
     "data": {
      "text/plain": [
       "{'Emma': 90,\n",
       " 'Amy': 87,\n",
       " 'Bob': 76,\n",
       " 'Kelly': 75,\n",
       " 'Ella': 73,\n",
       " 'Matt': 69,\n",
       " 'Erin': 66,\n",
       " 'Alex': 64,\n",
       " 'Sam': 55,\n",
       " 'Chris': 45}"
      ]
     },
     "execution_count": 20,
     "metadata": {},
     "output_type": "execute_result"
    }
   ],
   "source": [
    "# list students in order of their exam marks in the following list\n",
    "marks = [87,45,76,64,66,90,55,73,69,75]\n",
    "students_and_marks = dict(zip(students, marks))\n",
    "print(f\"Students and their marks: \\n {students_and_marks}\")\n",
    "{k: v for k, v in sorted(students_and_marks.items(), key=lambda item: item[1], reverse=True)}"
   ]
  },
  {
   "cell_type": "code",
   "execution_count": 0,
   "metadata": {
    "colab": {},
    "colab_type": "code",
    "id": "9d9QrXRo182c"
   },
   "outputs": [],
   "source": []
  }
 ],
 "metadata": {
  "colab": {
   "collapsed_sections": [],
   "name": "Lab01.ipynb",
   "provenance": []
  },
  "kernelspec": {
   "display_name": "Python 3",
   "language": "python",
   "name": "python3"
  },
  "language_info": {
   "codemirror_mode": {
    "name": "ipython",
    "version": 3
   },
   "file_extension": ".py",
   "mimetype": "text/x-python",
   "name": "python",
   "nbconvert_exporter": "python",
   "pygments_lexer": "ipython3",
   "version": "3.8.3"
  }
 },
 "nbformat": 4,
 "nbformat_minor": 1
}
