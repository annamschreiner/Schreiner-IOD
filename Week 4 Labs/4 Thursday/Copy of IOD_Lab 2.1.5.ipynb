{
 "cells": [
  {
   "cell_type": "markdown",
   "metadata": {
    "colab_type": "text",
    "id": "gnfClx7-FfjU"
   },
   "source": [
    "<div>\n",
    "<img src=https://www.institutedata.com/wp-content/uploads/2019/10/iod_h_tp_primary_c.svg width=\"300\">\n",
    "</div>"
   ]
  },
  {
   "cell_type": "markdown",
   "metadata": {
    "colab_type": "text",
    "id": "_shYCClxFfjX"
   },
   "source": [
    "# Lab 2.1.5 \n",
    "# *Neo4j and Python*"
   ]
  },
  {
   "cell_type": "markdown",
   "metadata": {
    "colab_type": "text",
    "id": "pDJmT5Y5Ffja"
   },
   "source": [
    "## Introduction\n",
    "\n",
    "Neo4j is the most popular graph database. Free versions include the Desktop (Developer) edition and the Community Server edition (which we can drive from Python). \n",
    "\n",
    "We will begin this lab by working through the tutorial embedded in the Neo4j *start* page to learn about graph databases structures and the Cypher query language. We will then see how to integrate a Neo4j database with a Python program."
   ]
  },
  {
   "cell_type": "markdown",
   "metadata": {
    "colab_type": "text",
    "id": "--O6XzsrFfjc"
   },
   "source": [
    "The Community Server version can be downloaded here: https://neo4j.com/download-center/#releases \n",
    "![image.png](attachment:image.png)\n"
   ]
  },
  {
   "cell_type": "markdown",
   "metadata": {
    "colab_type": "text",
    "id": "iLovaF_hFfje"
   },
   "source": [
    "- Go through the *Concepts* tutorial. \n",
    "- At the end, click *Intro* under *Keep getting started* heading and go through the tutorial.\n",
    "- At the end, click *Cypher* under *Keep getting started* heading and go through the tutorial.\n",
    "- At the end, click *The Movie Graph* under *Jump into code* heading and go through the tutorial.\n",
    "\n",
    "![image.png](attachment:image.png)"
   ]
  },
  {
   "cell_type": "markdown",
   "metadata": {
    "colab_type": "text",
    "id": "hpo-lWuhFfjg"
   },
   "source": [
    "## Driving Neo4j from Python\n",
    "\n",
    "There are a variety of Python libraries for Neo4j, some of which provide more compact (and simpler) ways of executing commands. To avoid having to learn too many different ways of doing the same thing, however, we will use the official one, which is based on the syntax of the Cypher query language."
   ]
  },
  {
   "cell_type": "markdown",
   "metadata": {
    "colab_type": "text",
    "id": "9KKFMPT4Ffjh"
   },
   "source": [
    "The ***Neo4j Bolt Driver for Python*** is documented at https://neo4j.com/docs/api/python-driver/current/."
   ]
  },
  {
   "cell_type": "code",
   "execution_count": 8,
   "metadata": {},
   "outputs": [
    {
     "name": "stdout",
     "output_type": "stream",
     "text": [
      "Collecting py2neo\n",
      "  Downloading py2neo-2020.0.0-py2.py3-none-any.whl (180 kB)\n",
      "\u001b[K     |████████████████████████████████| 180 kB 1.2 MB/s eta 0:00:01\n",
      "\u001b[?25hRequirement already satisfied: pygments>=2.0.0 in /Users/annaschreiner/opt/anaconda3/lib/python3.8/site-packages (from py2neo) (2.6.1)\n",
      "Requirement already satisfied: packaging in /Users/annaschreiner/opt/anaconda3/lib/python3.8/site-packages (from py2neo) (20.4)\n",
      "Requirement already satisfied: cryptography in /Users/annaschreiner/opt/anaconda3/lib/python3.8/site-packages (from py2neo) (2.9.2)\n",
      "Requirement already satisfied: pytz in /Users/annaschreiner/opt/anaconda3/lib/python3.8/site-packages (from py2neo) (2020.1)\n",
      "Requirement already satisfied: urllib3 in /Users/annaschreiner/opt/anaconda3/lib/python3.8/site-packages (from py2neo) (1.25.9)\n",
      "Requirement already satisfied: six>=1.15.0 in /Users/annaschreiner/opt/anaconda3/lib/python3.8/site-packages (from py2neo) (1.15.0)\n",
      "Collecting pansi>=2020.7.3\n",
      "  Downloading pansi-2020.7.3-py2.py3-none-any.whl (10 kB)\n",
      "Collecting prompt-toolkit~=2.0.7\n",
      "  Downloading prompt_toolkit-2.0.10-py3-none-any.whl (340 kB)\n",
      "\u001b[K     |████████████████████████████████| 340 kB 1.5 MB/s eta 0:00:01\n",
      "\u001b[?25hRequirement already satisfied: certifi in /Users/annaschreiner/opt/anaconda3/lib/python3.8/site-packages (from py2neo) (2020.6.20)\n",
      "Collecting monotonic\n",
      "  Downloading monotonic-1.5-py2.py3-none-any.whl (5.3 kB)\n",
      "Collecting neotime~=1.7.4\n",
      "  Downloading neotime-1.7.4.tar.gz (17 kB)\n",
      "Collecting docker\n",
      "  Downloading docker-4.3.1-py2.py3-none-any.whl (145 kB)\n",
      "\u001b[K     |████████████████████████████████| 145 kB 1.4 MB/s eta 0:00:01\n",
      "\u001b[?25hCollecting english\n",
      "  Downloading english-2020.7.0-py2.py3-none-any.whl (8.1 kB)\n",
      "Requirement already satisfied: pyparsing>=2.0.2 in /Users/annaschreiner/opt/anaconda3/lib/python3.8/site-packages (from packaging->py2neo) (2.4.7)\n",
      "Requirement already satisfied: cffi!=1.11.3,>=1.8 in /Users/annaschreiner/opt/anaconda3/lib/python3.8/site-packages (from cryptography->py2neo) (1.14.0)\n",
      "Requirement already satisfied: wcwidth in /Users/annaschreiner/opt/anaconda3/lib/python3.8/site-packages (from prompt-toolkit~=2.0.7->py2neo) (0.2.5)\n",
      "Collecting websocket-client>=0.32.0\n",
      "  Downloading websocket_client-0.57.0-py2.py3-none-any.whl (200 kB)\n",
      "\u001b[K     |████████████████████████████████| 200 kB 1.4 MB/s eta 0:00:01\n",
      "\u001b[?25hRequirement already satisfied: requests!=2.18.0,>=2.14.2 in /Users/annaschreiner/opt/anaconda3/lib/python3.8/site-packages (from docker->py2neo) (2.24.0)\n",
      "Requirement already satisfied: pycparser in /Users/annaschreiner/opt/anaconda3/lib/python3.8/site-packages (from cffi!=1.11.3,>=1.8->cryptography->py2neo) (2.20)\n",
      "Requirement already satisfied: idna<3,>=2.5 in /Users/annaschreiner/opt/anaconda3/lib/python3.8/site-packages (from requests!=2.18.0,>=2.14.2->docker->py2neo) (2.10)\n",
      "Requirement already satisfied: chardet<4,>=3.0.2 in /Users/annaschreiner/opt/anaconda3/lib/python3.8/site-packages (from requests!=2.18.0,>=2.14.2->docker->py2neo) (3.0.4)\n",
      "Building wheels for collected packages: neotime\n",
      "  Building wheel for neotime (setup.py) ... \u001b[?25ldone\n",
      "\u001b[?25h  Created wheel for neotime: filename=neotime-1.7.4-py3-none-any.whl size=20541 sha256=0369de6b3ae1b38f5fbfb525ab82cd9ebe95424b7f2cdab9318f98bd095d324d\n",
      "  Stored in directory: /Users/annaschreiner/Library/Caches/pip/wheels/84/2d/01/a397b73c9e48f6c44342c06c436b20b44d53a71f6ba972a992\n",
      "Successfully built neotime\n",
      "Installing collected packages: pansi, prompt-toolkit, monotonic, neotime, websocket-client, docker, english, py2neo\n",
      "  Attempting uninstall: prompt-toolkit\n",
      "    Found existing installation: prompt-toolkit 3.0.5\n",
      "    Uninstalling prompt-toolkit-3.0.5:\n",
      "      Successfully uninstalled prompt-toolkit-3.0.5\n",
      "Successfully installed docker-4.3.1 english-2020.7.0 monotonic-1.5 neotime-1.7.4 pansi-2020.7.3 prompt-toolkit-2.0.10 py2neo-2020.0.0 websocket-client-0.57.0\n"
     ]
    }
   ],
   "source": [
    "! pip install py2neo"
   ]
  },
  {
   "cell_type": "code",
   "execution_count": 9,
   "metadata": {},
   "outputs": [
    {
     "name": "stdout",
     "output_type": "stream",
     "text": [
      "Requirement already satisfied: neo4j in /Users/annaschreiner/opt/anaconda3/lib/python3.8/site-packages (4.1.1)\n",
      "Requirement already satisfied: pytz in /Users/annaschreiner/opt/anaconda3/lib/python3.8/site-packages (from neo4j) (2020.1)\n"
     ]
    }
   ],
   "source": [
    "! python -m pip install neo4j"
   ]
  },
  {
   "cell_type": "code",
   "execution_count": 10,
   "metadata": {
    "colab": {},
    "colab_type": "code",
    "id": "HAhDdXNsFfji"
   },
   "outputs": [],
   "source": [
    "from neo4j import GraphDatabase\n",
    "\n",
    "uri = \"bolt://localhost:7687\""
   ]
  },
  {
   "cell_type": "code",
   "execution_count": 11,
   "metadata": {
    "colab": {},
    "colab_type": "code",
    "id": "0OvOtl7tFfjm"
   },
   "outputs": [
    {
     "ename": "ServiceUnavailable",
     "evalue": "Failed to establish connection to IPv4Address(('127.0.0.1', 7687)) (reason [Errno 61] Connection refused)",
     "output_type": "error",
     "traceback": [
      "\u001b[0;31m---------------------------------------------------------------------------\u001b[0m",
      "\u001b[0;31mConnectionRefusedError\u001b[0m                    Traceback (most recent call last)",
      "\u001b[0;32m~/opt/anaconda3/lib/python3.8/site-packages/neo4j/io/__init__.py\u001b[0m in \u001b[0;36m_connect\u001b[0;34m(resolved_address, timeout, keep_alive)\u001b[0m\n\u001b[1;32m    928\u001b[0m         \u001b[0mlog\u001b[0m\u001b[0;34m.\u001b[0m\u001b[0mdebug\u001b[0m\u001b[0;34m(\u001b[0m\u001b[0;34m\"[#0000]  C: <OPEN> %s\"\u001b[0m\u001b[0;34m,\u001b[0m \u001b[0mresolved_address\u001b[0m\u001b[0;34m)\u001b[0m\u001b[0;34m\u001b[0m\u001b[0;34m\u001b[0m\u001b[0m\n\u001b[0;32m--> 929\u001b[0;31m         \u001b[0ms\u001b[0m\u001b[0;34m.\u001b[0m\u001b[0mconnect\u001b[0m\u001b[0;34m(\u001b[0m\u001b[0mresolved_address\u001b[0m\u001b[0;34m)\u001b[0m\u001b[0;34m\u001b[0m\u001b[0;34m\u001b[0m\u001b[0m\n\u001b[0m\u001b[1;32m    930\u001b[0m         \u001b[0ms\u001b[0m\u001b[0;34m.\u001b[0m\u001b[0msettimeout\u001b[0m\u001b[0;34m(\u001b[0m\u001b[0mt\u001b[0m\u001b[0;34m)\u001b[0m\u001b[0;34m\u001b[0m\u001b[0;34m\u001b[0m\u001b[0m\n",
      "\u001b[0;31mConnectionRefusedError\u001b[0m: [Errno 61] Connection refused",
      "\nDuring handling of the above exception, another exception occurred:\n",
      "\u001b[0;31mServiceUnavailable\u001b[0m                        Traceback (most recent call last)",
      "\u001b[0;32m<ipython-input-11-b8a4dc129cd7>\u001b[0m in \u001b[0;36m<module>\u001b[0;34m\u001b[0m\n\u001b[0;32m----> 1\u001b[0;31m \u001b[0mdriver\u001b[0m \u001b[0;34m=\u001b[0m \u001b[0mGraphDatabase\u001b[0m\u001b[0;34m.\u001b[0m\u001b[0mdriver\u001b[0m\u001b[0;34m(\u001b[0m\u001b[0muri\u001b[0m\u001b[0;34m,\u001b[0m \u001b[0mauth\u001b[0m\u001b[0;34m=\u001b[0m\u001b[0;34m(\u001b[0m\u001b[0;34m\"neo4j\"\u001b[0m\u001b[0;34m,\u001b[0m \u001b[0;34m\"Windows_bites\"\u001b[0m\u001b[0;34m)\u001b[0m\u001b[0;34m)\u001b[0m\u001b[0;34m\u001b[0m\u001b[0;34m\u001b[0m\u001b[0m\n\u001b[0m",
      "\u001b[0;32m~/opt/anaconda3/lib/python3.8/site-packages/neo4j/__init__.py\u001b[0m in \u001b[0;36mdriver\u001b[0;34m(cls, uri, auth, **config)\u001b[0m\n\u001b[1;32m    181\u001b[0m \u001b[0;34m\u001b[0m\u001b[0m\n\u001b[1;32m    182\u001b[0m         \u001b[0;32mif\u001b[0m \u001b[0mdriver_type\u001b[0m \u001b[0;34m==\u001b[0m \u001b[0mDRIVER_BOLT\u001b[0m\u001b[0;34m:\u001b[0m\u001b[0;34m\u001b[0m\u001b[0;34m\u001b[0m\u001b[0m\n\u001b[0;32m--> 183\u001b[0;31m             \u001b[0;32mreturn\u001b[0m \u001b[0mcls\u001b[0m\u001b[0;34m.\u001b[0m\u001b[0mbolt_driver\u001b[0m\u001b[0;34m(\u001b[0m\u001b[0mparsed\u001b[0m\u001b[0;34m.\u001b[0m\u001b[0mnetloc\u001b[0m\u001b[0;34m,\u001b[0m \u001b[0mauth\u001b[0m\u001b[0;34m=\u001b[0m\u001b[0mauth\u001b[0m\u001b[0;34m,\u001b[0m \u001b[0;34m**\u001b[0m\u001b[0mconfig\u001b[0m\u001b[0;34m)\u001b[0m\u001b[0;34m\u001b[0m\u001b[0;34m\u001b[0m\u001b[0m\n\u001b[0m\u001b[1;32m    184\u001b[0m         \u001b[0;32melif\u001b[0m \u001b[0mdriver_type\u001b[0m \u001b[0;34m==\u001b[0m \u001b[0mDRIVER_NEO4j\u001b[0m\u001b[0;34m:\u001b[0m\u001b[0;34m\u001b[0m\u001b[0;34m\u001b[0m\u001b[0m\n\u001b[1;32m    185\u001b[0m             \u001b[0mrouting_context\u001b[0m \u001b[0;34m=\u001b[0m \u001b[0mparse_routing_context\u001b[0m\u001b[0;34m(\u001b[0m\u001b[0mparsed\u001b[0m\u001b[0;34m.\u001b[0m\u001b[0mquery\u001b[0m\u001b[0;34m)\u001b[0m\u001b[0;34m\u001b[0m\u001b[0;34m\u001b[0m\u001b[0m\n",
      "\u001b[0;32m~/opt/anaconda3/lib/python3.8/site-packages/neo4j/__init__.py\u001b[0m in \u001b[0;36mbolt_driver\u001b[0;34m(cls, target, auth, **config)\u001b[0m\n\u001b[1;32m    194\u001b[0m \u001b[0;34m\u001b[0m\u001b[0m\n\u001b[1;32m    195\u001b[0m         \u001b[0;32mtry\u001b[0m\u001b[0;34m:\u001b[0m\u001b[0;34m\u001b[0m\u001b[0;34m\u001b[0m\u001b[0m\n\u001b[0;32m--> 196\u001b[0;31m             \u001b[0;32mreturn\u001b[0m \u001b[0mBoltDriver\u001b[0m\u001b[0;34m.\u001b[0m\u001b[0mopen\u001b[0m\u001b[0;34m(\u001b[0m\u001b[0mtarget\u001b[0m\u001b[0;34m,\u001b[0m \u001b[0mauth\u001b[0m\u001b[0;34m=\u001b[0m\u001b[0mauth\u001b[0m\u001b[0;34m,\u001b[0m \u001b[0;34m**\u001b[0m\u001b[0mconfig\u001b[0m\u001b[0;34m)\u001b[0m\u001b[0;34m\u001b[0m\u001b[0;34m\u001b[0m\u001b[0m\n\u001b[0m\u001b[1;32m    197\u001b[0m         \u001b[0;32mexcept\u001b[0m \u001b[0;34m(\u001b[0m\u001b[0mBoltHandshakeError\u001b[0m\u001b[0;34m,\u001b[0m \u001b[0mBoltSecurityError\u001b[0m\u001b[0;34m)\u001b[0m \u001b[0;32mas\u001b[0m \u001b[0merror\u001b[0m\u001b[0;34m:\u001b[0m\u001b[0;34m\u001b[0m\u001b[0;34m\u001b[0m\u001b[0m\n\u001b[1;32m    198\u001b[0m             \u001b[0;32mfrom\u001b[0m \u001b[0mneo4j\u001b[0m\u001b[0;34m.\u001b[0m\u001b[0mexceptions\u001b[0m \u001b[0;32mimport\u001b[0m \u001b[0mServiceUnavailable\u001b[0m\u001b[0;34m\u001b[0m\u001b[0;34m\u001b[0m\u001b[0m\n",
      "\u001b[0;32m~/opt/anaconda3/lib/python3.8/site-packages/neo4j/__init__.py\u001b[0m in \u001b[0;36mopen\u001b[0;34m(cls, target, auth, **config)\u001b[0m\n\u001b[1;32m    357\u001b[0m         \u001b[0maddress\u001b[0m \u001b[0;34m=\u001b[0m \u001b[0mcls\u001b[0m\u001b[0;34m.\u001b[0m\u001b[0mparse_target\u001b[0m\u001b[0;34m(\u001b[0m\u001b[0mtarget\u001b[0m\u001b[0;34m)\u001b[0m\u001b[0;34m\u001b[0m\u001b[0;34m\u001b[0m\u001b[0m\n\u001b[1;32m    358\u001b[0m         \u001b[0mpool_config\u001b[0m\u001b[0;34m,\u001b[0m \u001b[0mdefault_workspace_config\u001b[0m \u001b[0;34m=\u001b[0m \u001b[0mConfig\u001b[0m\u001b[0;34m.\u001b[0m\u001b[0mconsume_chain\u001b[0m\u001b[0;34m(\u001b[0m\u001b[0mconfig\u001b[0m\u001b[0;34m,\u001b[0m \u001b[0mPoolConfig\u001b[0m\u001b[0;34m,\u001b[0m \u001b[0mWorkspaceConfig\u001b[0m\u001b[0;34m)\u001b[0m\u001b[0;34m\u001b[0m\u001b[0;34m\u001b[0m\u001b[0m\n\u001b[0;32m--> 359\u001b[0;31m         \u001b[0mpool\u001b[0m \u001b[0;34m=\u001b[0m \u001b[0mBoltPool\u001b[0m\u001b[0;34m.\u001b[0m\u001b[0mopen\u001b[0m\u001b[0;34m(\u001b[0m\u001b[0maddress\u001b[0m\u001b[0;34m,\u001b[0m \u001b[0mauth\u001b[0m\u001b[0;34m=\u001b[0m\u001b[0mauth\u001b[0m\u001b[0;34m,\u001b[0m \u001b[0mpool_config\u001b[0m\u001b[0;34m=\u001b[0m\u001b[0mpool_config\u001b[0m\u001b[0;34m,\u001b[0m \u001b[0mworkspace_config\u001b[0m\u001b[0;34m=\u001b[0m\u001b[0mdefault_workspace_config\u001b[0m\u001b[0;34m)\u001b[0m\u001b[0;34m\u001b[0m\u001b[0;34m\u001b[0m\u001b[0m\n\u001b[0m\u001b[1;32m    360\u001b[0m         \u001b[0;32mreturn\u001b[0m \u001b[0mcls\u001b[0m\u001b[0;34m(\u001b[0m\u001b[0mpool\u001b[0m\u001b[0;34m,\u001b[0m \u001b[0mdefault_workspace_config\u001b[0m\u001b[0;34m)\u001b[0m\u001b[0;34m\u001b[0m\u001b[0;34m\u001b[0m\u001b[0m\n\u001b[1;32m    361\u001b[0m \u001b[0;34m\u001b[0m\u001b[0m\n",
      "\u001b[0;32m~/opt/anaconda3/lib/python3.8/site-packages/neo4j/io/__init__.py\u001b[0m in \u001b[0;36mopen\u001b[0;34m(cls, address, auth, pool_config, workspace_config, routing_context)\u001b[0m\n\u001b[1;32m    529\u001b[0m \u001b[0;34m\u001b[0m\u001b[0m\n\u001b[1;32m    530\u001b[0m         \u001b[0mpool\u001b[0m \u001b[0;34m=\u001b[0m \u001b[0mcls\u001b[0m\u001b[0;34m(\u001b[0m\u001b[0mopener\u001b[0m\u001b[0;34m,\u001b[0m \u001b[0mpool_config\u001b[0m\u001b[0;34m,\u001b[0m \u001b[0mworkspace_config\u001b[0m\u001b[0;34m,\u001b[0m \u001b[0mrouting_context\u001b[0m\u001b[0;34m,\u001b[0m \u001b[0maddress\u001b[0m\u001b[0;34m)\u001b[0m\u001b[0;34m\u001b[0m\u001b[0;34m\u001b[0m\u001b[0m\n\u001b[0;32m--> 531\u001b[0;31m         \u001b[0mseeds\u001b[0m \u001b[0;34m=\u001b[0m \u001b[0;34m[\u001b[0m\u001b[0mpool\u001b[0m\u001b[0;34m.\u001b[0m\u001b[0macquire\u001b[0m\u001b[0;34m(\u001b[0m\u001b[0;34m)\u001b[0m \u001b[0;32mfor\u001b[0m \u001b[0m_\u001b[0m \u001b[0;32min\u001b[0m \u001b[0mrange\u001b[0m\u001b[0;34m(\u001b[0m\u001b[0mpool_config\u001b[0m\u001b[0;34m.\u001b[0m\u001b[0minit_size\u001b[0m\u001b[0;34m)\u001b[0m\u001b[0;34m]\u001b[0m\u001b[0;34m\u001b[0m\u001b[0;34m\u001b[0m\u001b[0m\n\u001b[0m\u001b[1;32m    532\u001b[0m         \u001b[0mpool\u001b[0m\u001b[0;34m.\u001b[0m\u001b[0mrelease\u001b[0m\u001b[0;34m(\u001b[0m\u001b[0;34m*\u001b[0m\u001b[0mseeds\u001b[0m\u001b[0;34m)\u001b[0m\u001b[0;34m\u001b[0m\u001b[0;34m\u001b[0m\u001b[0m\n\u001b[1;32m    533\u001b[0m         \u001b[0;32mreturn\u001b[0m \u001b[0mpool\u001b[0m\u001b[0;34m\u001b[0m\u001b[0;34m\u001b[0m\u001b[0m\n",
      "\u001b[0;32m~/opt/anaconda3/lib/python3.8/site-packages/neo4j/io/__init__.py\u001b[0m in \u001b[0;36m<listcomp>\u001b[0;34m(.0)\u001b[0m\n\u001b[1;32m    529\u001b[0m \u001b[0;34m\u001b[0m\u001b[0m\n\u001b[1;32m    530\u001b[0m         \u001b[0mpool\u001b[0m \u001b[0;34m=\u001b[0m \u001b[0mcls\u001b[0m\u001b[0;34m(\u001b[0m\u001b[0mopener\u001b[0m\u001b[0;34m,\u001b[0m \u001b[0mpool_config\u001b[0m\u001b[0;34m,\u001b[0m \u001b[0mworkspace_config\u001b[0m\u001b[0;34m,\u001b[0m \u001b[0mrouting_context\u001b[0m\u001b[0;34m,\u001b[0m \u001b[0maddress\u001b[0m\u001b[0;34m)\u001b[0m\u001b[0;34m\u001b[0m\u001b[0;34m\u001b[0m\u001b[0m\n\u001b[0;32m--> 531\u001b[0;31m         \u001b[0mseeds\u001b[0m \u001b[0;34m=\u001b[0m \u001b[0;34m[\u001b[0m\u001b[0mpool\u001b[0m\u001b[0;34m.\u001b[0m\u001b[0macquire\u001b[0m\u001b[0;34m(\u001b[0m\u001b[0;34m)\u001b[0m \u001b[0;32mfor\u001b[0m \u001b[0m_\u001b[0m \u001b[0;32min\u001b[0m \u001b[0mrange\u001b[0m\u001b[0;34m(\u001b[0m\u001b[0mpool_config\u001b[0m\u001b[0;34m.\u001b[0m\u001b[0minit_size\u001b[0m\u001b[0;34m)\u001b[0m\u001b[0;34m]\u001b[0m\u001b[0;34m\u001b[0m\u001b[0;34m\u001b[0m\u001b[0m\n\u001b[0m\u001b[1;32m    532\u001b[0m         \u001b[0mpool\u001b[0m\u001b[0;34m.\u001b[0m\u001b[0mrelease\u001b[0m\u001b[0;34m(\u001b[0m\u001b[0;34m*\u001b[0m\u001b[0mseeds\u001b[0m\u001b[0;34m)\u001b[0m\u001b[0;34m\u001b[0m\u001b[0;34m\u001b[0m\u001b[0m\n\u001b[1;32m    533\u001b[0m         \u001b[0;32mreturn\u001b[0m \u001b[0mpool\u001b[0m\u001b[0;34m\u001b[0m\u001b[0;34m\u001b[0m\u001b[0m\n",
      "\u001b[0;32m~/opt/anaconda3/lib/python3.8/site-packages/neo4j/io/__init__.py\u001b[0m in \u001b[0;36macquire\u001b[0;34m(self, access_mode, timeout, database)\u001b[0m\n\u001b[1;32m    543\u001b[0m     \u001b[0;32mdef\u001b[0m \u001b[0macquire\u001b[0m\u001b[0;34m(\u001b[0m\u001b[0mself\u001b[0m\u001b[0;34m,\u001b[0m \u001b[0maccess_mode\u001b[0m\u001b[0;34m=\u001b[0m\u001b[0;32mNone\u001b[0m\u001b[0;34m,\u001b[0m \u001b[0mtimeout\u001b[0m\u001b[0;34m=\u001b[0m\u001b[0;32mNone\u001b[0m\u001b[0;34m,\u001b[0m \u001b[0mdatabase\u001b[0m\u001b[0;34m=\u001b[0m\u001b[0;32mNone\u001b[0m\u001b[0;34m)\u001b[0m\u001b[0;34m:\u001b[0m\u001b[0;34m\u001b[0m\u001b[0;34m\u001b[0m\u001b[0m\n\u001b[1;32m    544\u001b[0m         \u001b[0;31m# The access_mode and database is not needed for a direct connection, its just there for consistency.\u001b[0m\u001b[0;34m\u001b[0m\u001b[0;34m\u001b[0m\u001b[0;34m\u001b[0m\u001b[0m\n\u001b[0;32m--> 545\u001b[0;31m         \u001b[0;32mreturn\u001b[0m \u001b[0mself\u001b[0m\u001b[0;34m.\u001b[0m\u001b[0m_acquire\u001b[0m\u001b[0;34m(\u001b[0m\u001b[0mself\u001b[0m\u001b[0;34m.\u001b[0m\u001b[0maddress\u001b[0m\u001b[0;34m,\u001b[0m \u001b[0mtimeout\u001b[0m\u001b[0;34m)\u001b[0m\u001b[0;34m\u001b[0m\u001b[0;34m\u001b[0m\u001b[0m\n\u001b[0m\u001b[1;32m    546\u001b[0m \u001b[0;34m\u001b[0m\u001b[0m\n\u001b[1;32m    547\u001b[0m \u001b[0;34m\u001b[0m\u001b[0m\n",
      "\u001b[0;32m~/opt/anaconda3/lib/python3.8/site-packages/neo4j/io/__init__.py\u001b[0m in \u001b[0;36m_acquire\u001b[0;34m(self, address, timeout)\u001b[0m\n\u001b[1;32m    407\u001b[0m                     \u001b[0mtimeout\u001b[0m \u001b[0;34m=\u001b[0m \u001b[0mmin\u001b[0m\u001b[0;34m(\u001b[0m\u001b[0mself\u001b[0m\u001b[0;34m.\u001b[0m\u001b[0mpool_config\u001b[0m\u001b[0;34m.\u001b[0m\u001b[0mconnection_timeout\u001b[0m\u001b[0;34m,\u001b[0m \u001b[0mtime_remaining\u001b[0m\u001b[0;34m(\u001b[0m\u001b[0;34m)\u001b[0m\u001b[0;34m)\u001b[0m\u001b[0;34m\u001b[0m\u001b[0;34m\u001b[0m\u001b[0m\n\u001b[1;32m    408\u001b[0m                     \u001b[0;32mtry\u001b[0m\u001b[0;34m:\u001b[0m\u001b[0;34m\u001b[0m\u001b[0;34m\u001b[0m\u001b[0m\n\u001b[0;32m--> 409\u001b[0;31m                         \u001b[0mconnection\u001b[0m \u001b[0;34m=\u001b[0m \u001b[0mself\u001b[0m\u001b[0;34m.\u001b[0m\u001b[0mopener\u001b[0m\u001b[0;34m(\u001b[0m\u001b[0maddress\u001b[0m\u001b[0;34m,\u001b[0m \u001b[0mtimeout\u001b[0m\u001b[0;34m)\u001b[0m\u001b[0;34m\u001b[0m\u001b[0;34m\u001b[0m\u001b[0m\n\u001b[0m\u001b[1;32m    410\u001b[0m                     \u001b[0;32mexcept\u001b[0m \u001b[0mServiceUnavailable\u001b[0m\u001b[0;34m:\u001b[0m\u001b[0;34m\u001b[0m\u001b[0;34m\u001b[0m\u001b[0m\n\u001b[1;32m    411\u001b[0m                         \u001b[0mself\u001b[0m\u001b[0;34m.\u001b[0m\u001b[0mremove\u001b[0m\u001b[0;34m(\u001b[0m\u001b[0maddress\u001b[0m\u001b[0;34m)\u001b[0m\u001b[0;34m\u001b[0m\u001b[0;34m\u001b[0m\u001b[0m\n",
      "\u001b[0;32m~/opt/anaconda3/lib/python3.8/site-packages/neo4j/io/__init__.py\u001b[0m in \u001b[0;36mopener\u001b[0;34m(addr, timeout)\u001b[0m\n\u001b[1;32m    526\u001b[0m \u001b[0;34m\u001b[0m\u001b[0m\n\u001b[1;32m    527\u001b[0m         \u001b[0;32mdef\u001b[0m \u001b[0mopener\u001b[0m\u001b[0;34m(\u001b[0m\u001b[0maddr\u001b[0m\u001b[0;34m,\u001b[0m \u001b[0mtimeout\u001b[0m\u001b[0;34m)\u001b[0m\u001b[0;34m:\u001b[0m\u001b[0;34m\u001b[0m\u001b[0;34m\u001b[0m\u001b[0m\n\u001b[0;32m--> 528\u001b[0;31m             \u001b[0;32mreturn\u001b[0m \u001b[0mBolt\u001b[0m\u001b[0;34m.\u001b[0m\u001b[0mopen\u001b[0m\u001b[0;34m(\u001b[0m\u001b[0maddr\u001b[0m\u001b[0;34m,\u001b[0m \u001b[0mauth\u001b[0m\u001b[0;34m=\u001b[0m\u001b[0mauth\u001b[0m\u001b[0;34m,\u001b[0m \u001b[0mtimeout\u001b[0m\u001b[0;34m=\u001b[0m\u001b[0mtimeout\u001b[0m\u001b[0;34m,\u001b[0m \u001b[0mrouting_context\u001b[0m\u001b[0;34m=\u001b[0m\u001b[0mrouting_context\u001b[0m\u001b[0;34m,\u001b[0m \u001b[0;34m**\u001b[0m\u001b[0mpool_config\u001b[0m\u001b[0;34m)\u001b[0m\u001b[0;34m\u001b[0m\u001b[0;34m\u001b[0m\u001b[0m\n\u001b[0m\u001b[1;32m    529\u001b[0m \u001b[0;34m\u001b[0m\u001b[0m\n\u001b[1;32m    530\u001b[0m         \u001b[0mpool\u001b[0m \u001b[0;34m=\u001b[0m \u001b[0mcls\u001b[0m\u001b[0;34m(\u001b[0m\u001b[0mopener\u001b[0m\u001b[0;34m,\u001b[0m \u001b[0mpool_config\u001b[0m\u001b[0;34m,\u001b[0m \u001b[0mworkspace_config\u001b[0m\u001b[0;34m,\u001b[0m \u001b[0mrouting_context\u001b[0m\u001b[0;34m,\u001b[0m \u001b[0maddress\u001b[0m\u001b[0;34m)\u001b[0m\u001b[0;34m\u001b[0m\u001b[0;34m\u001b[0m\u001b[0m\n",
      "\u001b[0;32m~/opt/anaconda3/lib/python3.8/site-packages/neo4j/io/__init__.py\u001b[0m in \u001b[0;36mopen\u001b[0;34m(cls, address, auth, timeout, routing_context, **pool_config)\u001b[0m\n\u001b[1;32m    191\u001b[0m         \"\"\"\n\u001b[1;32m    192\u001b[0m         \u001b[0mpool_config\u001b[0m \u001b[0;34m=\u001b[0m \u001b[0mPoolConfig\u001b[0m\u001b[0;34m.\u001b[0m\u001b[0mconsume\u001b[0m\u001b[0;34m(\u001b[0m\u001b[0mpool_config\u001b[0m\u001b[0;34m)\u001b[0m\u001b[0;34m\u001b[0m\u001b[0;34m\u001b[0m\u001b[0m\n\u001b[0;32m--> 193\u001b[0;31m         s, pool_config.protocol_version, handshake, data = connect(\n\u001b[0m\u001b[1;32m    194\u001b[0m             \u001b[0maddress\u001b[0m\u001b[0;34m,\u001b[0m\u001b[0;34m\u001b[0m\u001b[0;34m\u001b[0m\u001b[0m\n\u001b[1;32m    195\u001b[0m             \u001b[0mtimeout\u001b[0m\u001b[0;34m=\u001b[0m\u001b[0mtimeout\u001b[0m\u001b[0;34m,\u001b[0m\u001b[0;34m\u001b[0m\u001b[0;34m\u001b[0m\u001b[0m\n",
      "\u001b[0;32m~/opt/anaconda3/lib/python3.8/site-packages/neo4j/io/__init__.py\u001b[0m in \u001b[0;36mconnect\u001b[0;34m(address, timeout, custom_resolver, ssl_context, keep_alive)\u001b[0m\n\u001b[1;32m   1047\u001b[0m         \u001b[0;32mraise\u001b[0m \u001b[0mServiceUnavailable\u001b[0m\u001b[0;34m(\u001b[0m\u001b[0;34m\"Failed to resolve addresses for %s\"\u001b[0m \u001b[0;34m%\u001b[0m \u001b[0maddress\u001b[0m\u001b[0;34m)\u001b[0m\u001b[0;34m\u001b[0m\u001b[0;34m\u001b[0m\u001b[0m\n\u001b[1;32m   1048\u001b[0m     \u001b[0;32melse\u001b[0m\u001b[0;34m:\u001b[0m\u001b[0;34m\u001b[0m\u001b[0;34m\u001b[0m\u001b[0m\n\u001b[0;32m-> 1049\u001b[0;31m         \u001b[0;32mraise\u001b[0m \u001b[0mlast_error\u001b[0m\u001b[0;34m\u001b[0m\u001b[0;34m\u001b[0m\u001b[0m\n\u001b[0m",
      "\u001b[0;32m~/opt/anaconda3/lib/python3.8/site-packages/neo4j/io/__init__.py\u001b[0m in \u001b[0;36mconnect\u001b[0;34m(address, timeout, custom_resolver, ssl_context, keep_alive)\u001b[0m\n\u001b[1;32m   1037\u001b[0m         \u001b[0;32mtry\u001b[0m\u001b[0;34m:\u001b[0m\u001b[0;34m\u001b[0m\u001b[0;34m\u001b[0m\u001b[0m\n\u001b[1;32m   1038\u001b[0m             \u001b[0mhost\u001b[0m \u001b[0;34m=\u001b[0m \u001b[0maddress\u001b[0m\u001b[0;34m[\u001b[0m\u001b[0;36m0\u001b[0m\u001b[0;34m]\u001b[0m\u001b[0;34m\u001b[0m\u001b[0;34m\u001b[0m\u001b[0m\n\u001b[0;32m-> 1039\u001b[0;31m             \u001b[0ms\u001b[0m \u001b[0;34m=\u001b[0m \u001b[0m_connect\u001b[0m\u001b[0;34m(\u001b[0m\u001b[0mresolved_address\u001b[0m\u001b[0;34m,\u001b[0m \u001b[0mtimeout\u001b[0m\u001b[0;34m,\u001b[0m \u001b[0mkeep_alive\u001b[0m\u001b[0;34m)\u001b[0m\u001b[0;34m\u001b[0m\u001b[0;34m\u001b[0m\u001b[0m\n\u001b[0m\u001b[1;32m   1040\u001b[0m             \u001b[0ms\u001b[0m \u001b[0;34m=\u001b[0m \u001b[0m_secure\u001b[0m\u001b[0;34m(\u001b[0m\u001b[0ms\u001b[0m\u001b[0;34m,\u001b[0m \u001b[0mhost\u001b[0m\u001b[0;34m,\u001b[0m \u001b[0mssl_context\u001b[0m\u001b[0;34m)\u001b[0m\u001b[0;34m\u001b[0m\u001b[0;34m\u001b[0m\u001b[0m\n\u001b[1;32m   1041\u001b[0m             \u001b[0;32mreturn\u001b[0m \u001b[0m_handshake\u001b[0m\u001b[0;34m(\u001b[0m\u001b[0ms\u001b[0m\u001b[0;34m,\u001b[0m \u001b[0maddress\u001b[0m\u001b[0;34m)\u001b[0m\u001b[0;34m\u001b[0m\u001b[0;34m\u001b[0m\u001b[0m\n",
      "\u001b[0;32m~/opt/anaconda3/lib/python3.8/site-packages/neo4j/io/__init__.py\u001b[0m in \u001b[0;36m_connect\u001b[0;34m(resolved_address, timeout, keep_alive)\u001b[0m\n\u001b[1;32m    941\u001b[0m         \u001b[0mlog\u001b[0m\u001b[0;34m.\u001b[0m\u001b[0mdebug\u001b[0m\u001b[0;34m(\u001b[0m\u001b[0;34m\"[#0000]  C: <CLOSE> %s\"\u001b[0m\u001b[0;34m,\u001b[0m \u001b[0mresolved_address\u001b[0m\u001b[0;34m)\u001b[0m\u001b[0;34m\u001b[0m\u001b[0;34m\u001b[0m\u001b[0m\n\u001b[1;32m    942\u001b[0m         \u001b[0ms\u001b[0m\u001b[0;34m.\u001b[0m\u001b[0mclose\u001b[0m\u001b[0;34m(\u001b[0m\u001b[0;34m)\u001b[0m\u001b[0;34m\u001b[0m\u001b[0;34m\u001b[0m\u001b[0m\n\u001b[0;32m--> 943\u001b[0;31m         \u001b[0;32mraise\u001b[0m \u001b[0mServiceUnavailable\u001b[0m\u001b[0;34m(\u001b[0m\u001b[0;34m\"Failed to establish connection to {!r} (reason {})\"\u001b[0m\u001b[0;34m.\u001b[0m\u001b[0mformat\u001b[0m\u001b[0;34m(\u001b[0m\u001b[0mresolved_address\u001b[0m\u001b[0;34m,\u001b[0m \u001b[0merror\u001b[0m\u001b[0;34m)\u001b[0m\u001b[0;34m)\u001b[0m\u001b[0;34m\u001b[0m\u001b[0;34m\u001b[0m\u001b[0m\n\u001b[0m\u001b[1;32m    944\u001b[0m     \u001b[0;32melse\u001b[0m\u001b[0;34m:\u001b[0m\u001b[0;34m\u001b[0m\u001b[0;34m\u001b[0m\u001b[0m\n\u001b[1;32m    945\u001b[0m         \u001b[0;32mreturn\u001b[0m \u001b[0ms\u001b[0m\u001b[0;34m\u001b[0m\u001b[0;34m\u001b[0m\u001b[0m\n",
      "\u001b[0;31mServiceUnavailable\u001b[0m: Failed to establish connection to IPv4Address(('127.0.0.1', 7687)) (reason [Errno 61] Connection refused)"
     ]
    }
   ],
   "source": [
    "driver = GraphDatabase.driver(uri, auth=(\"neo4j\", \"Windows_bites\"))"
   ]
  },
  {
   "cell_type": "markdown",
   "metadata": {
    "colab_type": "text",
    "id": "GYF3MCsMFfjq"
   },
   "source": [
    "To execute a query against a database using this driver, we need to wrap the Cypher query string in a function definition and pass the function to the `read_transaction` method of the `session` object. Our query function then has access to the `tx` object.\n",
    "\n",
    "Here is a function that finds all the movies that the requested `Person` acted in:"
   ]
  },
  {
   "cell_type": "code",
   "execution_count": 6,
   "metadata": {
    "colab": {},
    "colab_type": "code",
    "id": "K3q7Wl8yFfjs"
   },
   "outputs": [],
   "source": [
    "def print_movies_by(tx, name):\n",
    "    for record in tx.run(\"MATCH (a:Person)-[:ACTED_IN]->(anyMovies) \"\n",
    "                         \"WHERE a.name = {name} \"\n",
    "                         \"RETURN anyMovies\", name = name):\n",
    "        print(record[\"anyMovies\"])"
   ]
  },
  {
   "cell_type": "markdown",
   "metadata": {
    "colab_type": "text",
    "id": "MTNO6Y6eFfjx"
   },
   "source": [
    "Here is how to use it to list Tom Hanks' movies:"
   ]
  },
  {
   "cell_type": "code",
   "execution_count": 7,
   "metadata": {
    "colab": {},
    "colab_type": "code",
    "id": "eQTlrnveFfjy"
   },
   "outputs": [
    {
     "ename": "NameError",
     "evalue": "name 'driver' is not defined",
     "output_type": "error",
     "traceback": [
      "\u001b[0;31m---------------------------------------------------------------------------\u001b[0m",
      "\u001b[0;31mNameError\u001b[0m                                 Traceback (most recent call last)",
      "\u001b[0;32m<ipython-input-7-3ffcfbd3c2cc>\u001b[0m in \u001b[0;36m<module>\u001b[0;34m\u001b[0m\n\u001b[0;32m----> 1\u001b[0;31m \u001b[0;32mwith\u001b[0m \u001b[0mdriver\u001b[0m\u001b[0;34m.\u001b[0m\u001b[0msession\u001b[0m\u001b[0;34m(\u001b[0m\u001b[0;34m)\u001b[0m \u001b[0;32mas\u001b[0m \u001b[0msession\u001b[0m\u001b[0;34m:\u001b[0m\u001b[0;34m\u001b[0m\u001b[0;34m\u001b[0m\u001b[0m\n\u001b[0m\u001b[1;32m      2\u001b[0m     \u001b[0msession\u001b[0m\u001b[0;34m.\u001b[0m\u001b[0mread_transaction\u001b[0m\u001b[0;34m(\u001b[0m\u001b[0mprint_movies_by\u001b[0m\u001b[0;34m,\u001b[0m \u001b[0;34m\"Tom Hanks\"\u001b[0m\u001b[0;34m)\u001b[0m\u001b[0;34m\u001b[0m\u001b[0;34m\u001b[0m\u001b[0m\n",
      "\u001b[0;31mNameError\u001b[0m: name 'driver' is not defined"
     ]
    }
   ],
   "source": [
    "with driver.session() as session:\n",
    "    session.read_transaction(print_movies_by, \"Tom Hanks\")"
   ]
  },
  {
   "cell_type": "markdown",
   "metadata": {
    "colab_type": "text",
    "id": "QDEBcR_5Ffj1"
   },
   "source": [
    "Clearly, some further wrangling is required to produce neat output. (Read the documentation before you attempt this.) "
   ]
  },
  {
   "cell_type": "markdown",
   "metadata": {
    "colab_type": "text",
    "id": "joJo0-GmFfj1"
   },
   "source": [
    "In fact, both the method of using the Neo4j Bolt Driver and the data returned by it are unwieldy. This is typical of low-level drivers. "
   ]
  },
  {
   "cell_type": "markdown",
   "metadata": {
    "colab_type": "text",
    "id": "bG--AtaEFfj2"
   },
   "source": [
    "Try building and running some more queries based on the code in examples queries in The Movie Graph tutorial."
   ]
  },
  {
   "cell_type": "code",
   "execution_count": 0,
   "metadata": {
    "colab": {},
    "colab_type": "code",
    "id": "kaXi-OExFfj6"
   },
   "outputs": [],
   "source": [
    "# Obviously the Neo4j server wasnt working for me locally. Used the Sandbox application to run the movie tutorial. "
   ]
  },
  {
   "cell_type": "markdown",
   "metadata": {
    "colab_type": "text",
    "id": "sNOPRB7rFfj9"
   },
   "source": [
    "## - END -"
   ]
  },
  {
   "cell_type": "markdown",
   "metadata": {
    "colab_type": "text",
    "id": "IS5Tc4z9FoYy"
   },
   "source": [
    ">"
   ]
  },
  {
   "cell_type": "markdown",
   "metadata": {
    "colab_type": "text",
    "id": "mxI2We9OFpfs"
   },
   "source": [
    ">"
   ]
  },
  {
   "cell_type": "markdown",
   "metadata": {
    "colab_type": "text",
    "id": "81DoNxN1FqGN"
   },
   "source": [
    ">"
   ]
  },
  {
   "cell_type": "markdown",
   "metadata": {
    "colab_type": "text",
    "id": "RERADKgNFq9T"
   },
   "source": [
    "\n",
    "\n",
    "---\n",
    "\n",
    "\n",
    "\n",
    "---\n",
    "\n",
    "\n",
    "\n",
    "> > > > > > > > > © 2019 Institute of Data\n",
    "\n",
    "\n",
    "---\n",
    "\n",
    "\n",
    "\n",
    "---\n",
    "\n",
    "\n",
    "\n"
   ]
  }
 ],
 "metadata": {
  "colab": {
   "collapsed_sections": [],
   "name": "IOD_Lab 2.1.5.ipynb",
   "provenance": []
  },
  "kernelspec": {
   "display_name": "Python 3",
   "language": "python",
   "name": "python3"
  },
  "language_info": {
   "codemirror_mode": {
    "name": "ipython",
    "version": 3
   },
   "file_extension": ".py",
   "mimetype": "text/x-python",
   "name": "python",
   "nbconvert_exporter": "python",
   "pygments_lexer": "ipython3",
   "version": "3.8.3"
  }
 },
 "nbformat": 4,
 "nbformat_minor": 1
}
